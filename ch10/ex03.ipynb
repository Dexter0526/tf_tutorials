{
 "cells": [
  {
   "cell_type": "markdown",
   "metadata": {},
   "source": [
    "# 사전 훈련된 워드 임베딩(Pre-trained Word Embedding)"
   ]
  },
  {
   "cell_type": "markdown",
   "metadata": {},
   "source": [
    "### 케라스 임베딩 층(Keras Embedding layer)"
   ]
  },
  {
   "cell_type": "markdown",
   "metadata": {},
   "source": [
    "#### 1) 임베딩 층은 룩업 테이블이다."
   ]
  },
  {
   "attachments": {
    "image.png": {
     "image/png": "[encoded data removed]"
    }
   },
   "cell_type": "markdown",
   "metadata": {},
   "source": [
    "어떤 단어 → 단어에 부여된 고유한 정수값 → 임베딩 층 통과 → 밀집 벡터  \n",
    "\n",
    "![image.png](attachment:image.png)"
   ]
  },
  {
   "cell_type": "markdown",
   "metadata": {},
   "source": [
    "<pre>\n",
    "# 아래의 각 인자는 저자가 임의로 선정한 숫자들이며 의미있는 선정 기준이 아님.\n",
    "v = Embedding(20000, 128, input_length=500)\n",
    "# vocab_size = 20000\n",
    "# output_dim = 128\n",
    "# input_length = 500\n",
    "</pre>\n",
    "- vocab_size : 텍스트 데이터의 전체 단어 집합의 크기입니다.\n",
    "- output_dim : 워드 임베딩 후의 임베딩 벡터의 차원입니다.\n",
    "- input_length : 입력 시퀀스의 길이입니다. 만약 갖고있는 각 샘플의 길이가 500개의 단어로 구성되어있다면 이 값은 500이 됩니다."
   ]
  },
  {
   "cell_type": "markdown",
   "metadata": {},
   "source": [
    "#### 2) 임베딩 층 사용하기"
   ]
  },
  {
   "cell_type": "code",
   "execution_count": 3,
   "metadata": {},
   "outputs": [],
   "source": [
    "from tensorflow.keras.preprocessing.text import Tokenizer\n",
    "from tensorflow.keras.preprocessing.sequence import pad_sequences\n",
    "import numpy as np"
   ]
  },
  {
   "cell_type": "code",
   "execution_count": 5,
   "metadata": {},
   "outputs": [],
   "source": [
    "sentences = ['nice great best amazing', 'stop lies', 'pitiful nerd', 'excellent work', 'supreme quality', 'bad', 'highly respectable']\n",
    "# 정답 레이블(감성)\n",
    "y_train = [1, 0, 0, 1, 1, 0, 1]"
   ]
  },
  {
   "cell_type": "code",
   "execution_count": 7,
   "metadata": {},
   "outputs": [
    {
     "name": "stdout",
     "output_type": "stream",
     "text": [
      "16\n"
     ]
    }
   ],
   "source": [
    "t =  Tokenizer()\n",
    "t.fit_on_texts(sentences)\n",
    "vocab_size = len(t.word_index) + 1\n",
    "\n",
    "print(vocab_size)"
   ]
  },
  {
   "cell_type": "code",
   "execution_count": 8,
   "metadata": {},
   "outputs": [
    {
     "name": "stdout",
     "output_type": "stream",
     "text": [
      "[[1, 2, 3, 4], [5, 6], [7, 8], [9, 10], [11, 12], [13], [14, 15]]\n"
     ]
    }
   ],
   "source": [
    "X_encoded = t.texts_to_sequences(sentences)\n",
    "print(X_encoded)"
   ]
  },
  {
   "cell_type": "code",
   "execution_count": 9,
   "metadata": {},
   "outputs": [
    {
     "name": "stdout",
     "output_type": "stream",
     "text": [
      "4\n"
     ]
    }
   ],
   "source": [
    "max_len = max(len(l) for l in X_encoded)\n",
    "print(max_len)"
   ]
  },
  {
   "cell_type": "code",
   "execution_count": 12,
   "metadata": {},
   "outputs": [
    {
     "name": "stdout",
     "output_type": "stream",
     "text": [
      "X_train : \n",
      "[[ 1  2  3  4]\n",
      " [ 0  0  5  6]\n",
      " [ 0  0  7  8]\n",
      " [ 0  0  9 10]\n",
      " [ 0  0 11 12]\n",
      " [ 0  0  0 13]\n",
      " [ 0  0 14 15]]\n",
      "y_train : \n",
      "[1 0 0 1 1 0 1]\n"
     ]
    }
   ],
   "source": [
    "X_train = pad_sequences(X_encoded, maxlen=max_len, padding='pre')\n",
    "y_train = np.array(y_train)\n",
    "print('X_train : ')\n",
    "print(X_train)\n",
    "print('y_train : ')\n",
    "print(y_train)"
   ]
  },
  {
   "cell_type": "code",
   "execution_count": 13,
   "metadata": {},
   "outputs": [],
   "source": [
    "from tensorflow.keras.models import Sequential\n",
    "from tensorflow.keras.layers import Dense, Embedding, Flatten"
   ]
  },
  {
   "cell_type": "code",
   "execution_count": 19,
   "metadata": {},
   "outputs": [],
   "source": [
    "model = Sequential()\n",
    "model.add(Embedding(vocab_size, 4, input_length = max_len))\n",
    "model.add(Flatten()) # Dense의 입력으로 넣기위함.\n",
    "model.add(Dense(1, activation='sigmoid'))"
   ]
  },
  {
   "cell_type": "code",
   "execution_count": 20,
   "metadata": {},
   "outputs": [
    {
     "name": "stdout",
     "output_type": "stream",
     "text": [
      "Train on 7 samples\n",
      "Epoch 1/50\n",
      "7/7 - 1s - loss: 0.6888 - acc: 0.7143\n",
      "Epoch 2/50\n",
      "7/7 - 0s - loss: 0.6875 - acc: 0.7143\n",
      "Epoch 3/50\n",
      "7/7 - 0s - loss: 0.6862 - acc: 0.7143\n",
      "Epoch 4/50\n",
      "7/7 - 0s - loss: 0.6849 - acc: 0.7143\n",
      "Epoch 5/50\n",
      "7/7 - 0s - loss: 0.6836 - acc: 0.7143\n",
      "Epoch 6/50\n",
      "7/7 - 0s - loss: 0.6823 - acc: 0.8571\n",
      "Epoch 7/50\n",
      "7/7 - 0s - loss: 0.6810 - acc: 0.8571\n",
      "Epoch 8/50\n",
      "7/7 - 0s - loss: 0.6797 - acc: 0.8571\n",
      "Epoch 9/50\n",
      "7/7 - 0s - loss: 0.6784 - acc: 1.0000\n",
      "Epoch 10/50\n",
      "7/7 - 0s - loss: 0.6770 - acc: 1.0000\n",
      "Epoch 11/50\n",
      "7/7 - 0s - loss: 0.6757 - acc: 1.0000\n",
      "Epoch 12/50\n",
      "7/7 - 0s - loss: 0.6744 - acc: 1.0000\n",
      "Epoch 13/50\n",
      "7/7 - 0s - loss: 0.6731 - acc: 1.0000\n",
      "Epoch 14/50\n",
      "7/7 - 0s - loss: 0.6717 - acc: 1.0000\n",
      "Epoch 15/50\n",
      "7/7 - 0s - loss: 0.6704 - acc: 1.0000\n",
      "Epoch 16/50\n",
      "7/7 - 0s - loss: 0.6691 - acc: 1.0000\n",
      "Epoch 17/50\n",
      "7/7 - 0s - loss: 0.6677 - acc: 1.0000\n",
      "Epoch 18/50\n",
      "7/7 - 0s - loss: 0.6664 - acc: 1.0000\n",
      "Epoch 19/50\n",
      "7/7 - 0s - loss: 0.6650 - acc: 1.0000\n",
      "Epoch 20/50\n",
      "7/7 - 0s - loss: 0.6636 - acc: 1.0000\n",
      "Epoch 21/50\n",
      "7/7 - 0s - loss: 0.6623 - acc: 1.0000\n",
      "Epoch 22/50\n",
      "7/7 - 0s - loss: 0.6609 - acc: 1.0000\n",
      "Epoch 23/50\n",
      "7/7 - 0s - loss: 0.6595 - acc: 1.0000\n",
      "Epoch 24/50\n",
      "7/7 - 0s - loss: 0.6581 - acc: 1.0000\n",
      "Epoch 25/50\n",
      "7/7 - 0s - loss: 0.6567 - acc: 1.0000\n",
      "Epoch 26/50\n",
      "7/7 - 0s - loss: 0.6553 - acc: 1.0000\n",
      "Epoch 27/50\n",
      "7/7 - 0s - loss: 0.6539 - acc: 1.0000\n",
      "Epoch 28/50\n",
      "7/7 - 0s - loss: 0.6524 - acc: 1.0000\n",
      "Epoch 29/50\n",
      "7/7 - 0s - loss: 0.6510 - acc: 1.0000\n",
      "Epoch 30/50\n",
      "7/7 - 0s - loss: 0.6495 - acc: 1.0000\n",
      "Epoch 31/50\n",
      "7/7 - 0s - loss: 0.6481 - acc: 1.0000\n",
      "Epoch 32/50\n",
      "7/7 - 0s - loss: 0.6466 - acc: 1.0000\n",
      "Epoch 33/50\n",
      "7/7 - 0s - loss: 0.6451 - acc: 1.0000\n",
      "Epoch 34/50\n",
      "7/7 - 0s - loss: 0.6437 - acc: 1.0000\n",
      "Epoch 35/50\n",
      "7/7 - 0s - loss: 0.6422 - acc: 1.0000\n",
      "Epoch 36/50\n",
      "7/7 - 0s - loss: 0.6407 - acc: 1.0000\n",
      "Epoch 37/50\n",
      "7/7 - 0s - loss: 0.6391 - acc: 1.0000\n",
      "Epoch 38/50\n",
      "7/7 - 0s - loss: 0.6376 - acc: 1.0000\n",
      "Epoch 39/50\n",
      "7/7 - 0s - loss: 0.6361 - acc: 1.0000\n",
      "Epoch 40/50\n",
      "7/7 - 0s - loss: 0.6345 - acc: 1.0000\n",
      "Epoch 41/50\n",
      "7/7 - 0s - loss: 0.6330 - acc: 1.0000\n",
      "Epoch 42/50\n",
      "7/7 - 0s - loss: 0.6314 - acc: 1.0000\n",
      "Epoch 43/50\n",
      "7/7 - 0s - loss: 0.6298 - acc: 1.0000\n",
      "Epoch 44/50\n",
      "7/7 - 0s - loss: 0.6283 - acc: 1.0000\n",
      "Epoch 45/50\n",
      "7/7 - 0s - loss: 0.6267 - acc: 1.0000\n",
      "Epoch 46/50\n",
      "7/7 - 0s - loss: 0.6251 - acc: 1.0000\n",
      "Epoch 47/50\n",
      "7/7 - 0s - loss: 0.6234 - acc: 1.0000\n",
      "Epoch 48/50\n",
      "7/7 - 0s - loss: 0.6218 - acc: 1.0000\n",
      "Epoch 49/50\n",
      "7/7 - 0s - loss: 0.6202 - acc: 1.0000\n",
      "Epoch 50/50\n",
      "7/7 - 0s - loss: 0.6185 - acc: 1.0000\n"
     ]
    },
    {
     "data": {
      "text/plain": [
       "<tensorflow.python.keras.callbacks.History at 0x1e69902f608>"
      ]
     },
     "execution_count": 20,
     "metadata": {},
     "output_type": "execute_result"
    }
   ],
   "source": [
    "model.compile(optimizer='adam', loss='binary_crossentropy', metrics=['acc'])\n",
    "model.fit(X_train, y_train, epochs=50, verbose=2)"
   ]
  },
  {
   "cell_type": "markdown",
   "metadata": {},
   "source": [
    "### 사전 훈련된 워드 임베딩(Pre-Trained Word Embedding) 사용하기"
   ]
  },
  {
   "cell_type": "markdown",
   "metadata": {},
   "source": [
    "GloVe 다운로드 링크 : http://nlp.stanford.edu/data/glove.6B.zip  \n",
    "Word2Vec 다운로드 링크 : https://drive.google.com/file/d/0B7XkCwpI5KDYNlNUTTlSS21pQmM"
   ]
  },
  {
   "cell_type": "code",
   "execution_count": 23,
   "metadata": {},
   "outputs": [
    {
     "name": "stdout",
     "output_type": "stream",
     "text": [
      "[[ 1  2  3  4]\n",
      " [ 0  0  5  6]\n",
      " [ 0  0  7  8]\n",
      " [ 0  0  9 10]\n",
      " [ 0  0 11 12]\n",
      " [ 0  0  0 13]\n",
      " [ 0  0 14 15]]\n",
      "[1 0 0 1 1 0 1]\n"
     ]
    }
   ],
   "source": [
    "print(X_train)\n",
    "print(y_train)"
   ]
  },
  {
   "cell_type": "code",
   "execution_count": 25,
   "metadata": {},
   "outputs": [
    {
     "name": "stdout",
     "output_type": "stream",
     "text": [
      "['the', '-0.038194', '-0.24487', '0.72812', '-0.39961', '0.083172', '0.043953', '-0.39141', '0.3344', '-0.57545', '0.087459', '0.28787', '-0.06731', '0.30906', '-0.26384', '-0.13231', '-0.20757', '0.33395', '-0.33848', '-0.31743', '-0.48336', '0.1464', '-0.37304', '0.34577', '0.052041', '0.44946', '-0.46971', '0.02628', '-0.54155', '-0.15518', '-0.14107', '-0.039722', '0.28277', '0.14393', '0.23464', '-0.31021', '0.086173', '0.20397', '0.52624', '0.17164', '-0.082378', '-0.71787', '-0.41531', '0.20335', '-0.12763', '0.41367', '0.55187', '0.57908', '-0.33477', '-0.36559', '-0.54857', '-0.062892', '0.26584', '0.30205', '0.99775', '-0.80481', '-3.0243', '0.01254', '-0.36942', '2.2167', '0.72201', '-0.24978', '0.92136', '0.034514', '0.46745', '1.1079', '-0.19358', '-0.074575', '0.23353', '-0.052062', '-0.22044', '0.057162', '-0.15806', '-0.30798', '-0.41625', '0.37972', '0.15006', '-0.53212', '-0.2055', '-1.2526', '0.071624', '0.70565', '0.49744', '-0.42063', '0.26148', '-1.538', '-0.30223', '-0.073438', '-0.28312', '0.37104', '-0.25217', '0.016215', '-0.017099', '-0.38984', '0.87424', '-0.72569', '-0.51058', '-0.52028', '-0.1459', '0.8278', '0.27062']\n",
      "the\n",
      "[',', '-0.10767', '0.11053', '0.59812', '-0.54361', '0.67396', '0.10663', '0.038867', '0.35481', '0.06351', '-0.094189', '0.15786', '-0.81665', '0.14172', '0.21939', '0.58505', '-0.52158', '0.22783', '-0.16642', '-0.68228', '0.3587', '0.42568', '0.19021', '0.91963', '0.57555', '0.46185', '0.42363', '-0.095399', '-0.42749', '-0.16567', '-0.056842', '-0.29595', '0.26037', '-0.26606', '-0.070404', '-0.27662', '0.15821', '0.69825', '0.43081', '0.27952', '-0.45437', '-0.33801', '-0.58184', '0.22364', '-0.5778', '-0.26862', '-0.20425', '0.56394', '-0.58524', '-0.14365', '-0.64218', '0.0054697', '-0.35248', '0.16162', '1.1796', '-0.47674', '-2.7553', '-0.1321', '-0.047729', '1.0655', '1.1034', '-0.2208', '0.18669', '0.13177', '0.15117', '0.7131', '-0.35215', '0.91348', '0.61783', '0.70992', '0.23955', '-0.14571', '-0.37859', '-0.045959', '-0.47368', '0.2385', '0.20536', '-0.18996', '0.32507', '-1.1112', '-0.36341', '0.98679', '-0.084776', '-0.54008', '0.11726', '-1.0194', '-0.24424', '0.12771', '0.013884', '0.080374', '-0.35414', '0.34951', '-0.7226', '0.37549', '0.4441', '-0.99059', '0.61214', '-0.35111', '-0.83155', '0.45293', '0.082577']\n",
      ",\n"
     ]
    }
   ],
   "source": [
    "n = 0\n",
    "f = open('C:/Users/it/Downloads/dataset/model/glove.6B/glove.6B.100d.txt', encoding=\"utf-8\")\n",
    "\n",
    "for line in f:\n",
    "    word_vector = line.split()\n",
    "    print(word_vector)\n",
    "    word = word_vector[0]\n",
    "    print(word)\n",
    "    n = n + 1\n",
    "    if n==2:\n",
    "        break\n",
    "f.close()"
   ]
  },
  {
   "cell_type": "code",
   "execution_count": 26,
   "metadata": {},
   "outputs": [
    {
     "name": "stdout",
     "output_type": "stream",
     "text": [
      "<class 'list'>\n",
      "101\n"
     ]
    }
   ],
   "source": [
    "print(type(word_vector))\n",
    "print(len(word_vector))"
   ]
  },
  {
   "cell_type": "code",
   "execution_count": 24,
   "metadata": {},
   "outputs": [],
   "source": [
    "import numpy as np"
   ]
  },
  {
   "cell_type": "code",
   "execution_count": 27,
   "metadata": {},
   "outputs": [
    {
     "name": "stdout",
     "output_type": "stream",
     "text": [
      "400000개의 Embedding vector가 있습니다.\n"
     ]
    }
   ],
   "source": [
    "embedding_dict = dict()\n",
    "f = open('C:/Users/it/Downloads/dataset/model/glove.6B/glove.6B.100d.txt', encoding=\"utf-8\")\n",
    "\n",
    "for line in f:\n",
    "    word_vector = line.split()\n",
    "    word = word_vector[0]\n",
    "    word_vector_arr = np.asarray(word_vector[1:], dtype='float32')\n",
    "    embedding_dict[word] = word_vector_arr\n",
    "f.close()\n",
    "print('%s개의 Embedding vector가 있습니다.' %len(embedding_dict))"
   ]
  },
  {
   "cell_type": "code",
   "execution_count": 29,
   "metadata": {},
   "outputs": [
    {
     "name": "stdout",
     "output_type": "stream",
     "text": [
      "[-0.26057   0.13497  -0.30116  -0.060855 -0.6226   -0.14868  -0.3421\n",
      "  0.010509  0.30815  -0.16048   0.23701   0.21842   0.31249  -0.47274\n",
      " -0.32105  -0.55265   0.45469   0.75399  -0.51536   0.24941   0.13832\n",
      " -0.24741   0.20935  -0.248    -0.41075  -0.45544  -0.35843  -0.57247\n",
      "  1.0253   -0.21348  -0.34057   0.79428  -0.3984    0.013216  0.78371\n",
      "  0.27445  -0.27586   0.11772   0.33587   0.044887 -0.40725  -0.058387\n",
      " -0.093796 -0.80225  -0.15635   0.16576   0.28127  -0.31268   0.075171\n",
      " -0.87361  -0.15511   0.12278   0.3186    1.0496    0.76569  -2.2818\n",
      " -0.042756 -0.36131   1.5883    0.26367   0.081247  0.72454  -0.66271\n",
      "  0.17178   0.90291   0.23845   0.10645   0.62819  -0.27068  -0.51977\n",
      "  0.16073  -0.63504   0.19489  -0.6877    0.29835  -0.066108 -0.60602\n",
      " -0.32513  -0.12218   0.095966  0.61644   0.18535  -0.73239  -0.012384\n",
      " -1.6379   -0.21334   0.72614   0.18554  -0.39467   0.07759   0.010402\n",
      " -0.028466  0.26891  -0.7474   -0.56966  -0.01743  -0.079698 -0.46821\n",
      "  0.32484  -0.078643]\n",
      "100\n"
     ]
    }
   ],
   "source": [
    "print(embedding_dict['able'])\n",
    "print(len(embedding_dict['able']))"
   ]
  },
  {
   "cell_type": "code",
   "execution_count": 32,
   "metadata": {},
   "outputs": [
    {
     "data": {
      "text/plain": [
       "(16, 100)"
      ]
     },
     "execution_count": 32,
     "metadata": {},
     "output_type": "execute_result"
    }
   ],
   "source": [
    "embedding_matrix = np.zeros((vocab_size, 100))\n",
    "np.shape(embedding_matrix)"
   ]
  },
  {
   "cell_type": "code",
   "execution_count": 33,
   "metadata": {},
   "outputs": [
    {
     "name": "stdout",
     "output_type": "stream",
     "text": [
      "dict_items([('nice', 1), ('great', 2), ('best', 3), ('amazing', 4), ('stop', 5), ('lies', 6), ('pitiful', 7), ('nerd', 8), ('excellent', 9), ('work', 10), ('supreme', 11), ('quality', 12), ('bad', 13), ('highly', 14), ('respectable', 15)])\n"
     ]
    }
   ],
   "source": [
    "print(t.word_index.items())"
   ]
  },
  {
   "cell_type": "code",
   "execution_count": 34,
   "metadata": {},
   "outputs": [],
   "source": [
    "for word, i in t.word_index.items():\n",
    "    temp = embedding_dict.get(word) # 단어(key) 해당되는 임베딩 벡터의 100개의 값(value)를 임시 변수에 저장\n",
    "    if temp is not None:\n",
    "        embedding_matrix[i] = temp # 임수 변수의 값을 단어와 맵핑되는 인덱스의 행에 삽입"
   ]
  },
  {
   "cell_type": "code",
   "execution_count": 48,
   "metadata": {},
   "outputs": [
    {
     "name": "stdout",
     "output_type": "stream",
     "text": [
      "[[-0.18554001  0.047152    0.34867001 -0.23114    -0.26082999  0.63107997\n",
      "   0.55686998  0.61622    -0.15436999 -0.38381001  0.12445    -0.26999\n",
      "  -0.29196     0.1125      0.36035001  0.70688999 -0.33891001 -0.26949999\n",
      "   0.17481001  0.97048002  0.23014     0.63168001 -0.24542999 -0.72890002\n",
      "   0.32517001 -0.21118    -0.80353999 -0.59863001 -0.10182    -0.87826002\n",
      "  -0.80162001  0.20998999  0.64598    -0.38238999  0.64512002  0.73045999\n",
      "  -0.19881     0.35716999  0.19135    -0.43686     0.75955999 -0.66430998\n",
      "   0.34509    -1.03830004 -0.50490999  0.19976    -0.041208    0.16952001\n",
      "   0.17821001 -0.84249002  0.21991999 -0.16474    -0.24669001  0.34117001\n",
      "  -0.59713    -2.3434      0.31483999  0.69668001  0.53368002 -0.62857002\n",
      "  -0.197       0.52240998 -1.59029996 -0.16474999  0.62553    -0.094116\n",
      "   0.0070705   0.22617    -0.45697999 -0.53267998  0.11573    -0.19052\n",
      "   0.28086001 -0.55909997  0.35291001  0.42552     0.47334    -0.41046\n",
      "   0.47275001  0.22753    -0.097073   -0.11809    -0.25613001 -0.10689\n",
      "  -1.27880001 -0.085504    0.20205     0.23338    -0.52938998 -0.49491999\n",
      "   0.15289    -0.31323999  0.41248    -0.10425    -0.65245998  0.48348001\n",
      "  -0.54843998  0.095473   -0.1142      0.32743001]]\n"
     ]
    }
   ],
   "source": [
    "print(embedding_matrix[1:2]) # nice"
   ]
  },
  {
   "cell_type": "code",
   "execution_count": 35,
   "metadata": {},
   "outputs": [],
   "source": [
    "from tensorflow.keras.models import Sequential\n",
    "from tensorflow.keras.layers import Dense, Embedding, Flatten"
   ]
  },
  {
   "cell_type": "code",
   "execution_count": 50,
   "metadata": {},
   "outputs": [],
   "source": [
    "model = Sequential()\n",
    "e = Embedding(vocab_size, 100, weights=[embedding_matrix], input_length=max_len, trainable=False)"
   ]
  },
  {
   "cell_type": "markdown",
   "metadata": {},
   "source": [
    "사전 훈련된 워드 임베딩을 그대로 사용할 것이므로, 별도로 더 이상 훈련을 하지 않는다는 옵션을 줍니다. 이는 trainable=False로 선택할 수 있습니다."
   ]
  },
  {
   "cell_type": "code",
   "execution_count": 51,
   "metadata": {},
   "outputs": [
    {
     "name": "stdout",
     "output_type": "stream",
     "text": [
      "Train on 7 samples\n",
      "Epoch 1/100\n",
      "7/7 - 0s - loss: 0.8933 - acc: 0.2857\n",
      "Epoch 2/100\n",
      "7/7 - 0s - loss: 0.8665 - acc: 0.4286\n",
      "Epoch 3/100\n",
      "7/7 - 0s - loss: 0.8408 - acc: 0.4286\n",
      "Epoch 4/100\n",
      "7/7 - 0s - loss: 0.8160 - acc: 0.4286\n",
      "Epoch 5/100\n",
      "7/7 - 0s - loss: 0.7922 - acc: 0.4286\n",
      "Epoch 6/100\n",
      "7/7 - 0s - loss: 0.7694 - acc: 0.4286\n",
      "Epoch 7/100\n",
      "7/7 - 0s - loss: 0.7476 - acc: 0.4286\n",
      "Epoch 8/100\n",
      "7/7 - 0s - loss: 0.7268 - acc: 0.4286\n",
      "Epoch 9/100\n",
      "7/7 - 0s - loss: 0.7070 - acc: 0.4286\n",
      "Epoch 10/100\n",
      "7/7 - 0s - loss: 0.6880 - acc: 0.2857\n",
      "Epoch 11/100\n",
      "7/7 - 0s - loss: 0.6700 - acc: 0.4286\n",
      "Epoch 12/100\n",
      "7/7 - 0s - loss: 0.6527 - acc: 0.4286\n",
      "Epoch 13/100\n",
      "7/7 - 0s - loss: 0.6363 - acc: 0.5714\n",
      "Epoch 14/100\n",
      "7/7 - 0s - loss: 0.6205 - acc: 0.5714\n",
      "Epoch 15/100\n",
      "7/7 - 0s - loss: 0.6055 - acc: 0.5714\n",
      "Epoch 16/100\n",
      "7/7 - 0s - loss: 0.5911 - acc: 0.7143\n",
      "Epoch 17/100\n",
      "7/7 - 0s - loss: 0.5774 - acc: 0.7143\n",
      "Epoch 18/100\n",
      "7/7 - 0s - loss: 0.5642 - acc: 0.7143\n",
      "Epoch 19/100\n",
      "7/7 - 0s - loss: 0.5515 - acc: 0.7143\n",
      "Epoch 20/100\n",
      "7/7 - 0s - loss: 0.5394 - acc: 0.7143\n",
      "Epoch 21/100\n",
      "7/7 - 0s - loss: 0.5277 - acc: 0.8571\n",
      "Epoch 22/100\n",
      "7/7 - 0s - loss: 0.5165 - acc: 0.8571\n",
      "Epoch 23/100\n",
      "7/7 - 0s - loss: 0.5056 - acc: 0.8571\n",
      "Epoch 24/100\n",
      "7/7 - 0s - loss: 0.4952 - acc: 0.8571\n",
      "Epoch 25/100\n",
      "7/7 - 0s - loss: 0.4851 - acc: 0.8571\n",
      "Epoch 26/100\n",
      "7/7 - 0s - loss: 0.4753 - acc: 0.8571\n",
      "Epoch 27/100\n",
      "7/7 - 0s - loss: 0.4659 - acc: 1.0000\n",
      "Epoch 28/100\n",
      "7/7 - 0s - loss: 0.4568 - acc: 1.0000\n",
      "Epoch 29/100\n",
      "7/7 - 0s - loss: 0.4479 - acc: 1.0000\n",
      "Epoch 30/100\n",
      "7/7 - 0s - loss: 0.4393 - acc: 1.0000\n",
      "Epoch 31/100\n",
      "7/7 - 0s - loss: 0.4309 - acc: 1.0000\n",
      "Epoch 32/100\n",
      "7/7 - 0s - loss: 0.4228 - acc: 1.0000\n",
      "Epoch 33/100\n",
      "7/7 - 0s - loss: 0.4149 - acc: 1.0000\n",
      "Epoch 34/100\n",
      "7/7 - 0s - loss: 0.4072 - acc: 1.0000\n",
      "Epoch 35/100\n",
      "7/7 - 0s - loss: 0.3997 - acc: 1.0000\n",
      "Epoch 36/100\n",
      "7/7 - 0s - loss: 0.3924 - acc: 1.0000\n",
      "Epoch 37/100\n",
      "7/7 - 0s - loss: 0.3853 - acc: 1.0000\n",
      "Epoch 38/100\n",
      "7/7 - 0s - loss: 0.3784 - acc: 1.0000\n",
      "Epoch 39/100\n",
      "7/7 - 0s - loss: 0.3716 - acc: 1.0000\n",
      "Epoch 40/100\n",
      "7/7 - 0s - loss: 0.3650 - acc: 1.0000\n",
      "Epoch 41/100\n",
      "7/7 - 0s - loss: 0.3585 - acc: 1.0000\n",
      "Epoch 42/100\n",
      "7/7 - 0s - loss: 0.3522 - acc: 1.0000\n",
      "Epoch 43/100\n",
      "7/7 - 0s - loss: 0.3461 - acc: 1.0000\n",
      "Epoch 44/100\n",
      "7/7 - 0s - loss: 0.3401 - acc: 1.0000\n",
      "Epoch 45/100\n",
      "7/7 - 0s - loss: 0.3342 - acc: 1.0000\n",
      "Epoch 46/100\n",
      "7/7 - 0s - loss: 0.3285 - acc: 1.0000\n",
      "Epoch 47/100\n",
      "7/7 - 0s - loss: 0.3229 - acc: 1.0000\n",
      "Epoch 48/100\n",
      "7/7 - 0s - loss: 0.3174 - acc: 1.0000\n",
      "Epoch 49/100\n",
      "7/7 - 0s - loss: 0.3121 - acc: 1.0000\n",
      "Epoch 50/100\n",
      "7/7 - 0s - loss: 0.3068 - acc: 1.0000\n",
      "Epoch 51/100\n",
      "7/7 - 0s - loss: 0.3017 - acc: 1.0000\n",
      "Epoch 52/100\n",
      "7/7 - 0s - loss: 0.2967 - acc: 1.0000\n",
      "Epoch 53/100\n",
      "7/7 - 0s - loss: 0.2919 - acc: 1.0000\n",
      "Epoch 54/100\n",
      "7/7 - 0s - loss: 0.2871 - acc: 1.0000\n",
      "Epoch 55/100\n",
      "7/7 - 0s - loss: 0.2824 - acc: 1.0000\n",
      "Epoch 56/100\n",
      "7/7 - 0s - loss: 0.2779 - acc: 1.0000\n",
      "Epoch 57/100\n",
      "7/7 - 0s - loss: 0.2734 - acc: 1.0000\n",
      "Epoch 58/100\n",
      "7/7 - 0s - loss: 0.2690 - acc: 1.0000\n",
      "Epoch 59/100\n",
      "7/7 - 0s - loss: 0.2648 - acc: 1.0000\n",
      "Epoch 60/100\n",
      "7/7 - 0s - loss: 0.2606 - acc: 1.0000\n",
      "Epoch 61/100\n",
      "7/7 - 0s - loss: 0.2565 - acc: 1.0000\n",
      "Epoch 62/100\n",
      "7/7 - 0s - loss: 0.2525 - acc: 1.0000\n",
      "Epoch 63/100\n",
      "7/7 - 0s - loss: 0.2486 - acc: 1.0000\n",
      "Epoch 64/100\n",
      "7/7 - 0s - loss: 0.2448 - acc: 1.0000\n",
      "Epoch 65/100\n",
      "7/7 - 0s - loss: 0.2411 - acc: 1.0000\n",
      "Epoch 66/100\n",
      "7/7 - 0s - loss: 0.2374 - acc: 1.0000\n",
      "Epoch 67/100\n",
      "7/7 - 0s - loss: 0.2338 - acc: 1.0000\n",
      "Epoch 68/100\n",
      "7/7 - 0s - loss: 0.2303 - acc: 1.0000\n",
      "Epoch 69/100\n",
      "7/7 - 0s - loss: 0.2269 - acc: 1.0000\n",
      "Epoch 70/100\n",
      "7/7 - 0s - loss: 0.2236 - acc: 1.0000\n",
      "Epoch 71/100\n",
      "7/7 - 0s - loss: 0.2203 - acc: 1.0000\n",
      "Epoch 72/100\n",
      "7/7 - 0s - loss: 0.2171 - acc: 1.0000\n",
      "Epoch 73/100\n",
      "7/7 - 0s - loss: 0.2140 - acc: 1.0000\n",
      "Epoch 74/100\n",
      "7/7 - 0s - loss: 0.2109 - acc: 1.0000\n",
      "Epoch 75/100\n",
      "7/7 - 0s - loss: 0.2079 - acc: 1.0000\n",
      "Epoch 76/100\n",
      "7/7 - 0s - loss: 0.2049 - acc: 1.0000\n",
      "Epoch 77/100\n",
      "7/7 - 0s - loss: 0.2020 - acc: 1.0000\n",
      "Epoch 78/100\n",
      "7/7 - 0s - loss: 0.1992 - acc: 1.0000\n",
      "Epoch 79/100\n",
      "7/7 - 0s - loss: 0.1964 - acc: 1.0000\n",
      "Epoch 80/100\n",
      "7/7 - 0s - loss: 0.1937 - acc: 1.0000\n",
      "Epoch 81/100\n",
      "7/7 - 0s - loss: 0.1911 - acc: 1.0000\n",
      "Epoch 82/100\n",
      "7/7 - 0s - loss: 0.1885 - acc: 1.0000\n",
      "Epoch 83/100\n",
      "7/7 - 0s - loss: 0.1859 - acc: 1.0000\n",
      "Epoch 84/100\n",
      "7/7 - 0s - loss: 0.1834 - acc: 1.0000\n",
      "Epoch 85/100\n",
      "7/7 - 0s - loss: 0.1810 - acc: 1.0000\n",
      "Epoch 86/100\n",
      "7/7 - 0s - loss: 0.1786 - acc: 1.0000\n",
      "Epoch 87/100\n",
      "7/7 - 0s - loss: 0.1762 - acc: 1.0000\n",
      "Epoch 88/100\n",
      "7/7 - 0s - loss: 0.1739 - acc: 1.0000\n",
      "Epoch 89/100\n",
      "7/7 - 0s - loss: 0.1716 - acc: 1.0000\n",
      "Epoch 90/100\n",
      "7/7 - 0s - loss: 0.1694 - acc: 1.0000\n",
      "Epoch 91/100\n",
      "7/7 - 0s - loss: 0.1672 - acc: 1.0000\n",
      "Epoch 92/100\n",
      "7/7 - 0s - loss: 0.1651 - acc: 1.0000\n",
      "Epoch 93/100\n",
      "7/7 - 0s - loss: 0.1630 - acc: 1.0000\n",
      "Epoch 94/100\n",
      "7/7 - 0s - loss: 0.1610 - acc: 1.0000\n",
      "Epoch 95/100\n",
      "7/7 - 0s - loss: 0.1589 - acc: 1.0000\n",
      "Epoch 96/100\n",
      "7/7 - 0s - loss: 0.1570 - acc: 1.0000\n",
      "Epoch 97/100\n",
      "7/7 - 0s - loss: 0.1550 - acc: 1.0000\n",
      "Epoch 98/100\n",
      "7/7 - 0s - loss: 0.1531 - acc: 1.0000\n",
      "Epoch 99/100\n",
      "7/7 - 0s - loss: 0.1513 - acc: 1.0000\n",
      "Epoch 100/100\n",
      "7/7 - 0s - loss: 0.1494 - acc: 1.0000\n"
     ]
    },
    {
     "data": {
      "text/plain": [
       "<tensorflow.python.keras.callbacks.History at 0x1e6ac439608>"
      ]
     },
     "execution_count": 51,
     "metadata": {},
     "output_type": "execute_result"
    }
   ],
   "source": [
    "model.add(e)\n",
    "model.add(Flatten())\n",
    "model.add(Dense(1, activation='sigmoid'))\n",
    "model.compile(optimizer='adam', loss='binary_crossentropy', metrics=['acc'])\n",
    "model.fit(X_train, y_train, epochs=100, verbose=2)"
   ]
  },
  {
   "cell_type": "markdown",
   "metadata": {},
   "source": [
    "#### 2) 사전 훈련된 Word2Vec 사용하기"
   ]
  },
  {
   "cell_type": "code",
   "execution_count": 53,
   "metadata": {},
   "outputs": [],
   "source": [
    "import gensim"
   ]
  },
  {
   "cell_type": "code",
   "execution_count": 54,
   "metadata": {},
   "outputs": [
    {
     "ename": "ImportError",
     "evalue": "Building module glove.glove_inner failed: ['distutils.errors.DistutilsPlatformError: Unable to find vcvarsall.bat\\n']",
     "output_type": "error",
     "traceback": [
      "\u001b[1;31m---------------------------------------------------------------------------\u001b[0m",
      "\u001b[1;31mDistutilsPlatformError\u001b[0m                    Traceback (most recent call last)",
      "\u001b[1;32m~\\.conda\\envs\\protf\\lib\\site-packages\\pyximport\\pyximport.py\u001b[0m in \u001b[0;36mload_module\u001b[1;34m(name, pyxfilename, pyxbuild_dir, is_package, build_inplace, language_level, so_path)\u001b[0m\n\u001b[0;32m    214\u001b[0m             so_path = build_module(module_name, pyxfilename, pyxbuild_dir,\n\u001b[1;32m--> 215\u001b[1;33m                                    inplace=build_inplace, language_level=language_level)\n\u001b[0m\u001b[0;32m    216\u001b[0m         \u001b[0mmod\u001b[0m \u001b[1;33m=\u001b[0m \u001b[0mimp\u001b[0m\u001b[1;33m.\u001b[0m\u001b[0mload_dynamic\u001b[0m\u001b[1;33m(\u001b[0m\u001b[0mname\u001b[0m\u001b[1;33m,\u001b[0m \u001b[0mso_path\u001b[0m\u001b[1;33m)\u001b[0m\u001b[1;33m\u001b[0m\u001b[1;33m\u001b[0m\u001b[0m\n",
      "\u001b[1;32m~\\.conda\\envs\\protf\\lib\\site-packages\\pyximport\\pyximport.py\u001b[0m in \u001b[0;36mbuild_module\u001b[1;34m(name, pyxfilename, pyxbuild_dir, inplace, language_level)\u001b[0m\n\u001b[0;32m    190\u001b[0m                                   \u001b[0minplace\u001b[0m\u001b[1;33m=\u001b[0m\u001b[0minplace\u001b[0m\u001b[1;33m,\u001b[0m\u001b[1;33m\u001b[0m\u001b[1;33m\u001b[0m\u001b[0m\n\u001b[1;32m--> 191\u001b[1;33m                                   reload_support=pyxargs.reload_support)\n\u001b[0m\u001b[0;32m    192\u001b[0m     \u001b[1;32massert\u001b[0m \u001b[0mos\u001b[0m\u001b[1;33m.\u001b[0m\u001b[0mpath\u001b[0m\u001b[1;33m.\u001b[0m\u001b[0mexists\u001b[0m\u001b[1;33m(\u001b[0m\u001b[0mso_path\u001b[0m\u001b[1;33m)\u001b[0m\u001b[1;33m,\u001b[0m \u001b[1;34m\"Cannot find: %s\"\u001b[0m \u001b[1;33m%\u001b[0m \u001b[0mso_path\u001b[0m\u001b[1;33m\u001b[0m\u001b[1;33m\u001b[0m\u001b[0m\n",
      "\u001b[1;32m~\\.conda\\envs\\protf\\lib\\site-packages\\pyximport\\pyxbuild.py\u001b[0m in \u001b[0;36mpyx_to_dll\u001b[1;34m(filename, ext, force_rebuild, build_in_temp, pyxbuild_dir, setup_args, reload_support, inplace)\u001b[0m\n\u001b[0;32m    101\u001b[0m         \u001b[0mobj_build_ext\u001b[0m \u001b[1;33m=\u001b[0m \u001b[0mdist\u001b[0m\u001b[1;33m.\u001b[0m\u001b[0mget_command_obj\u001b[0m\u001b[1;33m(\u001b[0m\u001b[1;34m\"build_ext\"\u001b[0m\u001b[1;33m)\u001b[0m\u001b[1;33m\u001b[0m\u001b[1;33m\u001b[0m\u001b[0m\n\u001b[1;32m--> 102\u001b[1;33m         \u001b[0mdist\u001b[0m\u001b[1;33m.\u001b[0m\u001b[0mrun_commands\u001b[0m\u001b[1;33m(\u001b[0m\u001b[1;33m)\u001b[0m\u001b[1;33m\u001b[0m\u001b[1;33m\u001b[0m\u001b[0m\n\u001b[0m\u001b[0;32m    103\u001b[0m         \u001b[0mso_path\u001b[0m \u001b[1;33m=\u001b[0m \u001b[0mobj_build_ext\u001b[0m\u001b[1;33m.\u001b[0m\u001b[0mget_outputs\u001b[0m\u001b[1;33m(\u001b[0m\u001b[1;33m)\u001b[0m\u001b[1;33m[\u001b[0m\u001b[1;36m0\u001b[0m\u001b[1;33m]\u001b[0m\u001b[1;33m\u001b[0m\u001b[1;33m\u001b[0m\u001b[0m\n",
      "\u001b[1;32m~\\.conda\\envs\\protf\\lib\\distutils\\dist.py\u001b[0m in \u001b[0;36mrun_commands\u001b[1;34m(self)\u001b[0m\n\u001b[0;32m    965\u001b[0m         \u001b[1;32mfor\u001b[0m \u001b[0mcmd\u001b[0m \u001b[1;32min\u001b[0m \u001b[0mself\u001b[0m\u001b[1;33m.\u001b[0m\u001b[0mcommands\u001b[0m\u001b[1;33m:\u001b[0m\u001b[1;33m\u001b[0m\u001b[1;33m\u001b[0m\u001b[0m\n\u001b[1;32m--> 966\u001b[1;33m             \u001b[0mself\u001b[0m\u001b[1;33m.\u001b[0m\u001b[0mrun_command\u001b[0m\u001b[1;33m(\u001b[0m\u001b[0mcmd\u001b[0m\u001b[1;33m)\u001b[0m\u001b[1;33m\u001b[0m\u001b[1;33m\u001b[0m\u001b[0m\n\u001b[0m\u001b[0;32m    967\u001b[0m \u001b[1;33m\u001b[0m\u001b[0m\n",
      "\u001b[1;32m~\\.conda\\envs\\protf\\lib\\distutils\\dist.py\u001b[0m in \u001b[0;36mrun_command\u001b[1;34m(self, command)\u001b[0m\n\u001b[0;32m    984\u001b[0m         \u001b[0mcmd_obj\u001b[0m\u001b[1;33m.\u001b[0m\u001b[0mensure_finalized\u001b[0m\u001b[1;33m(\u001b[0m\u001b[1;33m)\u001b[0m\u001b[1;33m\u001b[0m\u001b[1;33m\u001b[0m\u001b[0m\n\u001b[1;32m--> 985\u001b[1;33m         \u001b[0mcmd_obj\u001b[0m\u001b[1;33m.\u001b[0m\u001b[0mrun\u001b[0m\u001b[1;33m(\u001b[0m\u001b[1;33m)\u001b[0m\u001b[1;33m\u001b[0m\u001b[1;33m\u001b[0m\u001b[0m\n\u001b[0m\u001b[0;32m    986\u001b[0m         \u001b[0mself\u001b[0m\u001b[1;33m.\u001b[0m\u001b[0mhave_run\u001b[0m\u001b[1;33m[\u001b[0m\u001b[0mcommand\u001b[0m\u001b[1;33m]\u001b[0m \u001b[1;33m=\u001b[0m \u001b[1;36m1\u001b[0m\u001b[1;33m\u001b[0m\u001b[1;33m\u001b[0m\u001b[0m\n",
      "\u001b[1;32m~\\.conda\\envs\\protf\\lib\\site-packages\\Cython\\Distutils\\old_build_ext.py\u001b[0m in \u001b[0;36mrun\u001b[1;34m(self)\u001b[0m\n\u001b[0;32m    185\u001b[0m \u001b[1;33m\u001b[0m\u001b[0m\n\u001b[1;32m--> 186\u001b[1;33m         \u001b[0m_build_ext\u001b[0m\u001b[1;33m.\u001b[0m\u001b[0mbuild_ext\u001b[0m\u001b[1;33m.\u001b[0m\u001b[0mrun\u001b[0m\u001b[1;33m(\u001b[0m\u001b[0mself\u001b[0m\u001b[1;33m)\u001b[0m\u001b[1;33m\u001b[0m\u001b[1;33m\u001b[0m\u001b[0m\n\u001b[0m\u001b[0;32m    187\u001b[0m \u001b[1;33m\u001b[0m\u001b[0m\n",
      "\u001b[1;32m~\\.conda\\envs\\protf\\lib\\distutils\\command\\build_ext.py\u001b[0m in \u001b[0;36mrun\u001b[1;34m(self)\u001b[0m\n\u001b[0;32m    339\u001b[0m         \u001b[1;31m# Now actually compile and link everything.\u001b[0m\u001b[1;33m\u001b[0m\u001b[1;33m\u001b[0m\u001b[1;33m\u001b[0m\u001b[0m\n\u001b[1;32m--> 340\u001b[1;33m         \u001b[0mself\u001b[0m\u001b[1;33m.\u001b[0m\u001b[0mbuild_extensions\u001b[0m\u001b[1;33m(\u001b[0m\u001b[1;33m)\u001b[0m\u001b[1;33m\u001b[0m\u001b[1;33m\u001b[0m\u001b[0m\n\u001b[0m\u001b[0;32m    341\u001b[0m \u001b[1;33m\u001b[0m\u001b[0m\n",
      "\u001b[1;32m~\\.conda\\envs\\protf\\lib\\site-packages\\Cython\\Distutils\\old_build_ext.py\u001b[0m in \u001b[0;36mbuild_extensions\u001b[1;34m(self)\u001b[0m\n\u001b[0;32m    193\u001b[0m             \u001b[0mext\u001b[0m\u001b[1;33m.\u001b[0m\u001b[0msources\u001b[0m \u001b[1;33m=\u001b[0m \u001b[0mself\u001b[0m\u001b[1;33m.\u001b[0m\u001b[0mcython_sources\u001b[0m\u001b[1;33m(\u001b[0m\u001b[0mext\u001b[0m\u001b[1;33m.\u001b[0m\u001b[0msources\u001b[0m\u001b[1;33m,\u001b[0m \u001b[0mext\u001b[0m\u001b[1;33m)\u001b[0m\u001b[1;33m\u001b[0m\u001b[1;33m\u001b[0m\u001b[0m\n\u001b[1;32m--> 194\u001b[1;33m             \u001b[0mself\u001b[0m\u001b[1;33m.\u001b[0m\u001b[0mbuild_extension\u001b[0m\u001b[1;33m(\u001b[0m\u001b[0mext\u001b[0m\u001b[1;33m)\u001b[0m\u001b[1;33m\u001b[0m\u001b[1;33m\u001b[0m\u001b[0m\n\u001b[0m\u001b[0;32m    195\u001b[0m \u001b[1;33m\u001b[0m\u001b[0m\n",
      "\u001b[1;32m~\\.conda\\envs\\protf\\lib\\distutils\\command\\build_ext.py\u001b[0m in \u001b[0;36mbuild_extension\u001b[1;34m(self, ext)\u001b[0m\n\u001b[0;32m    533\u001b[0m                                          \u001b[0mextra_postargs\u001b[0m\u001b[1;33m=\u001b[0m\u001b[0mextra_args\u001b[0m\u001b[1;33m,\u001b[0m\u001b[1;33m\u001b[0m\u001b[1;33m\u001b[0m\u001b[0m\n\u001b[1;32m--> 534\u001b[1;33m                                          depends=ext.depends)\n\u001b[0m\u001b[0;32m    535\u001b[0m \u001b[1;33m\u001b[0m\u001b[0m\n",
      "\u001b[1;32m~\\.conda\\envs\\protf\\lib\\distutils\\_msvccompiler.py\u001b[0m in \u001b[0;36mcompile\u001b[1;34m(self, sources, output_dir, macros, include_dirs, debug, extra_preargs, extra_postargs, depends)\u001b[0m\n\u001b[0;32m    345\u001b[0m         \u001b[1;32mif\u001b[0m \u001b[1;32mnot\u001b[0m \u001b[0mself\u001b[0m\u001b[1;33m.\u001b[0m\u001b[0minitialized\u001b[0m\u001b[1;33m:\u001b[0m\u001b[1;33m\u001b[0m\u001b[1;33m\u001b[0m\u001b[0m\n\u001b[1;32m--> 346\u001b[1;33m             \u001b[0mself\u001b[0m\u001b[1;33m.\u001b[0m\u001b[0minitialize\u001b[0m\u001b[1;33m(\u001b[0m\u001b[1;33m)\u001b[0m\u001b[1;33m\u001b[0m\u001b[1;33m\u001b[0m\u001b[0m\n\u001b[0m\u001b[0;32m    347\u001b[0m         compile_info = self._setup_compile(output_dir, macros, include_dirs,\n",
      "\u001b[1;32m~\\.conda\\envs\\protf\\lib\\distutils\\_msvccompiler.py\u001b[0m in \u001b[0;36minitialize\u001b[1;34m(self, plat_name)\u001b[0m\n\u001b[0;32m    238\u001b[0m \u001b[1;33m\u001b[0m\u001b[0m\n\u001b[1;32m--> 239\u001b[1;33m         \u001b[0mvc_env\u001b[0m \u001b[1;33m=\u001b[0m \u001b[0m_get_vc_env\u001b[0m\u001b[1;33m(\u001b[0m\u001b[0mplat_spec\u001b[0m\u001b[1;33m)\u001b[0m\u001b[1;33m\u001b[0m\u001b[1;33m\u001b[0m\u001b[0m\n\u001b[0m\u001b[0;32m    240\u001b[0m         \u001b[1;32mif\u001b[0m \u001b[1;32mnot\u001b[0m \u001b[0mvc_env\u001b[0m\u001b[1;33m:\u001b[0m\u001b[1;33m\u001b[0m\u001b[1;33m\u001b[0m\u001b[0m\n",
      "\u001b[1;32m~\\.conda\\envs\\protf\\lib\\distutils\\_msvccompiler.py\u001b[0m in \u001b[0;36m_get_vc_env\u001b[1;34m(plat_spec)\u001b[0m\n\u001b[0;32m    134\u001b[0m     \u001b[1;32mif\u001b[0m \u001b[1;32mnot\u001b[0m \u001b[0mvcvarsall\u001b[0m\u001b[1;33m:\u001b[0m\u001b[1;33m\u001b[0m\u001b[1;33m\u001b[0m\u001b[0m\n\u001b[1;32m--> 135\u001b[1;33m         \u001b[1;32mraise\u001b[0m \u001b[0mDistutilsPlatformError\u001b[0m\u001b[1;33m(\u001b[0m\u001b[1;34m\"Unable to find vcvarsall.bat\"\u001b[0m\u001b[1;33m)\u001b[0m\u001b[1;33m\u001b[0m\u001b[1;33m\u001b[0m\u001b[0m\n\u001b[0m\u001b[0;32m    136\u001b[0m \u001b[1;33m\u001b[0m\u001b[0m\n",
      "\u001b[1;31mDistutilsPlatformError\u001b[0m: Unable to find vcvarsall.bat",
      "\nDuring handling of the above exception, another exception occurred:\n",
      "\u001b[1;31mImportError\u001b[0m                               Traceback (most recent call last)",
      "\u001b[1;32m<ipython-input-54-7384b61e905d>\u001b[0m in \u001b[0;36m<module>\u001b[1;34m\u001b[0m\n\u001b[1;32m----> 1\u001b[1;33m \u001b[1;32mimport\u001b[0m \u001b[0mglove\u001b[0m\u001b[1;33m\u001b[0m\u001b[1;33m\u001b[0m\u001b[0m\n\u001b[0m",
      "\u001b[1;32m~\\.conda\\envs\\protf\\lib\\site-packages\\glove\\__init__.py\u001b[0m in \u001b[0;36m<module>\u001b[1;34m\u001b[0m\n\u001b[1;32m----> 1\u001b[1;33m \u001b[1;32mfrom\u001b[0m \u001b[1;33m.\u001b[0m\u001b[0mglove\u001b[0m \u001b[1;32mimport\u001b[0m \u001b[0mGlove\u001b[0m\u001b[1;33m\u001b[0m\u001b[1;33m\u001b[0m\u001b[0m\n\u001b[0m\u001b[0;32m      2\u001b[0m \u001b[1;33m\u001b[0m\u001b[0m\n\u001b[0;32m      3\u001b[0m \u001b[0m__all__\u001b[0m \u001b[1;33m=\u001b[0m \u001b[1;33m[\u001b[0m\u001b[1;34m\"Glove\"\u001b[0m\u001b[1;33m]\u001b[0m\u001b[1;33m\u001b[0m\u001b[1;33m\u001b[0m\u001b[0m\n",
      "\u001b[1;32m~\\.conda\\envs\\protf\\lib\\site-packages\\glove\\glove.py\u001b[0m in \u001b[0;36m<module>\u001b[1;34m\u001b[0m\n\u001b[0;32m      6\u001b[0m \u001b[0mpyximport\u001b[0m\u001b[1;33m.\u001b[0m\u001b[0minstall\u001b[0m\u001b[1;33m(\u001b[0m\u001b[0msetup_args\u001b[0m\u001b[1;33m=\u001b[0m\u001b[1;33m{\u001b[0m\u001b[1;34m\"include_dirs\"\u001b[0m\u001b[1;33m:\u001b[0m \u001b[0mnp\u001b[0m\u001b[1;33m.\u001b[0m\u001b[0mget_include\u001b[0m\u001b[1;33m(\u001b[0m\u001b[1;33m)\u001b[0m\u001b[1;33m}\u001b[0m\u001b[1;33m)\u001b[0m\u001b[1;33m\u001b[0m\u001b[1;33m\u001b[0m\u001b[0m\n\u001b[0;32m      7\u001b[0m \u001b[1;33m\u001b[0m\u001b[0m\n\u001b[1;32m----> 8\u001b[1;33m \u001b[1;32mfrom\u001b[0m \u001b[1;33m.\u001b[0m\u001b[0mglove_inner\u001b[0m \u001b[1;32mimport\u001b[0m \u001b[0mtrain_glove\u001b[0m\u001b[1;33m\u001b[0m\u001b[1;33m\u001b[0m\u001b[0m\n\u001b[0m\u001b[0;32m      9\u001b[0m \u001b[1;33m\u001b[0m\u001b[0m\n\u001b[0;32m     10\u001b[0m \u001b[1;32mclass\u001b[0m \u001b[0mGlove\u001b[0m\u001b[1;33m(\u001b[0m\u001b[0mobject\u001b[0m\u001b[1;33m)\u001b[0m\u001b[1;33m:\u001b[0m\u001b[1;33m\u001b[0m\u001b[1;33m\u001b[0m\u001b[0m\n",
      "\u001b[1;32m~\\.conda\\envs\\protf\\lib\\site-packages\\pyximport\\pyximport.py\u001b[0m in \u001b[0;36mload_module\u001b[1;34m(self, fullname)\u001b[0m\n\u001b[0;32m    460\u001b[0m                                  \u001b[0mself\u001b[0m\u001b[1;33m.\u001b[0m\u001b[0mpyxbuild_dir\u001b[0m\u001b[1;33m,\u001b[0m\u001b[1;33m\u001b[0m\u001b[1;33m\u001b[0m\u001b[0m\n\u001b[0;32m    461\u001b[0m                                  \u001b[0mbuild_inplace\u001b[0m\u001b[1;33m=\u001b[0m\u001b[0mself\u001b[0m\u001b[1;33m.\u001b[0m\u001b[0minplace\u001b[0m\u001b[1;33m,\u001b[0m\u001b[1;33m\u001b[0m\u001b[1;33m\u001b[0m\u001b[0m\n\u001b[1;32m--> 462\u001b[1;33m                                  language_level=self.language_level)\n\u001b[0m\u001b[0;32m    463\u001b[0m         \u001b[1;32mreturn\u001b[0m \u001b[0mmodule\u001b[0m\u001b[1;33m\u001b[0m\u001b[1;33m\u001b[0m\u001b[0m\n\u001b[0;32m    464\u001b[0m \u001b[1;33m\u001b[0m\u001b[0m\n",
      "\u001b[1;32m~\\.conda\\envs\\protf\\lib\\site-packages\\pyximport\\pyximport.py\u001b[0m in \u001b[0;36mload_module\u001b[1;34m(name, pyxfilename, pyxbuild_dir, is_package, build_inplace, language_level, so_path)\u001b[0m\n\u001b[0;32m    229\u001b[0m                 name, traceback.format_exception_only(*sys.exc_info()[:2])))\n\u001b[0;32m    230\u001b[0m             \u001b[1;32mif\u001b[0m \u001b[0msys\u001b[0m\u001b[1;33m.\u001b[0m\u001b[0mversion_info\u001b[0m\u001b[1;33m[\u001b[0m\u001b[1;36m0\u001b[0m\u001b[1;33m]\u001b[0m \u001b[1;33m>=\u001b[0m \u001b[1;36m3\u001b[0m\u001b[1;33m:\u001b[0m\u001b[1;33m\u001b[0m\u001b[1;33m\u001b[0m\u001b[0m\n\u001b[1;32m--> 231\u001b[1;33m                 \u001b[1;32mraise\u001b[0m \u001b[0mexc\u001b[0m\u001b[1;33m.\u001b[0m\u001b[0mwith_traceback\u001b[0m\u001b[1;33m(\u001b[0m\u001b[0mtb\u001b[0m\u001b[1;33m)\u001b[0m\u001b[1;33m\u001b[0m\u001b[1;33m\u001b[0m\u001b[0m\n\u001b[0m\u001b[0;32m    232\u001b[0m             \u001b[1;32melse\u001b[0m\u001b[1;33m:\u001b[0m\u001b[1;33m\u001b[0m\u001b[1;33m\u001b[0m\u001b[0m\n\u001b[0;32m    233\u001b[0m                 \u001b[0mexec\u001b[0m\u001b[1;33m(\u001b[0m\u001b[1;34m\"raise exc, None, tb\"\u001b[0m\u001b[1;33m,\u001b[0m \u001b[1;33m{\u001b[0m\u001b[1;34m'exc'\u001b[0m\u001b[1;33m:\u001b[0m \u001b[0mexc\u001b[0m\u001b[1;33m,\u001b[0m \u001b[1;34m'tb'\u001b[0m\u001b[1;33m:\u001b[0m \u001b[0mtb\u001b[0m\u001b[1;33m}\u001b[0m\u001b[1;33m)\u001b[0m\u001b[1;33m\u001b[0m\u001b[1;33m\u001b[0m\u001b[0m\n",
      "\u001b[1;32m~\\.conda\\envs\\protf\\lib\\site-packages\\pyximport\\pyximport.py\u001b[0m in \u001b[0;36mload_module\u001b[1;34m(name, pyxfilename, pyxbuild_dir, is_package, build_inplace, language_level, so_path)\u001b[0m\n\u001b[0;32m    213\u001b[0m                 \u001b[0mmodule_name\u001b[0m \u001b[1;33m=\u001b[0m \u001b[0mname\u001b[0m\u001b[1;33m\u001b[0m\u001b[1;33m\u001b[0m\u001b[0m\n\u001b[0;32m    214\u001b[0m             so_path = build_module(module_name, pyxfilename, pyxbuild_dir,\n\u001b[1;32m--> 215\u001b[1;33m                                    inplace=build_inplace, language_level=language_level)\n\u001b[0m\u001b[0;32m    216\u001b[0m         \u001b[0mmod\u001b[0m \u001b[1;33m=\u001b[0m \u001b[0mimp\u001b[0m\u001b[1;33m.\u001b[0m\u001b[0mload_dynamic\u001b[0m\u001b[1;33m(\u001b[0m\u001b[0mname\u001b[0m\u001b[1;33m,\u001b[0m \u001b[0mso_path\u001b[0m\u001b[1;33m)\u001b[0m\u001b[1;33m\u001b[0m\u001b[1;33m\u001b[0m\u001b[0m\n\u001b[0;32m    217\u001b[0m         \u001b[1;32mif\u001b[0m \u001b[0mis_package\u001b[0m \u001b[1;32mand\u001b[0m \u001b[1;32mnot\u001b[0m \u001b[0mhasattr\u001b[0m\u001b[1;33m(\u001b[0m\u001b[0mmod\u001b[0m\u001b[1;33m,\u001b[0m \u001b[1;34m'__path__'\u001b[0m\u001b[1;33m)\u001b[0m\u001b[1;33m:\u001b[0m\u001b[1;33m\u001b[0m\u001b[1;33m\u001b[0m\u001b[0m\n",
      "\u001b[1;32m~\\.conda\\envs\\protf\\lib\\site-packages\\pyximport\\pyximport.py\u001b[0m in \u001b[0;36mbuild_module\u001b[1;34m(name, pyxfilename, pyxbuild_dir, inplace, language_level)\u001b[0m\n\u001b[0;32m    189\u001b[0m                                   \u001b[0msetup_args\u001b[0m\u001b[1;33m=\u001b[0m\u001b[0msargs\u001b[0m\u001b[1;33m,\u001b[0m\u001b[1;33m\u001b[0m\u001b[1;33m\u001b[0m\u001b[0m\n\u001b[0;32m    190\u001b[0m                                   \u001b[0minplace\u001b[0m\u001b[1;33m=\u001b[0m\u001b[0minplace\u001b[0m\u001b[1;33m,\u001b[0m\u001b[1;33m\u001b[0m\u001b[1;33m\u001b[0m\u001b[0m\n\u001b[1;32m--> 191\u001b[1;33m                                   reload_support=pyxargs.reload_support)\n\u001b[0m\u001b[0;32m    192\u001b[0m     \u001b[1;32massert\u001b[0m \u001b[0mos\u001b[0m\u001b[1;33m.\u001b[0m\u001b[0mpath\u001b[0m\u001b[1;33m.\u001b[0m\u001b[0mexists\u001b[0m\u001b[1;33m(\u001b[0m\u001b[0mso_path\u001b[0m\u001b[1;33m)\u001b[0m\u001b[1;33m,\u001b[0m \u001b[1;34m\"Cannot find: %s\"\u001b[0m \u001b[1;33m%\u001b[0m \u001b[0mso_path\u001b[0m\u001b[1;33m\u001b[0m\u001b[1;33m\u001b[0m\u001b[0m\n\u001b[0;32m    193\u001b[0m \u001b[1;33m\u001b[0m\u001b[0m\n",
      "\u001b[1;32m~\\.conda\\envs\\protf\\lib\\site-packages\\pyximport\\pyxbuild.py\u001b[0m in \u001b[0;36mpyx_to_dll\u001b[1;34m(filename, ext, force_rebuild, build_in_temp, pyxbuild_dir, setup_args, reload_support, inplace)\u001b[0m\n\u001b[0;32m    100\u001b[0m     \u001b[1;32mtry\u001b[0m\u001b[1;33m:\u001b[0m\u001b[1;33m\u001b[0m\u001b[1;33m\u001b[0m\u001b[0m\n\u001b[0;32m    101\u001b[0m         \u001b[0mobj_build_ext\u001b[0m \u001b[1;33m=\u001b[0m \u001b[0mdist\u001b[0m\u001b[1;33m.\u001b[0m\u001b[0mget_command_obj\u001b[0m\u001b[1;33m(\u001b[0m\u001b[1;34m\"build_ext\"\u001b[0m\u001b[1;33m)\u001b[0m\u001b[1;33m\u001b[0m\u001b[1;33m\u001b[0m\u001b[0m\n\u001b[1;32m--> 102\u001b[1;33m         \u001b[0mdist\u001b[0m\u001b[1;33m.\u001b[0m\u001b[0mrun_commands\u001b[0m\u001b[1;33m(\u001b[0m\u001b[1;33m)\u001b[0m\u001b[1;33m\u001b[0m\u001b[1;33m\u001b[0m\u001b[0m\n\u001b[0m\u001b[0;32m    103\u001b[0m         \u001b[0mso_path\u001b[0m \u001b[1;33m=\u001b[0m \u001b[0mobj_build_ext\u001b[0m\u001b[1;33m.\u001b[0m\u001b[0mget_outputs\u001b[0m\u001b[1;33m(\u001b[0m\u001b[1;33m)\u001b[0m\u001b[1;33m[\u001b[0m\u001b[1;36m0\u001b[0m\u001b[1;33m]\u001b[0m\u001b[1;33m\u001b[0m\u001b[1;33m\u001b[0m\u001b[0m\n\u001b[0;32m    104\u001b[0m         \u001b[1;32mif\u001b[0m \u001b[0mobj_build_ext\u001b[0m\u001b[1;33m.\u001b[0m\u001b[0minplace\u001b[0m\u001b[1;33m:\u001b[0m\u001b[1;33m\u001b[0m\u001b[1;33m\u001b[0m\u001b[0m\n",
      "\u001b[1;32m~\\.conda\\envs\\protf\\lib\\distutils\\dist.py\u001b[0m in \u001b[0;36mrun_commands\u001b[1;34m(self)\u001b[0m\n\u001b[0;32m    964\u001b[0m         \"\"\"\n\u001b[0;32m    965\u001b[0m         \u001b[1;32mfor\u001b[0m \u001b[0mcmd\u001b[0m \u001b[1;32min\u001b[0m \u001b[0mself\u001b[0m\u001b[1;33m.\u001b[0m\u001b[0mcommands\u001b[0m\u001b[1;33m:\u001b[0m\u001b[1;33m\u001b[0m\u001b[1;33m\u001b[0m\u001b[0m\n\u001b[1;32m--> 966\u001b[1;33m             \u001b[0mself\u001b[0m\u001b[1;33m.\u001b[0m\u001b[0mrun_command\u001b[0m\u001b[1;33m(\u001b[0m\u001b[0mcmd\u001b[0m\u001b[1;33m)\u001b[0m\u001b[1;33m\u001b[0m\u001b[1;33m\u001b[0m\u001b[0m\n\u001b[0m\u001b[0;32m    967\u001b[0m \u001b[1;33m\u001b[0m\u001b[0m\n\u001b[0;32m    968\u001b[0m     \u001b[1;31m# -- Methods that operate on its Commands --------------------------\u001b[0m\u001b[1;33m\u001b[0m\u001b[1;33m\u001b[0m\u001b[1;33m\u001b[0m\u001b[0m\n",
      "\u001b[1;32m~\\.conda\\envs\\protf\\lib\\distutils\\dist.py\u001b[0m in \u001b[0;36mrun_command\u001b[1;34m(self, command)\u001b[0m\n\u001b[0;32m    983\u001b[0m         \u001b[0mcmd_obj\u001b[0m \u001b[1;33m=\u001b[0m \u001b[0mself\u001b[0m\u001b[1;33m.\u001b[0m\u001b[0mget_command_obj\u001b[0m\u001b[1;33m(\u001b[0m\u001b[0mcommand\u001b[0m\u001b[1;33m)\u001b[0m\u001b[1;33m\u001b[0m\u001b[1;33m\u001b[0m\u001b[0m\n\u001b[0;32m    984\u001b[0m         \u001b[0mcmd_obj\u001b[0m\u001b[1;33m.\u001b[0m\u001b[0mensure_finalized\u001b[0m\u001b[1;33m(\u001b[0m\u001b[1;33m)\u001b[0m\u001b[1;33m\u001b[0m\u001b[1;33m\u001b[0m\u001b[0m\n\u001b[1;32m--> 985\u001b[1;33m         \u001b[0mcmd_obj\u001b[0m\u001b[1;33m.\u001b[0m\u001b[0mrun\u001b[0m\u001b[1;33m(\u001b[0m\u001b[1;33m)\u001b[0m\u001b[1;33m\u001b[0m\u001b[1;33m\u001b[0m\u001b[0m\n\u001b[0m\u001b[0;32m    986\u001b[0m         \u001b[0mself\u001b[0m\u001b[1;33m.\u001b[0m\u001b[0mhave_run\u001b[0m\u001b[1;33m[\u001b[0m\u001b[0mcommand\u001b[0m\u001b[1;33m]\u001b[0m \u001b[1;33m=\u001b[0m \u001b[1;36m1\u001b[0m\u001b[1;33m\u001b[0m\u001b[1;33m\u001b[0m\u001b[0m\n\u001b[0;32m    987\u001b[0m \u001b[1;33m\u001b[0m\u001b[0m\n",
      "\u001b[1;32m~\\.conda\\envs\\protf\\lib\\site-packages\\Cython\\Distutils\\old_build_ext.py\u001b[0m in \u001b[0;36mrun\u001b[1;34m(self)\u001b[0m\n\u001b[0;32m    184\u001b[0m             \u001b[0moptimization\u001b[0m\u001b[1;33m.\u001b[0m\u001b[0mdisable_optimization\u001b[0m\u001b[1;33m(\u001b[0m\u001b[1;33m)\u001b[0m\u001b[1;33m\u001b[0m\u001b[1;33m\u001b[0m\u001b[0m\n\u001b[0;32m    185\u001b[0m \u001b[1;33m\u001b[0m\u001b[0m\n\u001b[1;32m--> 186\u001b[1;33m         \u001b[0m_build_ext\u001b[0m\u001b[1;33m.\u001b[0m\u001b[0mbuild_ext\u001b[0m\u001b[1;33m.\u001b[0m\u001b[0mrun\u001b[0m\u001b[1;33m(\u001b[0m\u001b[0mself\u001b[0m\u001b[1;33m)\u001b[0m\u001b[1;33m\u001b[0m\u001b[1;33m\u001b[0m\u001b[0m\n\u001b[0m\u001b[0;32m    187\u001b[0m \u001b[1;33m\u001b[0m\u001b[0m\n\u001b[0;32m    188\u001b[0m     \u001b[1;32mdef\u001b[0m \u001b[0mbuild_extensions\u001b[0m\u001b[1;33m(\u001b[0m\u001b[0mself\u001b[0m\u001b[1;33m)\u001b[0m\u001b[1;33m:\u001b[0m\u001b[1;33m\u001b[0m\u001b[1;33m\u001b[0m\u001b[0m\n",
      "\u001b[1;32m~\\.conda\\envs\\protf\\lib\\distutils\\command\\build_ext.py\u001b[0m in \u001b[0;36mrun\u001b[1;34m(self)\u001b[0m\n\u001b[0;32m    338\u001b[0m \u001b[1;33m\u001b[0m\u001b[0m\n\u001b[0;32m    339\u001b[0m         \u001b[1;31m# Now actually compile and link everything.\u001b[0m\u001b[1;33m\u001b[0m\u001b[1;33m\u001b[0m\u001b[1;33m\u001b[0m\u001b[0m\n\u001b[1;32m--> 340\u001b[1;33m         \u001b[0mself\u001b[0m\u001b[1;33m.\u001b[0m\u001b[0mbuild_extensions\u001b[0m\u001b[1;33m(\u001b[0m\u001b[1;33m)\u001b[0m\u001b[1;33m\u001b[0m\u001b[1;33m\u001b[0m\u001b[0m\n\u001b[0m\u001b[0;32m    341\u001b[0m \u001b[1;33m\u001b[0m\u001b[0m\n\u001b[0;32m    342\u001b[0m     \u001b[1;32mdef\u001b[0m \u001b[0mcheck_extensions_list\u001b[0m\u001b[1;33m(\u001b[0m\u001b[0mself\u001b[0m\u001b[1;33m,\u001b[0m \u001b[0mextensions\u001b[0m\u001b[1;33m)\u001b[0m\u001b[1;33m:\u001b[0m\u001b[1;33m\u001b[0m\u001b[1;33m\u001b[0m\u001b[0m\n",
      "\u001b[1;32m~\\.conda\\envs\\protf\\lib\\site-packages\\Cython\\Distutils\\old_build_ext.py\u001b[0m in \u001b[0;36mbuild_extensions\u001b[1;34m(self)\u001b[0m\n\u001b[0;32m    192\u001b[0m         \u001b[1;32mfor\u001b[0m \u001b[0mext\u001b[0m \u001b[1;32min\u001b[0m \u001b[0mself\u001b[0m\u001b[1;33m.\u001b[0m\u001b[0mextensions\u001b[0m\u001b[1;33m:\u001b[0m\u001b[1;33m\u001b[0m\u001b[1;33m\u001b[0m\u001b[0m\n\u001b[0;32m    193\u001b[0m             \u001b[0mext\u001b[0m\u001b[1;33m.\u001b[0m\u001b[0msources\u001b[0m \u001b[1;33m=\u001b[0m \u001b[0mself\u001b[0m\u001b[1;33m.\u001b[0m\u001b[0mcython_sources\u001b[0m\u001b[1;33m(\u001b[0m\u001b[0mext\u001b[0m\u001b[1;33m.\u001b[0m\u001b[0msources\u001b[0m\u001b[1;33m,\u001b[0m \u001b[0mext\u001b[0m\u001b[1;33m)\u001b[0m\u001b[1;33m\u001b[0m\u001b[1;33m\u001b[0m\u001b[0m\n\u001b[1;32m--> 194\u001b[1;33m             \u001b[0mself\u001b[0m\u001b[1;33m.\u001b[0m\u001b[0mbuild_extension\u001b[0m\u001b[1;33m(\u001b[0m\u001b[0mext\u001b[0m\u001b[1;33m)\u001b[0m\u001b[1;33m\u001b[0m\u001b[1;33m\u001b[0m\u001b[0m\n\u001b[0m\u001b[0;32m    195\u001b[0m \u001b[1;33m\u001b[0m\u001b[0m\n\u001b[0;32m    196\u001b[0m     \u001b[1;32mdef\u001b[0m \u001b[0mcython_sources\u001b[0m\u001b[1;33m(\u001b[0m\u001b[0mself\u001b[0m\u001b[1;33m,\u001b[0m \u001b[0msources\u001b[0m\u001b[1;33m,\u001b[0m \u001b[0mextension\u001b[0m\u001b[1;33m)\u001b[0m\u001b[1;33m:\u001b[0m\u001b[1;33m\u001b[0m\u001b[1;33m\u001b[0m\u001b[0m\n",
      "\u001b[1;32m~\\.conda\\envs\\protf\\lib\\distutils\\command\\build_ext.py\u001b[0m in \u001b[0;36mbuild_extension\u001b[1;34m(self, ext)\u001b[0m\n\u001b[0;32m    532\u001b[0m                                          \u001b[0mdebug\u001b[0m\u001b[1;33m=\u001b[0m\u001b[0mself\u001b[0m\u001b[1;33m.\u001b[0m\u001b[0mdebug\u001b[0m\u001b[1;33m,\u001b[0m\u001b[1;33m\u001b[0m\u001b[1;33m\u001b[0m\u001b[0m\n\u001b[0;32m    533\u001b[0m                                          \u001b[0mextra_postargs\u001b[0m\u001b[1;33m=\u001b[0m\u001b[0mextra_args\u001b[0m\u001b[1;33m,\u001b[0m\u001b[1;33m\u001b[0m\u001b[1;33m\u001b[0m\u001b[0m\n\u001b[1;32m--> 534\u001b[1;33m                                          depends=ext.depends)\n\u001b[0m\u001b[0;32m    535\u001b[0m \u001b[1;33m\u001b[0m\u001b[0m\n\u001b[0;32m    536\u001b[0m         \u001b[1;31m# XXX outdated variable, kept here in case third-part code\u001b[0m\u001b[1;33m\u001b[0m\u001b[1;33m\u001b[0m\u001b[1;33m\u001b[0m\u001b[0m\n",
      "\u001b[1;32m~\\.conda\\envs\\protf\\lib\\distutils\\_msvccompiler.py\u001b[0m in \u001b[0;36mcompile\u001b[1;34m(self, sources, output_dir, macros, include_dirs, debug, extra_preargs, extra_postargs, depends)\u001b[0m\n\u001b[0;32m    344\u001b[0m \u001b[1;33m\u001b[0m\u001b[0m\n\u001b[0;32m    345\u001b[0m         \u001b[1;32mif\u001b[0m \u001b[1;32mnot\u001b[0m \u001b[0mself\u001b[0m\u001b[1;33m.\u001b[0m\u001b[0minitialized\u001b[0m\u001b[1;33m:\u001b[0m\u001b[1;33m\u001b[0m\u001b[1;33m\u001b[0m\u001b[0m\n\u001b[1;32m--> 346\u001b[1;33m             \u001b[0mself\u001b[0m\u001b[1;33m.\u001b[0m\u001b[0minitialize\u001b[0m\u001b[1;33m(\u001b[0m\u001b[1;33m)\u001b[0m\u001b[1;33m\u001b[0m\u001b[1;33m\u001b[0m\u001b[0m\n\u001b[0m\u001b[0;32m    347\u001b[0m         compile_info = self._setup_compile(output_dir, macros, include_dirs,\n\u001b[0;32m    348\u001b[0m                                            sources, depends, extra_postargs)\n",
      "\u001b[1;32m~\\.conda\\envs\\protf\\lib\\distutils\\_msvccompiler.py\u001b[0m in \u001b[0;36minitialize\u001b[1;34m(self, plat_name)\u001b[0m\n\u001b[0;32m    237\u001b[0m         \u001b[0mplat_spec\u001b[0m \u001b[1;33m=\u001b[0m \u001b[0mPLAT_TO_VCVARS\u001b[0m\u001b[1;33m[\u001b[0m\u001b[0mplat_name\u001b[0m\u001b[1;33m]\u001b[0m\u001b[1;33m\u001b[0m\u001b[1;33m\u001b[0m\u001b[0m\n\u001b[0;32m    238\u001b[0m \u001b[1;33m\u001b[0m\u001b[0m\n\u001b[1;32m--> 239\u001b[1;33m         \u001b[0mvc_env\u001b[0m \u001b[1;33m=\u001b[0m \u001b[0m_get_vc_env\u001b[0m\u001b[1;33m(\u001b[0m\u001b[0mplat_spec\u001b[0m\u001b[1;33m)\u001b[0m\u001b[1;33m\u001b[0m\u001b[1;33m\u001b[0m\u001b[0m\n\u001b[0m\u001b[0;32m    240\u001b[0m         \u001b[1;32mif\u001b[0m \u001b[1;32mnot\u001b[0m \u001b[0mvc_env\u001b[0m\u001b[1;33m:\u001b[0m\u001b[1;33m\u001b[0m\u001b[1;33m\u001b[0m\u001b[0m\n\u001b[0;32m    241\u001b[0m             raise DistutilsPlatformError(\"Unable to find a compatible \"\n",
      "\u001b[1;32m~\\.conda\\envs\\protf\\lib\\distutils\\_msvccompiler.py\u001b[0m in \u001b[0;36m_get_vc_env\u001b[1;34m(plat_spec)\u001b[0m\n\u001b[0;32m    133\u001b[0m     \u001b[0mvcvarsall\u001b[0m\u001b[1;33m,\u001b[0m \u001b[0mvcruntime\u001b[0m \u001b[1;33m=\u001b[0m \u001b[0m_find_vcvarsall\u001b[0m\u001b[1;33m(\u001b[0m\u001b[0mplat_spec\u001b[0m\u001b[1;33m)\u001b[0m\u001b[1;33m\u001b[0m\u001b[1;33m\u001b[0m\u001b[0m\n\u001b[0;32m    134\u001b[0m     \u001b[1;32mif\u001b[0m \u001b[1;32mnot\u001b[0m \u001b[0mvcvarsall\u001b[0m\u001b[1;33m:\u001b[0m\u001b[1;33m\u001b[0m\u001b[1;33m\u001b[0m\u001b[0m\n\u001b[1;32m--> 135\u001b[1;33m         \u001b[1;32mraise\u001b[0m \u001b[0mDistutilsPlatformError\u001b[0m\u001b[1;33m(\u001b[0m\u001b[1;34m\"Unable to find vcvarsall.bat\"\u001b[0m\u001b[1;33m)\u001b[0m\u001b[1;33m\u001b[0m\u001b[1;33m\u001b[0m\u001b[0m\n\u001b[0m\u001b[0;32m    136\u001b[0m \u001b[1;33m\u001b[0m\u001b[0m\n\u001b[0;32m    137\u001b[0m     \u001b[1;32mtry\u001b[0m\u001b[1;33m:\u001b[0m\u001b[1;33m\u001b[0m\u001b[1;33m\u001b[0m\u001b[0m\n",
      "\u001b[1;31mImportError\u001b[0m: Building module glove.glove_inner failed: ['distutils.errors.DistutilsPlatformError: Unable to find vcvarsall.bat\\n']"
     ]
    }
   ],
   "source": [
    "import glove"
   ]
  },
  {
   "cell_type": "code",
   "execution_count": 56,
   "metadata": {},
   "outputs": [],
   "source": [
    "word2vec_model = gensim.models.KeyedVectors.load_word2vec_format('C:/Users/it/Downloads/dataset/model/GoogleNews-vectors-negative300.bin',binary=True)"
   ]
  },
  {
   "cell_type": "code",
   "execution_count": 57,
   "metadata": {},
   "outputs": [
    {
     "name": "stdout",
     "output_type": "stream",
     "text": [
      "(3000000, 300)\n"
     ]
    }
   ],
   "source": [
    "print(word2vec_model.vectors.shape) # 모델의 크기 확인"
   ]
  },
  {
   "cell_type": "code",
   "execution_count": 58,
   "metadata": {},
   "outputs": [
    {
     "data": {
      "text/plain": [
       "(16, 300)"
      ]
     },
     "execution_count": 58,
     "metadata": {},
     "output_type": "execute_result"
    }
   ],
   "source": [
    "embedding_matrix = np.zeros((vocab_size, 300))\n",
    "np.shape(embedding_matrix)"
   ]
  },
  {
   "cell_type": "code",
   "execution_count": 59,
   "metadata": {},
   "outputs": [],
   "source": [
    "def get_vector(word):\n",
    "    if word in word2vec_model:\n",
    "        return word2vec_model[word]\n",
    "    else:\n",
    "        return None"
   ]
  },
  {
   "cell_type": "code",
   "execution_count": 60,
   "metadata": {},
   "outputs": [],
   "source": [
    "for word, i in t.word_index.items():\n",
    "    temp = get_vector(word)\n",
    "    if temp is not None:\n",
    "        embedding_matrix[i] = temp"
   ]
  },
  {
   "cell_type": "code",
   "execution_count": 61,
   "metadata": {},
   "outputs": [],
   "source": [
    "from tensorflow.keras.models import Sequential\n",
    "from tensorflow.keras.layers import Dense, Embedding, Flatten\n",
    "\n",
    "model = Sequential()\n",
    "e = Embedding(vocab_size, 300, weights=[embedding_matrix], input_length=max_len, trainable=False)"
   ]
  },
  {
   "cell_type": "code",
   "execution_count": 62,
   "metadata": {},
   "outputs": [
    {
     "name": "stdout",
     "output_type": "stream",
     "text": [
      "Train on 7 samples\n",
      "Epoch 1/100\n",
      "7/7 - 28s - loss: 0.6985 - acc: 0.4286\n",
      "Epoch 2/100\n",
      "7/7 - 0s - loss: 0.6803 - acc: 0.4286\n",
      "Epoch 3/100\n",
      "7/7 - 0s - loss: 0.6625 - acc: 0.4286\n",
      "Epoch 4/100\n",
      "7/7 - 0s - loss: 0.6453 - acc: 0.7143\n",
      "Epoch 5/100\n",
      "7/7 - 0s - loss: 0.6287 - acc: 0.8571\n",
      "Epoch 6/100\n",
      "7/7 - 0s - loss: 0.6126 - acc: 1.0000\n",
      "Epoch 7/100\n",
      "7/7 - 0s - loss: 0.5971 - acc: 1.0000\n",
      "Epoch 8/100\n",
      "7/7 - 0s - loss: 0.5820 - acc: 1.0000\n",
      "Epoch 9/100\n",
      "7/7 - 0s - loss: 0.5675 - acc: 1.0000\n",
      "Epoch 10/100\n",
      "7/7 - 0s - loss: 0.5534 - acc: 1.0000\n",
      "Epoch 11/100\n",
      "7/7 - 0s - loss: 0.5398 - acc: 1.0000\n",
      "Epoch 12/100\n",
      "7/7 - 0s - loss: 0.5267 - acc: 1.0000\n",
      "Epoch 13/100\n",
      "7/7 - 0s - loss: 0.5140 - acc: 1.0000\n",
      "Epoch 14/100\n",
      "7/7 - 0s - loss: 0.5017 - acc: 1.0000\n",
      "Epoch 15/100\n",
      "7/7 - 0s - loss: 0.4898 - acc: 1.0000\n",
      "Epoch 16/100\n",
      "7/7 - 0s - loss: 0.4783 - acc: 1.0000\n",
      "Epoch 17/100\n",
      "7/7 - 0s - loss: 0.4672 - acc: 1.0000\n",
      "Epoch 18/100\n",
      "7/7 - 0s - loss: 0.4564 - acc: 1.0000\n",
      "Epoch 19/100\n",
      "7/7 - 0s - loss: 0.4460 - acc: 1.0000\n",
      "Epoch 20/100\n",
      "7/7 - 0s - loss: 0.4359 - acc: 1.0000\n",
      "Epoch 21/100\n",
      "7/7 - 0s - loss: 0.4261 - acc: 1.0000\n",
      "Epoch 22/100\n",
      "7/7 - 0s - loss: 0.4166 - acc: 1.0000\n",
      "Epoch 23/100\n",
      "7/7 - 0s - loss: 0.4074 - acc: 1.0000\n",
      "Epoch 24/100\n",
      "7/7 - 0s - loss: 0.3984 - acc: 1.0000\n",
      "Epoch 25/100\n",
      "7/7 - 0s - loss: 0.3898 - acc: 1.0000\n",
      "Epoch 26/100\n",
      "7/7 - 0s - loss: 0.3814 - acc: 1.0000\n",
      "Epoch 27/100\n",
      "7/7 - 0s - loss: 0.3732 - acc: 1.0000\n",
      "Epoch 28/100\n",
      "7/7 - 0s - loss: 0.3653 - acc: 1.0000\n",
      "Epoch 29/100\n",
      "7/7 - 0s - loss: 0.3576 - acc: 1.0000\n",
      "Epoch 30/100\n",
      "7/7 - 0s - loss: 0.3502 - acc: 1.0000\n",
      "Epoch 31/100\n",
      "7/7 - 0s - loss: 0.3429 - acc: 1.0000\n",
      "Epoch 32/100\n",
      "7/7 - 0s - loss: 0.3359 - acc: 1.0000\n",
      "Epoch 33/100\n",
      "7/7 - 0s - loss: 0.3291 - acc: 1.0000\n",
      "Epoch 34/100\n",
      "7/7 - 0s - loss: 0.3224 - acc: 1.0000\n",
      "Epoch 35/100\n",
      "7/7 - 0s - loss: 0.3160 - acc: 1.0000\n",
      "Epoch 36/100\n",
      "7/7 - 0s - loss: 0.3097 - acc: 1.0000\n",
      "Epoch 37/100\n",
      "7/7 - 0s - loss: 0.3036 - acc: 1.0000\n",
      "Epoch 38/100\n",
      "7/7 - 0s - loss: 0.2977 - acc: 1.0000\n",
      "Epoch 39/100\n",
      "7/7 - 0s - loss: 0.2920 - acc: 1.0000\n",
      "Epoch 40/100\n",
      "7/7 - 0s - loss: 0.2864 - acc: 1.0000\n",
      "Epoch 41/100\n",
      "7/7 - 0s - loss: 0.2809 - acc: 1.0000\n",
      "Epoch 42/100\n",
      "7/7 - 0s - loss: 0.2756 - acc: 1.0000\n",
      "Epoch 43/100\n",
      "7/7 - 0s - loss: 0.2705 - acc: 1.0000\n",
      "Epoch 44/100\n",
      "7/7 - 0s - loss: 0.2655 - acc: 1.0000\n",
      "Epoch 45/100\n",
      "7/7 - 0s - loss: 0.2606 - acc: 1.0000\n",
      "Epoch 46/100\n",
      "7/7 - 0s - loss: 0.2559 - acc: 1.0000\n",
      "Epoch 47/100\n",
      "7/7 - 0s - loss: 0.2512 - acc: 1.0000\n",
      "Epoch 48/100\n",
      "7/7 - 0s - loss: 0.2467 - acc: 1.0000\n",
      "Epoch 49/100\n",
      "7/7 - 0s - loss: 0.2424 - acc: 1.0000\n",
      "Epoch 50/100\n",
      "7/7 - 0s - loss: 0.2381 - acc: 1.0000\n",
      "Epoch 51/100\n",
      "7/7 - 0s - loss: 0.2340 - acc: 1.0000\n",
      "Epoch 52/100\n",
      "7/7 - 0s - loss: 0.2299 - acc: 1.0000\n",
      "Epoch 53/100\n",
      "7/7 - 0s - loss: 0.2260 - acc: 1.0000\n",
      "Epoch 54/100\n",
      "7/7 - 0s - loss: 0.2221 - acc: 1.0000\n",
      "Epoch 55/100\n",
      "7/7 - 0s - loss: 0.2184 - acc: 1.0000\n",
      "Epoch 56/100\n",
      "7/7 - 0s - loss: 0.2147 - acc: 1.0000\n",
      "Epoch 57/100\n",
      "7/7 - 0s - loss: 0.2112 - acc: 1.0000\n",
      "Epoch 58/100\n",
      "7/7 - 0s - loss: 0.2077 - acc: 1.0000\n",
      "Epoch 59/100\n",
      "7/7 - 0s - loss: 0.2043 - acc: 1.0000\n",
      "Epoch 60/100\n",
      "7/7 - 0s - loss: 0.2010 - acc: 1.0000\n",
      "Epoch 61/100\n",
      "7/7 - 0s - loss: 0.1978 - acc: 1.0000\n",
      "Epoch 62/100\n",
      "7/7 - 0s - loss: 0.1946 - acc: 1.0000\n",
      "Epoch 63/100\n",
      "7/7 - 0s - loss: 0.1916 - acc: 1.0000\n",
      "Epoch 64/100\n",
      "7/7 - 0s - loss: 0.1886 - acc: 1.0000\n",
      "Epoch 65/100\n",
      "7/7 - 0s - loss: 0.1857 - acc: 1.0000\n",
      "Epoch 66/100\n",
      "7/7 - 0s - loss: 0.1828 - acc: 1.0000\n",
      "Epoch 67/100\n",
      "7/7 - 0s - loss: 0.1800 - acc: 1.0000\n",
      "Epoch 68/100\n",
      "7/7 - 0s - loss: 0.1773 - acc: 1.0000\n",
      "Epoch 69/100\n",
      "7/7 - 0s - loss: 0.1746 - acc: 1.0000\n",
      "Epoch 70/100\n",
      "7/7 - 0s - loss: 0.1720 - acc: 1.0000\n",
      "Epoch 71/100\n",
      "7/7 - 0s - loss: 0.1695 - acc: 1.0000\n",
      "Epoch 72/100\n",
      "7/7 - 0s - loss: 0.1670 - acc: 1.0000\n",
      "Epoch 73/100\n",
      "7/7 - 0s - loss: 0.1646 - acc: 1.0000\n",
      "Epoch 74/100\n",
      "7/7 - 0s - loss: 0.1622 - acc: 1.0000\n",
      "Epoch 75/100\n",
      "7/7 - 0s - loss: 0.1599 - acc: 1.0000\n",
      "Epoch 76/100\n",
      "7/7 - 0s - loss: 0.1576 - acc: 1.0000\n",
      "Epoch 77/100\n",
      "7/7 - 0s - loss: 0.1554 - acc: 1.0000\n",
      "Epoch 78/100\n",
      "7/7 - 0s - loss: 0.1532 - acc: 1.0000\n",
      "Epoch 79/100\n",
      "7/7 - 0s - loss: 0.1511 - acc: 1.0000\n",
      "Epoch 80/100\n",
      "7/7 - 0s - loss: 0.1490 - acc: 1.0000\n",
      "Epoch 81/100\n",
      "7/7 - 0s - loss: 0.1470 - acc: 1.0000\n",
      "Epoch 82/100\n",
      "7/7 - 0s - loss: 0.1450 - acc: 1.0000\n",
      "Epoch 83/100\n",
      "7/7 - 0s - loss: 0.1430 - acc: 1.0000\n",
      "Epoch 84/100\n",
      "7/7 - 0s - loss: 0.1411 - acc: 1.0000\n",
      "Epoch 85/100\n",
      "7/7 - 0s - loss: 0.1393 - acc: 1.0000\n",
      "Epoch 86/100\n",
      "7/7 - 0s - loss: 0.1374 - acc: 1.0000\n",
      "Epoch 87/100\n",
      "7/7 - 0s - loss: 0.1356 - acc: 1.0000\n",
      "Epoch 88/100\n",
      "7/7 - 0s - loss: 0.1339 - acc: 1.0000\n",
      "Epoch 89/100\n",
      "7/7 - 0s - loss: 0.1322 - acc: 1.0000\n",
      "Epoch 90/100\n",
      "7/7 - 0s - loss: 0.1305 - acc: 1.0000\n",
      "Epoch 91/100\n",
      "7/7 - 0s - loss: 0.1288 - acc: 1.0000\n",
      "Epoch 92/100\n",
      "7/7 - 0s - loss: 0.1272 - acc: 1.0000\n",
      "Epoch 93/100\n",
      "7/7 - 0s - loss: 0.1256 - acc: 1.0000\n",
      "Epoch 94/100\n",
      "7/7 - 0s - loss: 0.1240 - acc: 1.0000\n",
      "Epoch 95/100\n",
      "7/7 - 0s - loss: 0.1225 - acc: 1.0000\n",
      "Epoch 96/100\n",
      "7/7 - 0s - loss: 0.1210 - acc: 1.0000\n",
      "Epoch 97/100\n",
      "7/7 - 0s - loss: 0.1196 - acc: 1.0000\n",
      "Epoch 98/100\n",
      "7/7 - 0s - loss: 0.1181 - acc: 1.0000\n",
      "Epoch 99/100\n",
      "7/7 - 0s - loss: 0.1167 - acc: 1.0000\n",
      "Epoch 100/100\n",
      "7/7 - 0s - loss: 0.1153 - acc: 1.0000\n"
     ]
    },
    {
     "data": {
      "text/plain": [
       "<tensorflow.python.keras.callbacks.History at 0x1e7a82a1b08>"
      ]
     },
     "execution_count": 62,
     "metadata": {},
     "output_type": "execute_result"
    }
   ],
   "source": [
    "model.add(e)\n",
    "model.add(Flatten())\n",
    "model.add(Dense(1, activation='sigmoid'))\n",
    "model.compile(optimizer='adam', loss='binary_crossentropy', metrics=['acc'])\n",
    "model.fit(X_train, y_train, epochs=100, verbose=2)"
   ]
  }
 ],
 "metadata": {
  "kernelspec": {
   "display_name": "protf",
   "language": "python",
   "name": "protf"
  },
  "language_info": {
   "codemirror_mode": {
    "name": "ipython",
    "version": 3
   },
   "file_extension": ".py",
   "mimetype": "text/x-python",
   "name": "python",
   "nbconvert_exporter": "python",
   "pygments_lexer": "ipython3",
   "version": "3.7.4"
  }
 },
 "nbformat": 4,
 "nbformat_minor": 2
}
