{
 "cells": [
  {
   "cell_type": "code",
   "execution_count": 1,
   "metadata": {},
   "outputs": [],
   "source": [
    "import pandas as pd"
   ]
  },
  {
   "cell_type": "code",
   "execution_count": 3,
   "metadata": {},
   "outputs": [
    {
     "name": "stdout",
     "output_type": "stream",
     "text": [
      "There are 1000 rows and 13 columns\n"
     ]
    }
   ],
   "source": [
    "nRowsRead = 1000\n",
    "df1 = pd.read_csv('C:/Users/it/Downloads/dataset/IT_Patent_Dataset.csv', delimiter=',', nrows = nRowsRead)\n",
    "df1.dataframeName = 'IT_Patent_Dataset.csv'\n",
    "nRow, nCol = df1.shape\n",
    "print(f'There are {nRow} rows and {nCol} columns')"
   ]
  },
  {
   "cell_type": "code",
   "execution_count": 4,
   "metadata": {},
   "outputs": [
    {
     "name": "stdout",
     "output_type": "stream",
     "text": [
      "               ID                                                 TI  \\\n",
      "0  EP2000017943-0  Recognition code, particularly for a disk-shap...   \n",
      "1  EP2003016733-0  Optical pickup apparatus for recording/reprodu...   \n",
      "2  EP2011009984-0  Large capacity data sales mediation system, se...   \n",
      "\n",
      "                                                  AB  \\\n",
      "0  A recognition code, particularly for a disk-li...   \n",
      "1  An optical pickup apparatus for reproducing in...   \n",
      "2  An animation data sales mediation method, an a...   \n",
      "\n",
      "                                               TECHF  \\\n",
      "0  [1] The present invention relates to a recogni...   \n",
      "1  [1] The present invention relates to an optica...   \n",
      "2  [1] The present invention relates to large cap...   \n",
      "\n",
      "                                               BACKG  \\\n",
      "0  [2] It is known that identification labels, ad...   \n",
      "1  BACKGROUND OF THE INVENTION   [2] Recently, as...   \n",
      "2  BACKGROUND OF THE INVENTION   Description of t...   \n",
      "\n",
      "                                                SUMM  \\\n",
      "0  [5] The aim of the present invention is to ove...   \n",
      "1  SUMMARY OF THE INVENTION[11] An object of the ...   \n",
      "2  SUMMARY OF THE INVENTION[20] The present inven...   \n",
      "\n",
      "                                                CLMS           ICM      AY  \\\n",
      "0                                                NaN   G06K0019-06  2000.0   \n",
      "1  ['An optical pickup apparatus for recording an...  G11B0007-135  2000.0   \n",
      "2  ['A large capacity data sales mediation system...   G07F0017-16  2001.0   \n",
      "\n",
      "                                                 IPC  \\\n",
      "0                         [G06K0019-06, G06K0007-10]   \n",
      "1                       [G11B0007-135, G11B0007-125]   \n",
      "2  [G07F0017-16, G06Q0030-06, G06Q0020-10, G06Q00...   \n",
      "\n",
      "                                                 REF  \\\n",
      "0                                                NaN   \n",
      "1                                                NaN   \n",
      "2  [JPHEI033290B, JPHEI08235759B, JPHEI10334048B,...   \n",
      "\n",
      "                             PA  \\\n",
      "0  [Video System Italia S.r.l.]   \n",
      "1   [Konica Minolta Opto  Inc.]   \n",
      "2             [NEC Corporation]   \n",
      "\n",
      "                                                 INV  \n",
      "0                                [Tassello  Stefano]  \n",
      "1  [Arai  Norikazu, Kojima  Toshiyuki, Kiriki  To...  \n",
      "2                                       [Maeda Koji]  \n"
     ]
    }
   ],
   "source": [
    "print(df1.head(3))"
   ]
  },
  {
   "cell_type": "code",
   "execution_count": null,
   "metadata": {},
   "outputs": [],
   "source": []
  },
  {
   "cell_type": "code",
   "execution_count": null,
   "metadata": {},
   "outputs": [],
   "source": []
  },
  {
   "cell_type": "code",
   "execution_count": null,
   "metadata": {},
   "outputs": [],
   "source": []
  },
  {
   "cell_type": "code",
   "execution_count": null,
   "metadata": {},
   "outputs": [],
   "source": []
  },
  {
   "cell_type": "code",
   "execution_count": null,
   "metadata": {},
   "outputs": [],
   "source": []
  }
 ],
 "metadata": {
  "kernelspec": {
   "display_name": "protf",
   "language": "python",
   "name": "protf"
  },
  "language_info": {
   "codemirror_mode": {
    "name": "ipython",
    "version": 3
   },
   "file_extension": ".py",
   "mimetype": "text/x-python",
   "name": "python",
   "nbconvert_exporter": "python",
   "pygments_lexer": "ipython3",
   "version": "3.7.4"
  }
 },
 "nbformat": 4,
 "nbformat_minor": 2
}
