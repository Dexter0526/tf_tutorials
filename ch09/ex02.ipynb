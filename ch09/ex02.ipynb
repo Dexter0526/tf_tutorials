{
 "cells": [
  {
   "cell_type": "markdown",
   "metadata": {},
   "source": [
    "# RNN을 이용한 텍스트 생성(Text Generation using RNN)"
   ]
  },
  {
   "cell_type": "markdown",
   "metadata": {},
   "source": [
    "### RNN을 이용하여 텍스트 생성하기"
   ]
  },
  {
   "cell_type": "markdown",
   "metadata": {},
   "source": [
    "#### 1) 데이터에 대한 이해와 전처리"
   ]
  },
  {
   "cell_type": "code",
   "execution_count": 3,
   "metadata": {},
   "outputs": [],
   "source": [
    "from tensorflow.keras.preprocessing.text import Tokenizer\n",
    "from tensorflow.keras.preprocessing.sequence import pad_sequences\n",
    "import numpy as np\n",
    "from tensorflow.keras.utils import to_categorical"
   ]
  },
  {
   "cell_type": "code",
   "execution_count": 4,
   "metadata": {},
   "outputs": [],
   "source": [
    "text=\"\"\"경마장에 있는 말이 뛰고 있다\\n\n",
    "그의 말이 법이다\\n\n",
    "가는 말이 고와야 오는 말이 곱다\\n\"\"\""
   ]
  },
  {
   "cell_type": "code",
   "execution_count": 6,
   "metadata": {},
   "outputs": [
    {
     "name": "stdout",
     "output_type": "stream",
     "text": [
      "단어 집합의 크기 : 12\n"
     ]
    }
   ],
   "source": [
    "# 케라스 토크나이저의 정수 인코딩은 인덱스가 1부터 시작하지만,\n",
    "# 케라스 원-핫 인코딩에서 배열의 인덱스가 0부터 시작하기 때문에\n",
    "# 배열의 크기를 실제 단어 집합의 크기보다 +1로 생성해야하므로 미리 +1 선언 \n",
    "t = Tokenizer()\n",
    "t.fit_on_texts([text])\n",
    "vocab_size = len(t.word_index) + 1\n",
    "\n",
    "print('단어 집합의 크기 : %d' %vocab_size)"
   ]
  },
  {
   "cell_type": "code",
   "execution_count": 7,
   "metadata": {},
   "outputs": [
    {
     "name": "stdout",
     "output_type": "stream",
     "text": [
      "{'말이': 1, '경마장에': 2, '있는': 3, '뛰고': 4, '있다': 5, '그의': 6, '법이다': 7, '가는': 8, '고와야': 9, '오는': 10, '곱다': 11}\n"
     ]
    }
   ],
   "source": [
    "print(t.word_index)"
   ]
  },
  {
   "cell_type": "code",
   "execution_count": 9,
   "metadata": {},
   "outputs": [
    {
     "name": "stdout",
     "output_type": "stream",
     "text": [
      "학습에 사용할 샘플의 개수 : 11\n"
     ]
    }
   ],
   "source": [
    "sequences = list()\n",
    "for line in text.split('\\n'):\n",
    "    encoded = t.texts_to_sequences([line])[0]\n",
    "    for i in range(1, len(encoded)):\n",
    "        sequence = encoded[:i+1]\n",
    "        sequences.append(sequence)\n",
    "        \n",
    "print('학습에 사용할 샘플의 개수 : %d' %len(sequences))"
   ]
  },
  {
   "cell_type": "code",
   "execution_count": 10,
   "metadata": {},
   "outputs": [
    {
     "name": "stdout",
     "output_type": "stream",
     "text": [
      "[[2, 3], [2, 3, 1], [2, 3, 1, 4], [2, 3, 1, 4, 5], [6, 1], [6, 1, 7], [8, 1], [8, 1, 9], [8, 1, 9, 10], [8, 1, 9, 10, 1], [8, 1, 9, 10, 1, 11]]\n"
     ]
    }
   ],
   "source": [
    "print(sequences)"
   ]
  },
  {
   "cell_type": "code",
   "execution_count": 11,
   "metadata": {},
   "outputs": [
    {
     "name": "stdout",
     "output_type": "stream",
     "text": [
      "샘플의 최대 길이 : 6\n"
     ]
    }
   ],
   "source": [
    "max_len=max(len(l) for l in sequences)\n",
    "print('샘플의 최대 길이 : {}'.format(max_len))"
   ]
  },
  {
   "cell_type": "code",
   "execution_count": 12,
   "metadata": {},
   "outputs": [],
   "source": [
    "sequences = pad_sequences(sequences, maxlen=max_len, padding='pre')"
   ]
  },
  {
   "cell_type": "code",
   "execution_count": 13,
   "metadata": {},
   "outputs": [
    {
     "name": "stdout",
     "output_type": "stream",
     "text": [
      "[[ 0  0  0  0  2  3]\n",
      " [ 0  0  0  2  3  1]\n",
      " [ 0  0  2  3  1  4]\n",
      " [ 0  2  3  1  4  5]\n",
      " [ 0  0  0  0  6  1]\n",
      " [ 0  0  0  6  1  7]\n",
      " [ 0  0  0  0  8  1]\n",
      " [ 0  0  0  8  1  9]\n",
      " [ 0  0  8  1  9 10]\n",
      " [ 0  8  1  9 10  1]\n",
      " [ 8  1  9 10  1 11]]\n"
     ]
    }
   ],
   "source": [
    "print(sequences)"
   ]
  },
  {
   "cell_type": "code",
   "execution_count": 14,
   "metadata": {},
   "outputs": [],
   "source": [
    "sequences = np.array(sequences)\n",
    "X = sequences[:, :-1]\n",
    "y = sequences[:, -1]"
   ]
  },
  {
   "cell_type": "code",
   "execution_count": 16,
   "metadata": {},
   "outputs": [
    {
     "name": "stdout",
     "output_type": "stream",
     "text": [
      "[[ 0  0  0  0  2]\n",
      " [ 0  0  0  2  3]\n",
      " [ 0  0  2  3  1]\n",
      " [ 0  2  3  1  4]\n",
      " [ 0  0  0  0  6]\n",
      " [ 0  0  0  6  1]\n",
      " [ 0  0  0  0  8]\n",
      " [ 0  0  0  8  1]\n",
      " [ 0  0  8  1  9]\n",
      " [ 0  8  1  9 10]\n",
      " [ 8  1  9 10  1]]\n"
     ]
    }
   ],
   "source": [
    "print(X) # 각 리스트 마지막 값 제외"
   ]
  },
  {
   "cell_type": "code",
   "execution_count": 15,
   "metadata": {},
   "outputs": [
    {
     "name": "stdout",
     "output_type": "stream",
     "text": [
      "[ 3  1  4  5  1  7  1  9 10  1 11]\n"
     ]
    }
   ],
   "source": [
    "print(y) # 각 리스트의 마지막 값"
   ]
  },
  {
   "cell_type": "code",
   "execution_count": 17,
   "metadata": {},
   "outputs": [],
   "source": [
    "y = to_categorical(y, num_classes=vocab_size)"
   ]
  },
  {
   "cell_type": "code",
   "execution_count": 18,
   "metadata": {},
   "outputs": [
    {
     "data": {
      "text/plain": [
       "array([[0., 0., 0., 1., 0., 0., 0., 0., 0., 0., 0., 0.],\n",
       "       [0., 1., 0., 0., 0., 0., 0., 0., 0., 0., 0., 0.],\n",
       "       [0., 0., 0., 0., 1., 0., 0., 0., 0., 0., 0., 0.],\n",
       "       [0., 0., 0., 0., 0., 1., 0., 0., 0., 0., 0., 0.],\n",
       "       [0., 1., 0., 0., 0., 0., 0., 0., 0., 0., 0., 0.],\n",
       "       [0., 0., 0., 0., 0., 0., 0., 1., 0., 0., 0., 0.],\n",
       "       [0., 1., 0., 0., 0., 0., 0., 0., 0., 0., 0., 0.],\n",
       "       [0., 0., 0., 0., 0., 0., 0., 0., 0., 1., 0., 0.],\n",
       "       [0., 0., 0., 0., 0., 0., 0., 0., 0., 0., 1., 0.],\n",
       "       [0., 1., 0., 0., 0., 0., 0., 0., 0., 0., 0., 0.],\n",
       "       [0., 0., 0., 0., 0., 0., 0., 0., 0., 0., 0., 1.]], dtype=float32)"
      ]
     },
     "execution_count": 18,
     "metadata": {},
     "output_type": "execute_result"
    }
   ],
   "source": [
    "y"
   ]
  },
  {
   "cell_type": "markdown",
   "metadata": {},
   "source": [
    "#### 2) 모델 설계하기"
   ]
  },
  {
   "cell_type": "code",
   "execution_count": 20,
   "metadata": {},
   "outputs": [],
   "source": [
    "from tensorflow.keras.models import Sequential\n",
    "from tensorflow.keras.layers import Embedding, Dense, SimpleRNN"
   ]
  },
  {
   "cell_type": "code",
   "execution_count": 24,
   "metadata": {},
   "outputs": [
    {
     "name": "stdout",
     "output_type": "stream",
     "text": [
      "Train on 11 samples\n",
      "Epoch 1/200\n",
      "11/11 - 3s - loss: 2.5058 - accuracy: 0.0000e+00\n",
      "Epoch 2/200\n",
      "11/11 - 0s - loss: 2.4604 - accuracy: 0.1818\n",
      "Epoch 3/200\n",
      "11/11 - 0s - loss: 2.4261 - accuracy: 0.2727\n",
      "Epoch 4/200\n",
      "11/11 - 0s - loss: 2.3930 - accuracy: 0.2727\n",
      "Epoch 5/200\n",
      "11/11 - 0s - loss: 2.3591 - accuracy: 0.3636\n",
      "Epoch 6/200\n",
      "11/11 - 0s - loss: 2.3236 - accuracy: 0.3636\n",
      "Epoch 7/200\n",
      "11/11 - 0s - loss: 2.2867 - accuracy: 0.3636\n",
      "Epoch 8/200\n",
      "11/11 - 0s - loss: 2.2485 - accuracy: 0.3636\n",
      "Epoch 9/200\n",
      "11/11 - 0s - loss: 2.2096 - accuracy: 0.3636\n",
      "Epoch 10/200\n",
      "11/11 - 0s - loss: 2.1709 - accuracy: 0.3636\n",
      "Epoch 11/200\n",
      "11/11 - 0s - loss: 2.1332 - accuracy: 0.3636\n",
      "Epoch 12/200\n",
      "11/11 - 0s - loss: 2.0973 - accuracy: 0.3636\n",
      "Epoch 13/200\n",
      "11/11 - 0s - loss: 2.0640 - accuracy: 0.3636\n",
      "Epoch 14/200\n",
      "11/11 - 0s - loss: 2.0336 - accuracy: 0.3636\n",
      "Epoch 15/200\n",
      "11/11 - 0s - loss: 2.0062 - accuracy: 0.3636\n",
      "Epoch 16/200\n",
      "11/11 - 0s - loss: 1.9819 - accuracy: 0.3636\n",
      "Epoch 17/200\n",
      "11/11 - 0s - loss: 1.9601 - accuracy: 0.3636\n",
      "Epoch 18/200\n",
      "11/11 - 0s - loss: 1.9405 - accuracy: 0.3636\n",
      "Epoch 19/200\n",
      "11/11 - 0s - loss: 1.9225 - accuracy: 0.3636\n",
      "Epoch 20/200\n",
      "11/11 - 0s - loss: 1.9057 - accuracy: 0.3636\n",
      "Epoch 21/200\n",
      "11/11 - 0s - loss: 1.8897 - accuracy: 0.3636\n",
      "Epoch 22/200\n",
      "11/11 - 0s - loss: 1.8743 - accuracy: 0.3636\n",
      "Epoch 23/200\n",
      "11/11 - 0s - loss: 1.8592 - accuracy: 0.3636\n",
      "Epoch 24/200\n",
      "11/11 - 0s - loss: 1.8443 - accuracy: 0.3636\n",
      "Epoch 25/200\n",
      "11/11 - 0s - loss: 1.8294 - accuracy: 0.3636\n",
      "Epoch 26/200\n",
      "11/11 - 0s - loss: 1.8144 - accuracy: 0.3636\n",
      "Epoch 27/200\n",
      "11/11 - 0s - loss: 1.7993 - accuracy: 0.3636\n",
      "Epoch 28/200\n",
      "11/11 - 0s - loss: 1.7839 - accuracy: 0.3636\n",
      "Epoch 29/200\n",
      "11/11 - 0s - loss: 1.7684 - accuracy: 0.3636\n",
      "Epoch 30/200\n",
      "11/11 - 0s - loss: 1.7525 - accuracy: 0.4545\n",
      "Epoch 31/200\n",
      "11/11 - 0s - loss: 1.7362 - accuracy: 0.4545\n",
      "Epoch 32/200\n",
      "11/11 - 0s - loss: 1.7196 - accuracy: 0.4545\n",
      "Epoch 33/200\n",
      "11/11 - 0s - loss: 1.7026 - accuracy: 0.4545\n",
      "Epoch 34/200\n",
      "11/11 - 0s - loss: 1.6852 - accuracy: 0.4545\n",
      "Epoch 35/200\n",
      "11/11 - 0s - loss: 1.6674 - accuracy: 0.4545\n",
      "Epoch 36/200\n",
      "11/11 - 0s - loss: 1.6492 - accuracy: 0.4545\n",
      "Epoch 37/200\n",
      "11/11 - 0s - loss: 1.6305 - accuracy: 0.4545\n",
      "Epoch 38/200\n",
      "11/11 - 0s - loss: 1.6116 - accuracy: 0.4545\n",
      "Epoch 39/200\n",
      "11/11 - 0s - loss: 1.5922 - accuracy: 0.4545\n",
      "Epoch 40/200\n",
      "11/11 - 0s - loss: 1.5726 - accuracy: 0.4545\n",
      "Epoch 41/200\n",
      "11/11 - 0s - loss: 1.5528 - accuracy: 0.4545\n",
      "Epoch 42/200\n",
      "11/11 - 0s - loss: 1.5328 - accuracy: 0.4545\n",
      "Epoch 43/200\n",
      "11/11 - 0s - loss: 1.5126 - accuracy: 0.5455\n",
      "Epoch 44/200\n",
      "11/11 - 0s - loss: 1.4924 - accuracy: 0.5455\n",
      "Epoch 45/200\n",
      "11/11 - 0s - loss: 1.4721 - accuracy: 0.5455\n",
      "Epoch 46/200\n",
      "11/11 - 0s - loss: 1.4519 - accuracy: 0.5455\n",
      "Epoch 47/200\n",
      "11/11 - 0s - loss: 1.4316 - accuracy: 0.5455\n",
      "Epoch 48/200\n",
      "11/11 - 0s - loss: 1.4115 - accuracy: 0.5455\n",
      "Epoch 49/200\n",
      "11/11 - 0s - loss: 1.3915 - accuracy: 0.5455\n",
      "Epoch 50/200\n",
      "11/11 - 0s - loss: 1.3716 - accuracy: 0.5455\n",
      "Epoch 51/200\n",
      "11/11 - 0s - loss: 1.3519 - accuracy: 0.5455\n",
      "Epoch 52/200\n",
      "11/11 - 0s - loss: 1.3324 - accuracy: 0.5455\n",
      "Epoch 53/200\n",
      "11/11 - 0s - loss: 1.3130 - accuracy: 0.5455\n",
      "Epoch 54/200\n",
      "11/11 - 0s - loss: 1.2939 - accuracy: 0.5455\n",
      "Epoch 55/200\n",
      "11/11 - 0s - loss: 1.2750 - accuracy: 0.6364\n",
      "Epoch 56/200\n",
      "11/11 - 0s - loss: 1.2564 - accuracy: 0.6364\n",
      "Epoch 57/200\n",
      "11/11 - 0s - loss: 1.2380 - accuracy: 0.6364\n",
      "Epoch 58/200\n",
      "11/11 - 0s - loss: 1.2198 - accuracy: 0.6364\n",
      "Epoch 59/200\n",
      "11/11 - 0s - loss: 1.2019 - accuracy: 0.6364\n",
      "Epoch 60/200\n",
      "11/11 - 0s - loss: 1.1843 - accuracy: 0.6364\n",
      "Epoch 61/200\n",
      "11/11 - 0s - loss: 1.1669 - accuracy: 0.6364\n",
      "Epoch 62/200\n",
      "11/11 - 0s - loss: 1.1497 - accuracy: 0.7273\n",
      "Epoch 63/200\n",
      "11/11 - 0s - loss: 1.1328 - accuracy: 0.7273\n",
      "Epoch 64/200\n",
      "11/11 - 0s - loss: 1.1162 - accuracy: 0.7273\n",
      "Epoch 65/200\n",
      "11/11 - 0s - loss: 1.0998 - accuracy: 0.7273\n",
      "Epoch 66/200\n",
      "11/11 - 0s - loss: 1.0837 - accuracy: 0.7273\n",
      "Epoch 67/200\n",
      "11/11 - 0s - loss: 1.0677 - accuracy: 0.7273\n",
      "Epoch 68/200\n",
      "11/11 - 0s - loss: 1.0520 - accuracy: 0.7273\n",
      "Epoch 69/200\n",
      "11/11 - 0s - loss: 1.0365 - accuracy: 0.7273\n",
      "Epoch 70/200\n",
      "11/11 - 0s - loss: 1.0212 - accuracy: 0.7273\n",
      "Epoch 71/200\n",
      "11/11 - 0s - loss: 1.0062 - accuracy: 0.7273\n",
      "Epoch 72/200\n",
      "11/11 - 0s - loss: 0.9913 - accuracy: 0.7273\n",
      "Epoch 73/200\n",
      "11/11 - 0s - loss: 0.9766 - accuracy: 0.7273\n",
      "Epoch 74/200\n",
      "11/11 - 0s - loss: 0.9621 - accuracy: 0.7273\n",
      "Epoch 75/200\n",
      "11/11 - 0s - loss: 0.9477 - accuracy: 0.7273\n",
      "Epoch 76/200\n",
      "11/11 - 0s - loss: 0.9336 - accuracy: 0.7273\n",
      "Epoch 77/200\n",
      "11/11 - 0s - loss: 0.9196 - accuracy: 0.7273\n",
      "Epoch 78/200\n",
      "11/11 - 0s - loss: 0.9058 - accuracy: 0.7273\n",
      "Epoch 79/200\n",
      "11/11 - 0s - loss: 0.8921 - accuracy: 0.7273\n",
      "Epoch 80/200\n",
      "11/11 - 0s - loss: 0.8786 - accuracy: 0.7273\n",
      "Epoch 81/200\n",
      "11/11 - 0s - loss: 0.8653 - accuracy: 0.7273\n",
      "Epoch 82/200\n",
      "11/11 - 0s - loss: 0.8522 - accuracy: 0.7273\n",
      "Epoch 83/200\n",
      "11/11 - 0s - loss: 0.8391 - accuracy: 0.7273\n",
      "Epoch 84/200\n",
      "11/11 - 0s - loss: 0.8263 - accuracy: 0.7273\n",
      "Epoch 85/200\n",
      "11/11 - 0s - loss: 0.8136 - accuracy: 0.7273\n",
      "Epoch 86/200\n",
      "11/11 - 0s - loss: 0.8010 - accuracy: 0.7273\n",
      "Epoch 87/200\n",
      "11/11 - 0s - loss: 0.7887 - accuracy: 0.7273\n",
      "Epoch 88/200\n",
      "11/11 - 0s - loss: 0.7764 - accuracy: 0.7273\n",
      "Epoch 89/200\n",
      "11/11 - 0s - loss: 0.7643 - accuracy: 0.7273\n",
      "Epoch 90/200\n",
      "11/11 - 0s - loss: 0.7523 - accuracy: 0.7273\n",
      "Epoch 91/200\n",
      "11/11 - 0s - loss: 0.7405 - accuracy: 0.7273\n",
      "Epoch 92/200\n",
      "11/11 - 0s - loss: 0.7289 - accuracy: 0.7273\n",
      "Epoch 93/200\n",
      "11/11 - 0s - loss: 0.7175 - accuracy: 0.7273\n",
      "Epoch 94/200\n",
      "11/11 - 0s - loss: 0.7066 - accuracy: 0.7273\n",
      "Epoch 95/200\n",
      "11/11 - 0s - loss: 0.6963 - accuracy: 0.7273\n",
      "Epoch 96/200\n",
      "11/11 - 0s - loss: 0.6857 - accuracy: 0.8182\n",
      "Epoch 97/200\n",
      "11/11 - 0s - loss: 0.6747 - accuracy: 0.7273\n",
      "Epoch 98/200\n",
      "11/11 - 0s - loss: 0.6637 - accuracy: 0.8182\n",
      "Epoch 99/200\n",
      "11/11 - 0s - loss: 0.6531 - accuracy: 0.8182\n",
      "Epoch 100/200\n",
      "11/11 - 0s - loss: 0.6427 - accuracy: 0.8182\n",
      "Epoch 101/200\n",
      "11/11 - 0s - loss: 0.6325 - accuracy: 0.8182\n",
      "Epoch 102/200\n",
      "11/11 - 0s - loss: 0.6224 - accuracy: 0.8182\n",
      "Epoch 103/200\n",
      "11/11 - 0s - loss: 0.6125 - accuracy: 0.8182\n",
      "Epoch 104/200\n",
      "11/11 - 0s - loss: 0.6026 - accuracy: 0.8182\n",
      "Epoch 105/200\n",
      "11/11 - 0s - loss: 0.5928 - accuracy: 0.8182\n",
      "Epoch 106/200\n",
      "11/11 - 0s - loss: 0.5831 - accuracy: 0.9091\n",
      "Epoch 107/200\n",
      "11/11 - 0s - loss: 0.5736 - accuracy: 0.9091\n",
      "Epoch 108/200\n",
      "11/11 - 0s - loss: 0.5641 - accuracy: 0.9091\n",
      "Epoch 109/200\n",
      "11/11 - 0s - loss: 0.5547 - accuracy: 0.9091\n",
      "Epoch 110/200\n",
      "11/11 - 0s - loss: 0.5455 - accuracy: 0.9091\n",
      "Epoch 111/200\n",
      "11/11 - 0s - loss: 0.5364 - accuracy: 0.9091\n",
      "Epoch 112/200\n",
      "11/11 - 0s - loss: 0.5274 - accuracy: 0.9091\n",
      "Epoch 113/200\n",
      "11/11 - 0s - loss: 0.5186 - accuracy: 0.9091\n",
      "Epoch 114/200\n",
      "11/11 - 0s - loss: 0.5099 - accuracy: 0.9091\n",
      "Epoch 115/200\n",
      "11/11 - 0s - loss: 0.5013 - accuracy: 0.9091\n",
      "Epoch 116/200\n",
      "11/11 - 0s - loss: 0.4927 - accuracy: 0.9091\n",
      "Epoch 117/200\n",
      "11/11 - 0s - loss: 0.4841 - accuracy: 0.9091\n",
      "Epoch 118/200\n",
      "11/11 - 0s - loss: 0.4756 - accuracy: 0.9091\n",
      "Epoch 119/200\n",
      "11/11 - 0s - loss: 0.4672 - accuracy: 0.9091\n",
      "Epoch 120/200\n",
      "11/11 - 0s - loss: 0.4589 - accuracy: 0.9091\n",
      "Epoch 121/200\n",
      "11/11 - 0s - loss: 0.4508 - accuracy: 0.9091\n",
      "Epoch 122/200\n",
      "11/11 - 0s - loss: 0.4427 - accuracy: 0.9091\n",
      "Epoch 123/200\n",
      "11/11 - 0s - loss: 0.4347 - accuracy: 0.9091\n",
      "Epoch 124/200\n",
      "11/11 - 0s - loss: 0.4268 - accuracy: 0.9091\n",
      "Epoch 125/200\n",
      "11/11 - 0s - loss: 0.4190 - accuracy: 0.9091\n",
      "Epoch 126/200\n",
      "11/11 - 0s - loss: 0.4114 - accuracy: 0.9091\n",
      "Epoch 127/200\n",
      "11/11 - 0s - loss: 0.4038 - accuracy: 0.9091\n",
      "Epoch 128/200\n",
      "11/11 - 0s - loss: 0.3963 - accuracy: 0.9091\n",
      "Epoch 129/200\n",
      "11/11 - 0s - loss: 0.3889 - accuracy: 0.9091\n",
      "Epoch 130/200\n",
      "11/11 - 0s - loss: 0.3816 - accuracy: 0.9091\n",
      "Epoch 131/200\n",
      "11/11 - 0s - loss: 0.3745 - accuracy: 0.9091\n",
      "Epoch 132/200\n",
      "11/11 - 0s - loss: 0.3673 - accuracy: 0.9091\n",
      "Epoch 133/200\n",
      "11/11 - 0s - loss: 0.3603 - accuracy: 0.9091\n",
      "Epoch 134/200\n",
      "11/11 - 0s - loss: 0.3533 - accuracy: 0.9091\n",
      "Epoch 135/200\n",
      "11/11 - 0s - loss: 0.3465 - accuracy: 0.9091\n",
      "Epoch 136/200\n",
      "11/11 - 0s - loss: 0.3396 - accuracy: 0.9091\n",
      "Epoch 137/200\n",
      "11/11 - 0s - loss: 0.3329 - accuracy: 0.9091\n",
      "Epoch 138/200\n",
      "11/11 - 0s - loss: 0.3263 - accuracy: 1.0000\n",
      "Epoch 139/200\n",
      "11/11 - 0s - loss: 0.3198 - accuracy: 0.9091\n",
      "Epoch 140/200\n",
      "11/11 - 0s - loss: 0.3133 - accuracy: 1.0000\n",
      "Epoch 141/200\n",
      "11/11 - 0s - loss: 0.3070 - accuracy: 1.0000\n"
     ]
    },
    {
     "name": "stdout",
     "output_type": "stream",
     "text": [
      "Epoch 142/200\n",
      "11/11 - 0s - loss: 0.3008 - accuracy: 1.0000\n",
      "Epoch 143/200\n",
      "11/11 - 0s - loss: 0.2947 - accuracy: 1.0000\n",
      "Epoch 144/200\n",
      "11/11 - 0s - loss: 0.2886 - accuracy: 1.0000\n",
      "Epoch 145/200\n",
      "11/11 - 0s - loss: 0.2827 - accuracy: 1.0000\n",
      "Epoch 146/200\n",
      "11/11 - 0s - loss: 0.2768 - accuracy: 1.0000\n",
      "Epoch 147/200\n",
      "11/11 - 0s - loss: 0.2711 - accuracy: 1.0000\n",
      "Epoch 148/200\n",
      "11/11 - 0s - loss: 0.2653 - accuracy: 1.0000\n",
      "Epoch 149/200\n",
      "11/11 - 0s - loss: 0.2598 - accuracy: 1.0000\n",
      "Epoch 150/200\n",
      "11/11 - 0s - loss: 0.2542 - accuracy: 1.0000\n",
      "Epoch 151/200\n",
      "11/11 - 0s - loss: 0.2488 - accuracy: 1.0000\n",
      "Epoch 152/200\n",
      "11/11 - 0s - loss: 0.2434 - accuracy: 1.0000\n",
      "Epoch 153/200\n",
      "11/11 - 0s - loss: 0.2381 - accuracy: 1.0000\n",
      "Epoch 154/200\n",
      "11/11 - 0s - loss: 0.2329 - accuracy: 1.0000\n",
      "Epoch 155/200\n",
      "11/11 - 0s - loss: 0.2278 - accuracy: 1.0000\n",
      "Epoch 156/200\n",
      "11/11 - 0s - loss: 0.2228 - accuracy: 1.0000\n",
      "Epoch 157/200\n",
      "11/11 - 0s - loss: 0.2179 - accuracy: 1.0000\n",
      "Epoch 158/200\n",
      "11/11 - 0s - loss: 0.2130 - accuracy: 1.0000\n",
      "Epoch 159/200\n",
      "11/11 - 0s - loss: 0.2083 - accuracy: 1.0000\n",
      "Epoch 160/200\n",
      "11/11 - 0s - loss: 0.2036 - accuracy: 1.0000\n",
      "Epoch 161/200\n",
      "11/11 - 0s - loss: 0.1991 - accuracy: 1.0000\n",
      "Epoch 162/200\n",
      "11/11 - 0s - loss: 0.1946 - accuracy: 1.0000\n",
      "Epoch 163/200\n",
      "11/11 - 0s - loss: 0.1902 - accuracy: 1.0000\n",
      "Epoch 164/200\n",
      "11/11 - 0s - loss: 0.1858 - accuracy: 1.0000\n",
      "Epoch 165/200\n",
      "11/11 - 0s - loss: 0.1816 - accuracy: 1.0000\n",
      "Epoch 166/200\n",
      "11/11 - 0s - loss: 0.1774 - accuracy: 1.0000\n",
      "Epoch 167/200\n",
      "11/11 - 0s - loss: 0.1732 - accuracy: 1.0000\n",
      "Epoch 168/200\n",
      "11/11 - 0s - loss: 0.1692 - accuracy: 1.0000\n",
      "Epoch 169/200\n",
      "11/11 - 0s - loss: 0.1653 - accuracy: 1.0000\n",
      "Epoch 170/200\n",
      "11/11 - 0s - loss: 0.1614 - accuracy: 1.0000\n",
      "Epoch 171/200\n",
      "11/11 - 0s - loss: 0.1576 - accuracy: 1.0000\n",
      "Epoch 172/200\n",
      "11/11 - 0s - loss: 0.1539 - accuracy: 1.0000\n",
      "Epoch 173/200\n",
      "11/11 - 0s - loss: 0.1503 - accuracy: 1.0000\n",
      "Epoch 174/200\n",
      "11/11 - 0s - loss: 0.1468 - accuracy: 1.0000\n",
      "Epoch 175/200\n",
      "11/11 - 0s - loss: 0.1433 - accuracy: 1.0000\n",
      "Epoch 176/200\n",
      "11/11 - 0s - loss: 0.1399 - accuracy: 1.0000\n",
      "Epoch 177/200\n",
      "11/11 - 0s - loss: 0.1366 - accuracy: 1.0000\n",
      "Epoch 178/200\n",
      "11/11 - 0s - loss: 0.1334 - accuracy: 1.0000\n",
      "Epoch 179/200\n",
      "11/11 - 0s - loss: 0.1302 - accuracy: 1.0000\n",
      "Epoch 180/200\n",
      "11/11 - 0s - loss: 0.1272 - accuracy: 1.0000\n",
      "Epoch 181/200\n",
      "11/11 - 0s - loss: 0.1241 - accuracy: 1.0000\n",
      "Epoch 182/200\n",
      "11/11 - 0s - loss: 0.1213 - accuracy: 1.0000\n",
      "Epoch 183/200\n",
      "11/11 - 0s - loss: 0.1182 - accuracy: 1.0000\n",
      "Epoch 184/200\n",
      "11/11 - 0s - loss: 0.1154 - accuracy: 1.0000\n",
      "Epoch 185/200\n",
      "11/11 - 0s - loss: 0.1125 - accuracy: 1.0000\n",
      "Epoch 186/200\n",
      "11/11 - 0s - loss: 0.1098 - accuracy: 1.0000\n",
      "Epoch 187/200\n",
      "11/11 - 0s - loss: 0.1071 - accuracy: 1.0000\n",
      "Epoch 188/200\n",
      "11/11 - 0s - loss: 0.1045 - accuracy: 1.0000\n",
      "Epoch 189/200\n",
      "11/11 - 0s - loss: 0.1019 - accuracy: 1.0000\n",
      "Epoch 190/200\n",
      "11/11 - 0s - loss: 0.0994 - accuracy: 1.0000\n",
      "Epoch 191/200\n",
      "11/11 - 0s - loss: 0.0970 - accuracy: 1.0000\n",
      "Epoch 192/200\n",
      "11/11 - 0s - loss: 0.0946 - accuracy: 1.0000\n",
      "Epoch 193/200\n",
      "11/11 - 0s - loss: 0.0923 - accuracy: 1.0000\n",
      "Epoch 194/200\n",
      "11/11 - 0s - loss: 0.0900 - accuracy: 1.0000\n",
      "Epoch 195/200\n",
      "11/11 - 0s - loss: 0.0878 - accuracy: 1.0000\n",
      "Epoch 196/200\n",
      "11/11 - 0s - loss: 0.0856 - accuracy: 1.0000\n",
      "Epoch 197/200\n",
      "11/11 - 0s - loss: 0.0835 - accuracy: 1.0000\n",
      "Epoch 198/200\n",
      "11/11 - 0s - loss: 0.0815 - accuracy: 1.0000\n",
      "Epoch 199/200\n",
      "11/11 - 0s - loss: 0.0795 - accuracy: 1.0000\n",
      "Epoch 200/200\n",
      "11/11 - 0s - loss: 0.0776 - accuracy: 1.0000\n"
     ]
    },
    {
     "data": {
      "text/plain": [
       "<tensorflow.python.keras.callbacks.History at 0x18f5578cb48>"
      ]
     },
     "execution_count": 24,
     "metadata": {},
     "output_type": "execute_result"
    }
   ],
   "source": [
    "model = Sequential()\n",
    "model.add(Embedding(vocab_size, 10, input_length=max_len-1))\n",
    "model.add(SimpleRNN(32))\n",
    "model.add(Dense(vocab_size, activation='softmax'))\n",
    "model.compile(loss='categorical_crossentropy', optimaizer='adam', metrics=['accuracy'])\n",
    "model.fit(X, y, epochs=200, verbose=2)"
   ]
  },
  {
   "cell_type": "code",
   "execution_count": 36,
   "metadata": {},
   "outputs": [],
   "source": [
    "def sentence_generation(model, t, current_word, n): # 모델, 토크나이저, 현재 단어, 반복할 횟수\n",
    "    init_word = current_word # 처음 들어온 단어도 마지막에 같이 출력하기위해 저장\n",
    "    sentence = ''\n",
    "    for _ in range(n): # n번 반복\n",
    "        encoded = t.texts_to_sequences([current_word])[0]\n",
    "        encoded = pad_sequences([encoded], maxlen=5, padding='pre')\n",
    "         # 입력한 X(현재 단어)에 대해서 Y를 예측하고 Y(예측한 단어)를 result에 저장.\n",
    "        result = model.predict_classes(encoded, verbose=0)\n",
    "        for word, index in t.word_index.items():\n",
    "            if index == result:\n",
    "                break\n",
    "        # 현재 단어 + ' ' + 예측 단어를 현재 단어로 변경\n",
    "        current_word = current_word + ' '  + word\n",
    "        sentence = sentence + ' ' + word # 예측 단어를 문장에 저장\n",
    "    sentence = init_word + sentence\n",
    "    return sentence"
   ]
  },
  {
   "cell_type": "code",
   "execution_count": 37,
   "metadata": {},
   "outputs": [
    {
     "name": "stdout",
     "output_type": "stream",
     "text": [
      "경마장에 있는 말이 뛰고 있다\n"
     ]
    }
   ],
   "source": [
    "# '경마장에' 라는 단어 뒤에는 총 4개의 단어가 있으므로 4번 예측\n",
    "print(sentence_generation(model, t, '경마장에', 4))"
   ]
  },
  {
   "cell_type": "code",
   "execution_count": 39,
   "metadata": {},
   "outputs": [
    {
     "name": "stdout",
     "output_type": "stream",
     "text": [
      "그의 말이 법이다\n"
     ]
    }
   ],
   "source": [
    "# 2번 예측\n",
    "print(sentence_generation(model, t, '그의', 2))"
   ]
  },
  {
   "cell_type": "code",
   "execution_count": 48,
   "metadata": {},
   "outputs": [
    {
     "name": "stdout",
     "output_type": "stream",
     "text": [
      "가는 말이 고와야 오는 말이\n"
     ]
    }
   ],
   "source": [
    "print(sentence_generation(model, t, '가는', 4))"
   ]
  },
  {
   "cell_type": "markdown",
   "metadata": {},
   "source": [
    "### LSTM을 이용하여 텍스트 생성하기"
   ]
  },
  {
   "cell_type": "markdown",
   "metadata": {},
   "source": [
    "#### 1) 데이터에 대한 이해와 전처리"
   ]
  },
  {
   "cell_type": "code",
   "execution_count": 49,
   "metadata": {},
   "outputs": [],
   "source": [
    "import pandas as pd\n",
    "from string import punctuation\n",
    "from tensorflow.keras.preprocessing.text import Tokenizer\n",
    "from tensorflow.keras.preprocessing.sequence import pad_sequences\n",
    "import numpy as np\n",
    "from tensorflow.keras.utils import to_categorical"
   ]
  },
  {
   "cell_type": "code",
   "execution_count": 51,
   "metadata": {},
   "outputs": [
    {
     "data": {
      "text/html": [
       "<div>\n",
       "<style scoped>\n",
       "    .dataframe tbody tr th:only-of-type {\n",
       "        vertical-align: middle;\n",
       "    }\n",
       "\n",
       "    .dataframe tbody tr th {\n",
       "        vertical-align: top;\n",
       "    }\n",
       "\n",
       "    .dataframe thead th {\n",
       "        text-align: right;\n",
       "    }\n",
       "</style>\n",
       "<table border=\"1\" class=\"dataframe\">\n",
       "  <thead>\n",
       "    <tr style=\"text-align: right;\">\n",
       "      <th></th>\n",
       "      <th>articleID</th>\n",
       "      <th>articleWordCount</th>\n",
       "      <th>byline</th>\n",
       "      <th>documentType</th>\n",
       "      <th>headline</th>\n",
       "      <th>keywords</th>\n",
       "      <th>multimedia</th>\n",
       "      <th>newDesk</th>\n",
       "      <th>printPage</th>\n",
       "      <th>pubDate</th>\n",
       "      <th>sectionName</th>\n",
       "      <th>snippet</th>\n",
       "      <th>source</th>\n",
       "      <th>typeOfMaterial</th>\n",
       "      <th>webURL</th>\n",
       "    </tr>\n",
       "  </thead>\n",
       "  <tbody>\n",
       "    <tr>\n",
       "      <th>0</th>\n",
       "      <td>5adf6684068401528a2aa69b</td>\n",
       "      <td>781</td>\n",
       "      <td>By JOHN BRANCH</td>\n",
       "      <td>article</td>\n",
       "      <td>Former N.F.L. Cheerleaders’ Settlement Offer: ...</td>\n",
       "      <td>['Workplace Hazards and Violations', 'Football...</td>\n",
       "      <td>68</td>\n",
       "      <td>Sports</td>\n",
       "      <td>0</td>\n",
       "      <td>2018-04-24 17:16:49</td>\n",
       "      <td>Pro Football</td>\n",
       "      <td>“I understand that they could meet with us, pa...</td>\n",
       "      <td>The New York Times</td>\n",
       "      <td>News</td>\n",
       "      <td>https://www.nytimes.com/2018/04/24/sports/foot...</td>\n",
       "    </tr>\n",
       "    <tr>\n",
       "      <th>1</th>\n",
       "      <td>5adf653f068401528a2aa697</td>\n",
       "      <td>656</td>\n",
       "      <td>By LISA FRIEDMAN</td>\n",
       "      <td>article</td>\n",
       "      <td>E.P.A. to Unveil a New Rule. Its Effect: Less ...</td>\n",
       "      <td>['Environmental Protection Agency', 'Pruitt, S...</td>\n",
       "      <td>68</td>\n",
       "      <td>Climate</td>\n",
       "      <td>0</td>\n",
       "      <td>2018-04-24 17:11:21</td>\n",
       "      <td>Unknown</td>\n",
       "      <td>The agency plans to publish a new regulation T...</td>\n",
       "      <td>The New York Times</td>\n",
       "      <td>News</td>\n",
       "      <td>https://www.nytimes.com/2018/04/24/climate/epa...</td>\n",
       "    </tr>\n",
       "    <tr>\n",
       "      <th>2</th>\n",
       "      <td>5adf4626068401528a2aa628</td>\n",
       "      <td>2427</td>\n",
       "      <td>By PETE WELLS</td>\n",
       "      <td>article</td>\n",
       "      <td>The New Noma, Explained</td>\n",
       "      <td>['Restaurants', 'Noma (Copenhagen, Restaurant)...</td>\n",
       "      <td>66</td>\n",
       "      <td>Dining</td>\n",
       "      <td>0</td>\n",
       "      <td>2018-04-24 14:58:44</td>\n",
       "      <td>Unknown</td>\n",
       "      <td>What’s it like to eat at the second incarnatio...</td>\n",
       "      <td>The New York Times</td>\n",
       "      <td>News</td>\n",
       "      <td>https://www.nytimes.com/2018/04/24/dining/noma...</td>\n",
       "    </tr>\n",
       "    <tr>\n",
       "      <th>3</th>\n",
       "      <td>5adf40d2068401528a2aa619</td>\n",
       "      <td>626</td>\n",
       "      <td>By JULIE HIRSCHFELD DAVIS and PETER BAKER</td>\n",
       "      <td>article</td>\n",
       "      <td>Unknown</td>\n",
       "      <td>['Macron, Emmanuel (1977- )', 'Trump, Donald J...</td>\n",
       "      <td>68</td>\n",
       "      <td>Washington</td>\n",
       "      <td>0</td>\n",
       "      <td>2018-04-24 14:35:57</td>\n",
       "      <td>Europe</td>\n",
       "      <td>President Trump welcomed President Emmanuel Ma...</td>\n",
       "      <td>The New York Times</td>\n",
       "      <td>News</td>\n",
       "      <td>https://www.nytimes.com/2018/04/24/world/europ...</td>\n",
       "    </tr>\n",
       "    <tr>\n",
       "      <th>4</th>\n",
       "      <td>5adf3d64068401528a2aa60f</td>\n",
       "      <td>815</td>\n",
       "      <td>By IAN AUSTEN and DAN BILEFSKY</td>\n",
       "      <td>article</td>\n",
       "      <td>Unknown</td>\n",
       "      <td>['Toronto, Ontario, Attack (April, 2018)', 'Mu...</td>\n",
       "      <td>68</td>\n",
       "      <td>Foreign</td>\n",
       "      <td>0</td>\n",
       "      <td>2018-04-24 14:21:21</td>\n",
       "      <td>Canada</td>\n",
       "      <td>Alek Minassian, 25, a resident of Toronto’s Ri...</td>\n",
       "      <td>The New York Times</td>\n",
       "      <td>News</td>\n",
       "      <td>https://www.nytimes.com/2018/04/24/world/canad...</td>\n",
       "    </tr>\n",
       "  </tbody>\n",
       "</table>\n",
       "</div>"
      ],
      "text/plain": [
       "                  articleID  articleWordCount  ... typeOfMaterial                                             webURL\n",
       "0  5adf6684068401528a2aa69b               781  ...           News  https://www.nytimes.com/2018/04/24/sports/foot...\n",
       "1  5adf653f068401528a2aa697               656  ...           News  https://www.nytimes.com/2018/04/24/climate/epa...\n",
       "2  5adf4626068401528a2aa628              2427  ...           News  https://www.nytimes.com/2018/04/24/dining/noma...\n",
       "3  5adf40d2068401528a2aa619               626  ...           News  https://www.nytimes.com/2018/04/24/world/europ...\n",
       "4  5adf3d64068401528a2aa60f               815  ...           News  https://www.nytimes.com/2018/04/24/world/canad...\n",
       "\n",
       "[5 rows x 15 columns]"
      ]
     },
     "execution_count": 51,
     "metadata": {},
     "output_type": "execute_result"
    }
   ],
   "source": [
    "df=pd.read_csv('C:/Users/it/Downloads/dataset/nyt-comments/ArticlesApril2018.csv')\n",
    "df.head()"
   ]
  },
  {
   "cell_type": "code",
   "execution_count": 61,
   "metadata": {},
   "outputs": [
    {
     "name": "stdout",
     "output_type": "stream",
     "text": [
      "열의 개수 :  15\n",
      "Index(['articleID', 'articleWordCount', 'byline', 'documentType', 'headline',\n",
      "       'keywords', 'multimedia', 'newDesk', 'printPage', 'pubDate',\n",
      "       'sectionName', 'snippet', 'source', 'typeOfMaterial', 'webURL'],\n",
      "      dtype='object')\n",
      "행의 개수 :  1324\n"
     ]
    }
   ],
   "source": [
    "print('열의 개수 : ', len(df.columns))\n",
    "print(df.columns)\n",
    "print('행의 개수 : ', len(df))"
   ]
  },
  {
   "cell_type": "code",
   "execution_count": 55,
   "metadata": {},
   "outputs": [
    {
     "data": {
      "text/plain": [
       "False"
      ]
     },
     "execution_count": 55,
     "metadata": {},
     "output_type": "execute_result"
    }
   ],
   "source": [
    "df['headline'].isnull().values.any()"
   ]
  },
  {
   "cell_type": "code",
   "execution_count": 57,
   "metadata": {},
   "outputs": [
    {
     "data": {
      "text/plain": [
       "['Former N.F.L. Cheerleaders’ Settlement Offer: $1 and a Meeting With Goodell',\n",
       " 'E.P.A. to Unveil a New Rule. Its Effect: Less Science in Policymaking.',\n",
       " 'The New Noma, Explained',\n",
       " 'Unknown',\n",
       " 'Unknown',\n",
       " 'Unknown',\n",
       " 'Unknown',\n",
       " 'Unknown',\n",
       " 'How a Bag of Texas Dirt  Became a Times Tradition',\n",
       " 'Is School a Place for Self-Expression?']"
      ]
     },
     "execution_count": 57,
     "metadata": {},
     "output_type": "execute_result"
    }
   ],
   "source": [
    "headline = []\n",
    "headline.extend(list(df.headline.values))\n",
    "headline[:10]"
   ]
  },
  {
   "cell_type": "code",
   "execution_count": 58,
   "metadata": {},
   "outputs": [
    {
     "name": "stdout",
     "output_type": "stream",
     "text": [
      "총 샘플의 개수 : 1324\n"
     ]
    }
   ],
   "source": [
    "print('총 샘플의 개수 : {}'.format(len(headline)))"
   ]
  },
  {
   "cell_type": "markdown",
   "metadata": {},
   "source": [
    "노이즈 데이터를 제거하기 전 데이터의 개수는 1,324입니다.  \n",
    "즉, 신문 기사의 제목이 총 1,324개입니다."
   ]
  },
  {
   "cell_type": "code",
   "execution_count": 62,
   "metadata": {},
   "outputs": [
    {
     "name": "stdout",
     "output_type": "stream",
     "text": [
      "노이즤 값 제거 후 샘플의 개수 : 1214\n"
     ]
    }
   ],
   "source": [
    "headline = [n for n in headline if n != 'Unknown']\n",
    "print('노이즤 값 제거 후 샘플의 개수 : {}'.format(len(headline)))"
   ]
  },
  {
   "cell_type": "code",
   "execution_count": 63,
   "metadata": {},
   "outputs": [
    {
     "data": {
      "text/plain": [
       "['Former N.F.L. Cheerleaders’ Settlement Offer: $1 and a Meeting With Goodell',\n",
       " 'E.P.A. to Unveil a New Rule. Its Effect: Less Science in Policymaking.',\n",
       " 'The New Noma, Explained',\n",
       " 'How a Bag of Texas Dirt  Became a Times Tradition',\n",
       " 'Is School a Place for Self-Expression?',\n",
       " 'Commuter Reprogramming',\n",
       " 'Ford Changed Leaders, Looking for a Lift. It’s Still Looking.',\n",
       " 'Romney Failed to Win at Utah Convention, But Few Believe He’s Doomed',\n",
       " 'Chain Reaction',\n",
       " 'He Forced the Vatican to Investigate Sex Abuse. Now He’s Meeting With Pope Francis.']"
      ]
     },
     "execution_count": 63,
     "metadata": {},
     "output_type": "execute_result"
    }
   ],
   "source": [
    "headline[:10]"
   ]
  },
  {
   "cell_type": "markdown",
   "metadata": {},
   "source": [
    "이제 데이터 전처리를 수행합니다.  \n",
    "여기서 선택한 전처리는 구두점 제거와 단어의 소문자화입니다."
   ]
  },
  {
   "cell_type": "code",
   "execution_count": 68,
   "metadata": {},
   "outputs": [
    {
     "data": {
      "text/plain": [
       "['former nfl cheerleaders settlement offer 1 and a meeting with goodell',\n",
       " 'epa to unveil a new rule its effect less science in policymaking',\n",
       " 'the new noma explained',\n",
       " 'how a bag of texas dirt  became a times tradition',\n",
       " 'is school a place for selfexpression']"
      ]
     },
     "execution_count": 68,
     "metadata": {},
     "output_type": "execute_result"
    }
   ],
   "source": [
    "def repreprocessing(s):\n",
    "    s = s.encode(\"utf-8\").decode(\"ascii\", 'ignore')\n",
    "    return ''.join(c for c in s if c not in punctuation).lower()\n",
    "text = [repreprocessing(x) for x in headline]\n",
    "text[:5]"
   ]
  },
  {
   "cell_type": "markdown",
   "metadata": {},
   "source": [
    "이제 단어 집합(vocabulary)을 만들고 크기를 확인합니다."
   ]
  },
  {
   "cell_type": "code",
   "execution_count": 70,
   "metadata": {},
   "outputs": [
    {
     "name": "stdout",
     "output_type": "stream",
     "text": [
      "단어 집합의 크기 : 3494\n"
     ]
    }
   ],
   "source": [
    "t = Tokenizer()\n",
    "t.fit_on_texts(text)\n",
    "vocab_size = len(t.word_index) + 1\n",
    "print('단어 집합의 크기 : %d' %vocab_size)"
   ]
  },
  {
   "cell_type": "code",
   "execution_count": 72,
   "metadata": {},
   "outputs": [
    {
     "data": {
      "text/plain": [
       "[[99, 269],\n",
       " [99, 269, 371],\n",
       " [99, 269, 371, 1115],\n",
       " [99, 269, 371, 1115, 582],\n",
       " [99, 269, 371, 1115, 582, 52],\n",
       " [99, 269, 371, 1115, 582, 52, 7],\n",
       " [99, 269, 371, 1115, 582, 52, 7, 2],\n",
       " [99, 269, 371, 1115, 582, 52, 7, 2, 372],\n",
       " [99, 269, 371, 1115, 582, 52, 7, 2, 372, 10],\n",
       " [99, 269, 371, 1115, 582, 52, 7, 2, 372, 10, 1116],\n",
       " [100, 3],\n",
       " [100, 3, 1117],\n",
       " [100, 3, 1117, 2],\n",
       " [100, 3, 1117, 2, 14],\n",
       " [100, 3, 1117, 2, 14, 583]]"
      ]
     },
     "execution_count": 72,
     "metadata": {},
     "output_type": "execute_result"
    }
   ],
   "source": [
    "sequences = list()\n",
    "\n",
    "for line in text:\n",
    "    encoded = t.texts_to_sequences([line])[0]\n",
    "    for i in range(1, len(encoded)):\n",
    "        sequence = encoded[:i+1]\n",
    "        sequences.append(sequence)\n",
    "sequences[:15]"
   ]
  },
  {
   "cell_type": "markdown",
   "metadata": {},
   "source": [
    "[[99, 269], # former nfl  \n",
    " [99, 269, 371], # former nfl cheerleaders  \n",
    " [99, 269, 371, 1115], # former nfl cheerleaders settlement  \n",
    " [99, 269, 371, 1115, 582], # former nfl cheerleaders settlement offer  \n",
    " [99, 269, 371, 1115, 582, 52], # 'former nfl cheerleaders settlement offer 1  \n",
    " [99, 269, 371, 1115, 582, 52, 7], # former nfl cheerleaders settlement offer 1 and  \n",
    " [99, 269, 371, 1115, 582, 52, 7, 2], # ... 이하 생략 ...  \n",
    " [99, 269, 371, 1115, 582, 52, 7, 2, 372],  \n",
    " [99, 269, 371, 1115, 582, 52, 7, 2, 372, 10],  \n",
    " [99, 269, 371, 1115, 582, 52, 7, 2, 372, 10, 1116], # 모든 단어가 사용된 완전한 첫번째 문장  \n",
    " \n",
    " 바로 위의 줄 : former nfl cheerleaders settlement offer 1 and a meeting with goodell  \n",
    " [100, 3]] # epa to에 해당되며 두번째 문장이 시작됨.  "
   ]
  },
  {
   "cell_type": "code",
   "execution_count": 77,
   "metadata": {},
   "outputs": [
    {
     "name": "stdout",
     "output_type": "stream",
     "text": [
      "빈도수 상위 582번 단어 : offer\n",
      "빈도수 상위 2번 단어 : a\n",
      "빈도수 상위 1번 단어 : the\n"
     ]
    }
   ],
   "source": [
    "index_to_word={}\n",
    "for key, value in t.word_index.items():\n",
    "    index_to_word[value] = key\n",
    "print('빈도수 상위 582번 단어 : {}'.format(index_to_word[582]))\n",
    "print('빈도수 상위 2번 단어 : {}'.format(index_to_word[2]))\n",
    "print('빈도수 상위 1번 단어 : {}'.format(index_to_word[1]))"
   ]
  },
  {
   "cell_type": "code",
   "execution_count": 79,
   "metadata": {},
   "outputs": [
    {
     "name": "stdout",
     "output_type": "stream",
     "text": [
      "샘플의 최대 길이 : 24\n"
     ]
    }
   ],
   "source": [
    "max_len = max(len(l) for l in sequences)\n",
    "print('샘플의 최대 길이 : {}'.format(max_len))"
   ]
  },
  {
   "cell_type": "code",
   "execution_count": 80,
   "metadata": {},
   "outputs": [
    {
     "name": "stdout",
     "output_type": "stream",
     "text": [
      "[[   0    0    0    0    0    0    0    0    0    0    0    0    0    0\n",
      "     0    0    0    0    0    0    0    0   99  269]\n",
      " [   0    0    0    0    0    0    0    0    0    0    0    0    0    0\n",
      "     0    0    0    0    0    0    0   99  269  371]\n",
      " [   0    0    0    0    0    0    0    0    0    0    0    0    0    0\n",
      "     0    0    0    0    0    0   99  269  371 1115]\n",
      " [   0    0    0    0    0    0    0    0    0    0    0    0    0    0\n",
      "     0    0    0    0    0   99  269  371 1115  582]\n",
      " [   0    0    0    0    0    0    0    0    0    0    0    0    0    0\n",
      "     0    0    0    0   99  269  371 1115  582   52]]\n"
     ]
    }
   ],
   "source": [
    "sequences = pad_sequences(sequences, maxlen=max_len, padding='pre')\n",
    "print(sequences[:5])"
   ]
  },
  {
   "cell_type": "code",
   "execution_count": 82,
   "metadata": {},
   "outputs": [],
   "source": [
    "sequences = np.array(sequences)\n",
    "X = sequences[:, :-1]\n",
    "y = sequences[:, -1]"
   ]
  },
  {
   "cell_type": "code",
   "execution_count": 83,
   "metadata": {},
   "outputs": [
    {
     "name": "stdout",
     "output_type": "stream",
     "text": [
      "[[   0    0    0    0    0    0    0    0    0    0    0    0    0    0\n",
      "     0    0    0    0    0    0    0    0   99]\n",
      " [   0    0    0    0    0    0    0    0    0    0    0    0    0    0\n",
      "     0    0    0    0    0    0    0   99  269]\n",
      " [   0    0    0    0    0    0    0    0    0    0    0    0    0    0\n",
      "     0    0    0    0    0    0   99  269  371]\n",
      " [   0    0    0    0    0    0    0    0    0    0    0    0    0    0\n",
      "     0    0    0    0    0   99  269  371 1115]\n",
      " [   0    0    0    0    0    0    0    0    0    0    0    0    0    0\n",
      "     0    0    0    0   99  269  371 1115  582]]\n"
     ]
    }
   ],
   "source": [
    "print(X[:5])"
   ]
  },
  {
   "cell_type": "code",
   "execution_count": 84,
   "metadata": {},
   "outputs": [
    {
     "name": "stdout",
     "output_type": "stream",
     "text": [
      "[ 269  371 1115  582   52]\n"
     ]
    }
   ],
   "source": [
    "print(y[:5])"
   ]
  },
  {
   "cell_type": "code",
   "execution_count": 85,
   "metadata": {},
   "outputs": [],
   "source": [
    "y = to_categorical(y, num_classes=vocab_size)"
   ]
  },
  {
   "cell_type": "markdown",
   "metadata": {},
   "source": [
    "#### 2) 모델 설계하기"
   ]
  },
  {
   "cell_type": "code",
   "execution_count": 89,
   "metadata": {},
   "outputs": [],
   "source": [
    "from tensorflow.keras.models import Sequential\n",
    "from tensorflow.keras.layers import Embedding, Dense, LSTM"
   ]
  },
  {
   "cell_type": "code",
   "execution_count": 91,
   "metadata": {},
   "outputs": [
    {
     "name": "stdout",
     "output_type": "stream",
     "text": [
      "Train on 7803 samples\n",
      "Epoch 1/200\n",
      "7803/7803 - 9s - loss: 7.6569 - accuracy: 0.0254\n",
      "Epoch 2/200\n",
      "7803/7803 - 7s - loss: 7.1137 - accuracy: 0.0311\n",
      "Epoch 3/200\n",
      "7803/7803 - 7s - loss: 6.9731 - accuracy: 0.0340\n",
      "Epoch 4/200\n",
      "7803/7803 - 6s - loss: 6.8459 - accuracy: 0.0423\n",
      "Epoch 5/200\n",
      "7803/7803 - 7s - loss: 6.7026 - accuracy: 0.0440\n",
      "Epoch 6/200\n",
      "7803/7803 - 8s - loss: 6.5365 - accuracy: 0.0465\n",
      "Epoch 7/200\n",
      "7803/7803 - 7s - loss: 6.3510 - accuracy: 0.0487\n",
      "Epoch 8/200\n",
      "7803/7803 - 7s - loss: 6.1567 - accuracy: 0.0534\n",
      "Epoch 9/200\n",
      "7803/7803 - 7s - loss: 5.9647 - accuracy: 0.0595\n",
      "Epoch 10/200\n",
      "7803/7803 - 7s - loss: 5.7827 - accuracy: 0.0647\n",
      "Epoch 11/200\n",
      "7803/7803 - 6s - loss: 5.6093 - accuracy: 0.0713\n",
      "Epoch 12/200\n",
      "7803/7803 - 6s - loss: 5.4460 - accuracy: 0.0754\n",
      "Epoch 13/200\n",
      "7803/7803 - 6s - loss: 5.2874 - accuracy: 0.0818\n",
      "Epoch 14/200\n",
      "7803/7803 - 6s - loss: 5.1365 - accuracy: 0.0856\n",
      "Epoch 15/200\n",
      "7803/7803 - 6s - loss: 4.9942 - accuracy: 0.0969\n",
      "Epoch 16/200\n",
      "7803/7803 - 7s - loss: 4.8518 - accuracy: 0.1062\n",
      "Epoch 17/200\n",
      "7803/7803 - 6s - loss: 4.7211 - accuracy: 0.1170\n",
      "Epoch 18/200\n",
      "7803/7803 - 7s - loss: 4.5898 - accuracy: 0.1310\n",
      "Epoch 19/200\n",
      "7803/7803 - 7s - loss: 4.4662 - accuracy: 0.1473\n",
      "Epoch 20/200\n",
      "7803/7803 - 6s - loss: 4.3461 - accuracy: 0.1642\n",
      "Epoch 21/200\n",
      "7803/7803 - 6s - loss: 4.2313 - accuracy: 0.1793\n",
      "Epoch 22/200\n",
      "7803/7803 - 6s - loss: 4.1181 - accuracy: 0.1908\n",
      "Epoch 23/200\n",
      "7803/7803 - 6s - loss: 4.0091 - accuracy: 0.2107\n",
      "Epoch 24/200\n",
      "7803/7803 - 7s - loss: 3.9065 - accuracy: 0.2279\n",
      "Epoch 25/200\n",
      "7803/7803 - 7s - loss: 3.8034 - accuracy: 0.2422\n",
      "Epoch 26/200\n",
      "7803/7803 - 7s - loss: 3.7031 - accuracy: 0.2625\n",
      "Epoch 27/200\n",
      "7803/7803 - 6s - loss: 3.6084 - accuracy: 0.2753\n",
      "Epoch 28/200\n",
      "7803/7803 - 6s - loss: 3.5148 - accuracy: 0.2919\n",
      "Epoch 29/200\n",
      "7803/7803 - 6s - loss: 3.4246 - accuracy: 0.3121\n",
      "Epoch 30/200\n",
      "7803/7803 - 7s - loss: 3.3385 - accuracy: 0.3258\n",
      "Epoch 31/200\n",
      "7803/7803 - 7s - loss: 3.2553 - accuracy: 0.3387\n",
      "Epoch 32/200\n",
      "7803/7803 - 7s - loss: 3.1728 - accuracy: 0.3542\n",
      "Epoch 33/200\n",
      "7803/7803 - 6s - loss: 3.0942 - accuracy: 0.3700\n",
      "Epoch 34/200\n",
      "7803/7803 - 6s - loss: 3.0180 - accuracy: 0.3845\n",
      "Epoch 35/200\n",
      "7803/7803 - 6s - loss: 2.9446 - accuracy: 0.3969\n",
      "Epoch 36/200\n",
      "7803/7803 - 6s - loss: 2.8726 - accuracy: 0.4155\n",
      "Epoch 37/200\n",
      "7803/7803 - 6s - loss: 2.8032 - accuracy: 0.4271\n",
      "Epoch 38/200\n",
      "7803/7803 - 7s - loss: 2.7346 - accuracy: 0.4393\n",
      "Epoch 39/200\n",
      "7803/7803 - 6s - loss: 2.6699 - accuracy: 0.4565\n",
      "Epoch 40/200\n",
      "7803/7803 - 6s - loss: 2.6080 - accuracy: 0.4683\n",
      "Epoch 41/200\n",
      "7803/7803 - 6s - loss: 2.5457 - accuracy: 0.4765\n",
      "Epoch 42/200\n",
      "7803/7803 - 7s - loss: 2.4839 - accuracy: 0.4899\n",
      "Epoch 43/200\n",
      "7803/7803 - 6s - loss: 2.4247 - accuracy: 0.5044\n",
      "Epoch 44/200\n",
      "7803/7803 - 6s - loss: 2.3702 - accuracy: 0.5145\n",
      "Epoch 45/200\n",
      "7803/7803 - 7s - loss: 2.3122 - accuracy: 0.5265\n",
      "Epoch 46/200\n",
      "7803/7803 - 7s - loss: 2.2560 - accuracy: 0.5403\n",
      "Epoch 47/200\n",
      "7803/7803 - 7s - loss: 2.2030 - accuracy: 0.5527\n",
      "Epoch 48/200\n",
      "7803/7803 - 7s - loss: 2.1545 - accuracy: 0.5603\n",
      "Epoch 49/200\n",
      "7803/7803 - 7s - loss: 2.1024 - accuracy: 0.5699\n",
      "Epoch 50/200\n",
      "7803/7803 - 7s - loss: 2.0502 - accuracy: 0.5836\n",
      "Epoch 51/200\n",
      "7803/7803 - 6s - loss: 2.0037 - accuracy: 0.5898\n",
      "Epoch 52/200\n",
      "7803/7803 - 6s - loss: 1.9556 - accuracy: 0.6017\n",
      "Epoch 53/200\n",
      "7803/7803 - 6s - loss: 1.9102 - accuracy: 0.6141\n",
      "Epoch 54/200\n",
      "7803/7803 - 6s - loss: 1.8639 - accuracy: 0.6236\n",
      "Epoch 55/200\n",
      "7803/7803 - 7s - loss: 1.8207 - accuracy: 0.6308\n",
      "Epoch 56/200\n",
      "7803/7803 - 7s - loss: 1.7790 - accuracy: 0.6460\n",
      "Epoch 57/200\n",
      "7803/7803 - 7s - loss: 1.7358 - accuracy: 0.6523\n",
      "Epoch 58/200\n",
      "7803/7803 - 6s - loss: 1.6947 - accuracy: 0.6600\n",
      "Epoch 59/200\n",
      "7803/7803 - 6s - loss: 1.6531 - accuracy: 0.6705\n",
      "Epoch 60/200\n",
      "7803/7803 - 7s - loss: 1.6138 - accuracy: 0.6764\n",
      "Epoch 61/200\n",
      "7803/7803 - 6s - loss: 1.5747 - accuracy: 0.6892\n",
      "Epoch 62/200\n",
      "7803/7803 - 6s - loss: 1.5371 - accuracy: 0.6954\n",
      "Epoch 63/200\n",
      "7803/7803 - 7s - loss: 1.5005 - accuracy: 0.7037\n",
      "Epoch 64/200\n",
      "7803/7803 - 6s - loss: 1.4641 - accuracy: 0.7096\n",
      "Epoch 65/200\n",
      "7803/7803 - 6s - loss: 1.4278 - accuracy: 0.7181\n",
      "Epoch 66/200\n",
      "7803/7803 - 6s - loss: 1.3951 - accuracy: 0.7250\n",
      "Epoch 67/200\n",
      "7803/7803 - 7s - loss: 1.3612 - accuracy: 0.7305\n",
      "Epoch 68/200\n",
      "7803/7803 - 7s - loss: 1.3269 - accuracy: 0.7405\n",
      "Epoch 69/200\n",
      "7803/7803 - 7s - loss: 1.2961 - accuracy: 0.7448\n",
      "Epoch 70/200\n",
      "7803/7803 - 6s - loss: 1.2612 - accuracy: 0.7518\n",
      "Epoch 71/200\n",
      "7803/7803 - 6s - loss: 1.2343 - accuracy: 0.7619\n",
      "Epoch 72/200\n",
      "7803/7803 - 7s - loss: 1.2038 - accuracy: 0.7647\n",
      "Epoch 73/200\n",
      "7803/7803 - 6s - loss: 1.1752 - accuracy: 0.7673\n",
      "Epoch 74/200\n",
      "7803/7803 - 6s - loss: 1.1461 - accuracy: 0.7761\n",
      "Epoch 75/200\n",
      "7803/7803 - 6s - loss: 1.1185 - accuracy: 0.7812\n",
      "Epoch 76/200\n",
      "7803/7803 - 6s - loss: 1.0956 - accuracy: 0.7866\n",
      "Epoch 77/200\n",
      "7803/7803 - 6s - loss: 1.0655 - accuracy: 0.7902\n",
      "Epoch 78/200\n",
      "7803/7803 - 6s - loss: 1.0391 - accuracy: 0.7957\n",
      "Epoch 79/200\n",
      "7803/7803 - 6s - loss: 1.0142 - accuracy: 0.8021\n",
      "Epoch 80/200\n",
      "7803/7803 - 6s - loss: 0.9921 - accuracy: 0.8073\n",
      "Epoch 81/200\n",
      "7803/7803 - 6s - loss: 0.9672 - accuracy: 0.8119\n",
      "Epoch 82/200\n",
      "7803/7803 - 7s - loss: 0.9461 - accuracy: 0.8125\n",
      "Epoch 83/200\n",
      "7803/7803 - 6s - loss: 0.9229 - accuracy: 0.8167\n",
      "Epoch 84/200\n",
      "7803/7803 - 6s - loss: 0.8994 - accuracy: 0.8228\n",
      "Epoch 85/200\n",
      "7803/7803 - 6s - loss: 0.8778 - accuracy: 0.8322\n",
      "Epoch 86/200\n",
      "7803/7803 - 6s - loss: 0.8575 - accuracy: 0.8329\n",
      "Epoch 87/200\n",
      "7803/7803 - 6s - loss: 0.8414 - accuracy: 0.8347\n",
      "Epoch 88/200\n",
      "7803/7803 - 6s - loss: 0.8183 - accuracy: 0.8388\n",
      "Epoch 89/200\n",
      "7803/7803 - 7s - loss: 0.7997 - accuracy: 0.8434\n",
      "Epoch 90/200\n",
      "7803/7803 - 6s - loss: 0.7818 - accuracy: 0.8438\n",
      "Epoch 91/200\n",
      "7803/7803 - 6s - loss: 0.7649 - accuracy: 0.8508\n",
      "Epoch 92/200\n",
      "7803/7803 - 6s - loss: 0.7477 - accuracy: 0.8515\n",
      "Epoch 93/200\n",
      "7803/7803 - 6s - loss: 0.7310 - accuracy: 0.8556\n",
      "Epoch 94/200\n",
      "7803/7803 - 6s - loss: 0.7134 - accuracy: 0.8594\n",
      "Epoch 95/200\n",
      "7803/7803 - 6s - loss: 0.6971 - accuracy: 0.8612\n",
      "Epoch 96/200\n",
      "7803/7803 - 6s - loss: 0.6815 - accuracy: 0.8640\n",
      "Epoch 97/200\n",
      "7803/7803 - 6s - loss: 0.6659 - accuracy: 0.8667\n",
      "Epoch 98/200\n",
      "7803/7803 - 6s - loss: 0.6530 - accuracy: 0.8674\n",
      "Epoch 99/200\n",
      "7803/7803 - 6s - loss: 0.6384 - accuracy: 0.8729\n",
      "Epoch 100/200\n",
      "7803/7803 - 6s - loss: 0.6260 - accuracy: 0.8733\n",
      "Epoch 101/200\n",
      "7803/7803 - 7s - loss: 0.6115 - accuracy: 0.8779\n",
      "Epoch 102/200\n",
      "7803/7803 - 6s - loss: 0.5987 - accuracy: 0.8784\n",
      "Epoch 103/200\n",
      "7803/7803 - 6s - loss: 0.5842 - accuracy: 0.8845\n",
      "Epoch 104/200\n",
      "7803/7803 - 6s - loss: 0.5743 - accuracy: 0.8857\n",
      "Epoch 105/200\n",
      "7803/7803 - 6s - loss: 0.5610 - accuracy: 0.8853\n",
      "Epoch 106/200\n",
      "7803/7803 - 6s - loss: 0.5557 - accuracy: 0.8898\n",
      "Epoch 107/200\n",
      "7803/7803 - 6s - loss: 0.5440 - accuracy: 0.8884\n",
      "Epoch 108/200\n",
      "7803/7803 - 6s - loss: 0.5269 - accuracy: 0.8926\n",
      "Epoch 109/200\n",
      "7803/7803 - 6s - loss: 0.5179 - accuracy: 0.8948\n",
      "Epoch 110/200\n",
      "7803/7803 - 6s - loss: 0.5069 - accuracy: 0.8965\n",
      "Epoch 111/200\n",
      "7803/7803 - 6s - loss: 0.4978 - accuracy: 0.8967\n",
      "Epoch 112/200\n",
      "7803/7803 - 6s - loss: 0.4871 - accuracy: 0.9004\n",
      "Epoch 113/200\n",
      "7803/7803 - 6s - loss: 0.4793 - accuracy: 0.9017\n",
      "Epoch 114/200\n",
      "7803/7803 - 6s - loss: 0.5571 - accuracy: 0.8821\n",
      "Epoch 115/200\n",
      "7803/7803 - 6s - loss: 0.5172 - accuracy: 0.8952\n",
      "Epoch 116/200\n",
      "7803/7803 - 6s - loss: 0.4693 - accuracy: 0.9006\n",
      "Epoch 117/200\n",
      "7803/7803 - 6s - loss: 0.4520 - accuracy: 0.9062\n",
      "Epoch 118/200\n",
      "7803/7803 - 6s - loss: 0.4423 - accuracy: 0.9084\n",
      "Epoch 119/200\n",
      "7803/7803 - 7s - loss: 0.4348 - accuracy: 0.9085\n",
      "Epoch 120/200\n",
      "7803/7803 - 6s - loss: 0.4271 - accuracy: 0.9081\n",
      "Epoch 121/200\n",
      "7803/7803 - 6s - loss: 0.4209 - accuracy: 0.9093\n",
      "Epoch 122/200\n",
      "7803/7803 - 6s - loss: 0.4139 - accuracy: 0.9094\n",
      "Epoch 123/200\n",
      "7803/7803 - 6s - loss: 0.4075 - accuracy: 0.9111\n",
      "Epoch 124/200\n",
      "7803/7803 - 6s - loss: 0.4014 - accuracy: 0.9090\n",
      "Epoch 125/200\n",
      "7803/7803 - 6s - loss: 0.3949 - accuracy: 0.9114\n",
      "Epoch 126/200\n",
      "7803/7803 - 6s - loss: 0.3888 - accuracy: 0.9123\n",
      "Epoch 127/200\n",
      "7803/7803 - 6s - loss: 0.3828 - accuracy: 0.9121\n",
      "Epoch 128/200\n",
      "7803/7803 - 6s - loss: 0.3803 - accuracy: 0.9118\n",
      "Epoch 129/200\n",
      "7803/7803 - 6s - loss: 0.3754 - accuracy: 0.9134\n",
      "Epoch 130/200\n",
      "7803/7803 - 6s - loss: 0.3682 - accuracy: 0.9135\n",
      "Epoch 131/200\n",
      "7803/7803 - 6s - loss: 0.3641 - accuracy: 0.9127\n",
      "Epoch 132/200\n",
      "7803/7803 - 6s - loss: 0.3595 - accuracy: 0.9136\n"
     ]
    },
    {
     "name": "stdout",
     "output_type": "stream",
     "text": [
      "Epoch 133/200\n",
      "7803/7803 - 6s - loss: 0.3544 - accuracy: 0.9153\n",
      "Epoch 134/200\n",
      "7803/7803 - 6s - loss: 0.3552 - accuracy: 0.9141\n",
      "Epoch 135/200\n",
      "7803/7803 - 6s - loss: 0.3570 - accuracy: 0.9116\n",
      "Epoch 136/200\n",
      "7803/7803 - 6s - loss: 0.3432 - accuracy: 0.9155\n",
      "Epoch 137/200\n",
      "7803/7803 - 6s - loss: 0.3405 - accuracy: 0.9145\n",
      "Epoch 138/200\n",
      "7803/7803 - 7s - loss: 0.3343 - accuracy: 0.9157\n",
      "Epoch 139/200\n",
      "7803/7803 - 6s - loss: 0.3317 - accuracy: 0.9140\n",
      "Epoch 140/200\n",
      "7803/7803 - 6s - loss: 0.3283 - accuracy: 0.9149\n",
      "Epoch 141/200\n",
      "7803/7803 - 6s - loss: 0.3252 - accuracy: 0.9154\n",
      "Epoch 142/200\n",
      "7803/7803 - 6s - loss: 0.3242 - accuracy: 0.9157\n",
      "Epoch 143/200\n",
      "7803/7803 - 6s - loss: 0.3220 - accuracy: 0.9138\n",
      "Epoch 144/200\n",
      "7803/7803 - 6s - loss: 0.3201 - accuracy: 0.9146\n",
      "Epoch 145/200\n",
      "7803/7803 - 6s - loss: 0.3168 - accuracy: 0.9166\n",
      "Epoch 146/200\n",
      "7803/7803 - 6s - loss: 0.3202 - accuracy: 0.9148\n",
      "Epoch 147/200\n",
      "7803/7803 - 7s - loss: 0.3139 - accuracy: 0.9152\n",
      "Epoch 148/200\n",
      "7803/7803 - 7s - loss: 0.3087 - accuracy: 0.9140\n",
      "Epoch 149/200\n",
      "7803/7803 - 7s - loss: 0.3076 - accuracy: 0.9164\n",
      "Epoch 150/200\n",
      "7803/7803 - 7s - loss: 0.3039 - accuracy: 0.9162\n",
      "Epoch 151/200\n",
      "7803/7803 - 6s - loss: 0.3009 - accuracy: 0.9166\n",
      "Epoch 152/200\n",
      "7803/7803 - 6s - loss: 0.2993 - accuracy: 0.9158\n",
      "Epoch 153/200\n",
      "7803/7803 - 8s - loss: 0.2997 - accuracy: 0.9163\n",
      "Epoch 154/200\n",
      "7803/7803 - 7s - loss: 0.2965 - accuracy: 0.9161\n",
      "Epoch 155/200\n",
      "7803/7803 - 6s - loss: 0.2934 - accuracy: 0.9148\n",
      "Epoch 156/200\n",
      "7803/7803 - 6s - loss: 0.2923 - accuracy: 0.9170\n",
      "Epoch 157/200\n",
      "7803/7803 - 7s - loss: 0.2925 - accuracy: 0.9168\n",
      "Epoch 158/200\n",
      "7803/7803 - 6s - loss: 0.2911 - accuracy: 0.9161\n",
      "Epoch 159/200\n",
      "7803/7803 - 6s - loss: 0.2897 - accuracy: 0.9154\n",
      "Epoch 160/200\n",
      "7803/7803 - 6s - loss: 0.2876 - accuracy: 0.9158\n",
      "Epoch 161/200\n",
      "7803/7803 - 7s - loss: 0.2888 - accuracy: 0.9161\n",
      "Epoch 162/200\n",
      "7803/7803 - 6s - loss: 0.2867 - accuracy: 0.9163\n",
      "Epoch 163/200\n",
      "7803/7803 - 6s - loss: 0.2842 - accuracy: 0.9152\n",
      "Epoch 164/200\n",
      "7803/7803 - 6s - loss: 0.2820 - accuracy: 0.9164\n",
      "Epoch 165/200\n",
      "7803/7803 - 6s - loss: 0.2801 - accuracy: 0.9173\n",
      "Epoch 166/200\n",
      "7803/7803 - 7s - loss: 0.2799 - accuracy: 0.9168\n",
      "Epoch 167/200\n",
      "7803/7803 - 7s - loss: 0.2799 - accuracy: 0.9166\n",
      "Epoch 168/200\n",
      "7803/7803 - 6s - loss: 0.2783 - accuracy: 0.9179\n",
      "Epoch 169/200\n",
      "7803/7803 - 6s - loss: 0.2803 - accuracy: 0.9162\n",
      "Epoch 170/200\n",
      "7803/7803 - 6s - loss: 0.3072 - accuracy: 0.9109\n",
      "Epoch 171/200\n",
      "7803/7803 - 6s - loss: 0.2973 - accuracy: 0.9149\n",
      "Epoch 172/200\n",
      "7803/7803 - 6s - loss: 0.2778 - accuracy: 0.9163\n",
      "Epoch 173/200\n",
      "7803/7803 - 6s - loss: 0.2727 - accuracy: 0.9144\n",
      "Epoch 174/200\n",
      "7803/7803 - 7s - loss: 0.2718 - accuracy: 0.9170\n",
      "Epoch 175/200\n",
      "7803/7803 - 7s - loss: 0.2718 - accuracy: 0.9164\n",
      "Epoch 176/200\n",
      "7803/7803 - 6s - loss: 0.2716 - accuracy: 0.9171\n",
      "Epoch 177/200\n",
      "7803/7803 - 6s - loss: 0.2712 - accuracy: 0.9161\n",
      "Epoch 178/200\n",
      "7803/7803 - 6s - loss: 0.2692 - accuracy: 0.9170\n",
      "Epoch 179/200\n",
      "7803/7803 - 6s - loss: 0.2695 - accuracy: 0.9171\n",
      "Epoch 180/200\n",
      "7803/7803 - 6s - loss: 0.2702 - accuracy: 0.9148\n",
      "Epoch 181/200\n",
      "7803/7803 - 7s - loss: 0.2728 - accuracy: 0.9152\n",
      "Epoch 182/200\n",
      "7803/7803 - 7s - loss: 0.2703 - accuracy: 0.9179\n",
      "Epoch 183/200\n",
      "7803/7803 - 7s - loss: 0.2682 - accuracy: 0.9175\n",
      "Epoch 184/200\n",
      "7803/7803 - 7s - loss: 0.2677 - accuracy: 0.9159\n",
      "Epoch 185/200\n",
      "7803/7803 - 7s - loss: 0.2668 - accuracy: 0.9167\n",
      "Epoch 186/200\n",
      "7803/7803 - 7s - loss: 0.2664 - accuracy: 0.9163\n",
      "Epoch 187/200\n",
      "7803/7803 - 7s - loss: 0.2664 - accuracy: 0.9158\n",
      "Epoch 188/200\n",
      "7803/7803 - 7s - loss: 0.2655 - accuracy: 0.9166\n",
      "Epoch 189/200\n",
      "7803/7803 - 7s - loss: 0.2647 - accuracy: 0.9172\n",
      "Epoch 190/200\n",
      "7803/7803 - 6s - loss: 0.2652 - accuracy: 0.9158\n",
      "Epoch 191/200\n",
      "7803/7803 - 6s - loss: 0.2646 - accuracy: 0.9170\n",
      "Epoch 192/200\n",
      "7803/7803 - 6s - loss: 0.2648 - accuracy: 0.9168\n",
      "Epoch 193/200\n",
      "7803/7803 - 7s - loss: 0.2641 - accuracy: 0.9159\n",
      "Epoch 194/200\n",
      "7803/7803 - 6s - loss: 0.2637 - accuracy: 0.9157\n",
      "Epoch 195/200\n",
      "7803/7803 - 6s - loss: 0.2632 - accuracy: 0.9168\n",
      "Epoch 196/200\n",
      "7803/7803 - 7s - loss: 0.2615 - accuracy: 0.9166\n",
      "Epoch 197/200\n",
      "7803/7803 - 6s - loss: 0.2631 - accuracy: 0.9166\n",
      "Epoch 198/200\n",
      "7803/7803 - 6s - loss: 0.2619 - accuracy: 0.9158\n",
      "Epoch 199/200\n",
      "7803/7803 - 6s - loss: 0.2632 - accuracy: 0.9150\n",
      "Epoch 200/200\n",
      "7803/7803 - 6s - loss: 0.3054 - accuracy: 0.9043\n"
     ]
    },
    {
     "data": {
      "text/plain": [
       "<tensorflow.python.keras.callbacks.History at 0x18f5b9b17c8>"
      ]
     },
     "execution_count": 91,
     "metadata": {},
     "output_type": "execute_result"
    }
   ],
   "source": [
    "model = Sequential()\n",
    "model.add(Embedding(vocab_size, 10, input_length=max_len-1))\n",
    "# y데이터를 분리하였으므로 이제 X데이터의 길이는 기존 데이터의 길이 - 1\n",
    "model.add(LSTM(128))\n",
    "model.add(Dense(vocab_size, activation='softmax'))\n",
    "model.compile(loss='categorical_crossentropy', optimizer='adam', metrics=['accuracy'])\n",
    "model.fit(X, y, epochs=200, verbose=2)"
   ]
  },
  {
   "cell_type": "code",
   "execution_count": 93,
   "metadata": {},
   "outputs": [],
   "source": [
    "def sentence_generation(model, t, current_word, n): # 모델, 토크나이저, 현재 단어, 반복할 횟수\n",
    "    init_word = current_word # 처음 들어온 단어도 마지막에 같이 출력하기위해 저장\n",
    "    sentence = ''\n",
    "    for _ in range(n): # n번 반복\n",
    "        encoded = t.texts_to_sequences([current_word])[0] # 현재 단어에 대한 정수 인코딩\n",
    "        encoded = pad_sequences([encoded], maxlen=23, padding='pre') # 데이터에 대한 패딩\n",
    "        result = model.predict_classes(encoded, verbose=0)\n",
    "    # 입력한 X(현재 단어)에 대해서 y를 예측하고 y(예측한 단어)를 result에 저장.\n",
    "        for word, index in t.word_index.items(): \n",
    "            if index == result: # 만약 예측한 단어와 인덱스와 동일한 단어가 있다면\n",
    "                break # 해당 단어가 예측 단어이므로 break\n",
    "        current_word = current_word + ' '  + word # 현재 단어 + ' ' + 예측 단어를 현재 단어로 변경\n",
    "        sentence = sentence + ' ' + word # 예측 단어를 문장에 저장\n",
    "    # for문이므로 이 행동을 다시 반복\n",
    "    sentence = init_word + sentence\n",
    "    return sentence"
   ]
  },
  {
   "cell_type": "code",
   "execution_count": 94,
   "metadata": {},
   "outputs": [
    {
     "name": "stdout",
     "output_type": "stream",
     "text": [
      "i cant jump ship from facebook yet help from the instagram\n"
     ]
    }
   ],
   "source": [
    "print(sentence_generation(model, t, 'i', 10))"
   ]
  },
  {
   "cell_type": "code",
   "execution_count": 95,
   "metadata": {},
   "outputs": [
    {
     "name": "stdout",
     "output_type": "stream",
     "text": [
      "how to make a crossword puzzle floods schools turning point no\n"
     ]
    }
   ],
   "source": [
    "print(sentence_generation(model, t, 'how', 10))"
   ]
  }
 ],
 "metadata": {
  "kernelspec": {
   "display_name": "protf",
   "language": "python",
   "name": "protf"
  },
  "language_info": {
   "codemirror_mode": {
    "name": "ipython",
    "version": 3
   },
   "file_extension": ".py",
   "mimetype": "text/x-python",
   "name": "python",
   "nbconvert_exporter": "python",
   "pygments_lexer": "ipython3",
   "version": "3.7.4"
  }
 },
 "nbformat": 4,
 "nbformat_minor": 2
}
