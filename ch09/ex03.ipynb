{
 "cells": [
  {
   "cell_type": "markdown",
   "metadata": {},
   "source": [
    "# 글자 단위 RNN(Char RNN)"
   ]
  },
  {
   "cell_type": "markdown",
   "metadata": {},
   "source": [
    "### 글자 단위 RNN 언어 모델(Char RNNLM)"
   ]
  },
  {
   "cell_type": "markdown",
   "metadata": {},
   "source": [
    "다운로드 링크 : http://www.gutenberg.org/files/11/11-0.txt"
   ]
  },
  {
   "cell_type": "markdown",
   "metadata": {},
   "source": [
    "#### 1) 데이터에 대한 이해와 전처리"
   ]
  },
  {
   "cell_type": "code",
   "execution_count": 1,
   "metadata": {},
   "outputs": [],
   "source": [
    "import numpy as np\n",
    "from tensorflow.keras.utils import to_categorical"
   ]
  },
  {
   "cell_type": "code",
   "execution_count": 2,
   "metadata": {},
   "outputs": [],
   "source": [
    "f = open('C:/Users/it/Downloads/dataset/11-0.txt', 'rb')\n",
    "lines = []\n",
    "for line in f:\n",
    "    line = line.strip() # strip()을 통해 \\r, \\n을 제거한다.\n",
    "    line = line.lower()\n",
    "    line = line.decode('ascii', 'ignore') # \\xe2\\x80\\x99 등과 같은 바이트 열 제거\n",
    "    if len(line) > 0:\n",
    "        lines.append(line)\n",
    "f.close()"
   ]
  },
  {
   "cell_type": "code",
   "execution_count": 3,
   "metadata": {},
   "outputs": [
    {
     "data": {
      "text/plain": [
       "['project gutenbergs alices adventures in wonderland, by lewis carroll',\n",
       " 'this ebook is for the use of anyone anywhere at no cost and with',\n",
       " 'almost no restrictions whatsoever.  you may copy it, give it away or',\n",
       " 're-use it under the terms of the project gutenberg license included',\n",
       " 'with this ebook or online at www.gutenberg.org']"
      ]
     },
     "execution_count": 3,
     "metadata": {},
     "output_type": "execute_result"
    }
   ],
   "source": [
    "lines[:5]"
   ]
  },
  {
   "cell_type": "code",
   "execution_count": 4,
   "metadata": {},
   "outputs": [
    {
     "name": "stdout",
     "output_type": "stream",
     "text": [
      "문자열의 길이 또는 총 글자의 개수 : 158783\n"
     ]
    }
   ],
   "source": [
    "text = ' '.join(lines)\n",
    "print('문자열의 길이 또는 총 글자의 개수 : %d' %len(text))"
   ]
  },
  {
   "cell_type": "code",
   "execution_count": 5,
   "metadata": {},
   "outputs": [
    {
     "name": "stdout",
     "output_type": "stream",
     "text": [
      "project gutenbergs alices adventures in wonderland, by lewis carroll this ebook is for the use of anyone anywhere at no cost and with almost no restrictions whatsoever.  you may copy it, give it away \n"
     ]
    }
   ],
   "source": [
    "print(text[:200])"
   ]
  },
  {
   "cell_type": "markdown",
   "metadata": {},
   "source": [
    "기존에는 중복을 제거한 단어들의 모음인 단어 집합(vocabulary)을 만들었으나, 이번에 만들 집합은 단어 집합이 아니라 글자 집합입니다."
   ]
  },
  {
   "cell_type": "code",
   "execution_count": 6,
   "metadata": {},
   "outputs": [
    {
     "name": "stdout",
     "output_type": "stream",
     "text": [
      "글자 집합의 크기 : 55\n"
     ]
    }
   ],
   "source": [
    "char_vocab = sorted(list(set(text)))\n",
    "vocab_size = len(char_vocab)\n",
    "print('글자 집합의 크기 : {}'.format(vocab_size))"
   ]
  },
  {
   "cell_type": "markdown",
   "metadata": {},
   "source": [
    "글자 집합에 인덱스를 부여하고 전부 출력"
   ]
  },
  {
   "cell_type": "code",
   "execution_count": 7,
   "metadata": {},
   "outputs": [
    {
     "name": "stdout",
     "output_type": "stream",
     "text": [
      "{' ': 0, '!': 1, '#': 2, '$': 3, '%': 4, '(': 5, ')': 6, '*': 7, ',': 8, '-': 9, '.': 10, '/': 11, '0': 12, '1': 13, '2': 14, '3': 15, '4': 16, '5': 17, '6': 18, '7': 19, '8': 20, '9': 21, ':': 22, ';': 23, '?': 24, '@': 25, '[': 26, ']': 27, '_': 28, 'a': 29, 'b': 30, 'c': 31, 'd': 32, 'e': 33, 'f': 34, 'g': 35, 'h': 36, 'i': 37, 'j': 38, 'k': 39, 'l': 40, 'm': 41, 'n': 42, 'o': 43, 'p': 44, 'q': 45, 'r': 46, 's': 47, 't': 48, 'u': 49, 'v': 50, 'w': 51, 'x': 52, 'y': 53, 'z': 54}\n"
     ]
    }
   ],
   "source": [
    "char_to_index = dict((c, i) for i, c in enumerate(char_vocab))\n",
    "print(char_to_index)"
   ]
  },
  {
   "cell_type": "code",
   "execution_count": 8,
   "metadata": {},
   "outputs": [],
   "source": [
    "index_to_char={}\n",
    "for key, value in char_to_index.items():\n",
    "    index_to_char[value] = key"
   ]
  },
  {
   "cell_type": "markdown",
   "metadata": {},
   "source": [
    "Example) 샘플의 길이가 4라면 4개의 입력 글자 시퀀스로 부터 4개의 출력 글자 시퀀스를 예측. 즉, RNN의 time step은 4번  \n",
    "appl -> pple  \n",
    "appl은 train_X(입력 시퀀스), pple는 train_y(예측해야하는 시퀀스)에 저장한다."
   ]
  },
  {
   "cell_type": "code",
   "execution_count": 9,
   "metadata": {},
   "outputs": [
    {
     "name": "stdout",
     "output_type": "stream",
     "text": [
      "문장 샘플의 수 : 2646\n"
     ]
    }
   ],
   "source": [
    "seq_length = 60\n",
    "n_samples = int(np.floor((len(text) - 1) / seq_length))\n",
    "print('문장 샘플의 수 : {}'.format(n_samples))"
   ]
  },
  {
   "cell_type": "code",
   "execution_count": 10,
   "metadata": {},
   "outputs": [],
   "source": [
    "train_X = []\n",
    "train_y = []\n",
    "\n",
    "for i in range(n_samples):\n",
    "    X_sample = text[i * seq_length : (i + 1) * seq_length]\n",
    "    X_encoded = [char_to_index[c] for c in X_sample]\n",
    "    train_X.append(X_encoded)\n",
    "    \n",
    "    y_sample = text[i * seq_length + 1: (i + 1) * seq_length + 1] # 1칸 쉬프트\n",
    "    y_encoded = [char_to_index[c] for c in y_sample]\n",
    "    train_y.append(y_encoded)"
   ]
  },
  {
   "cell_type": "code",
   "execution_count": 11,
   "metadata": {},
   "outputs": [
    {
     "name": "stdout",
     "output_type": "stream",
     "text": [
      "[44, 46, 43, 38, 33, 31, 48, 0, 35, 49, 48, 33, 42, 30, 33, 46, 35, 47, 0, 29, 40, 37, 31, 33, 47, 0, 29, 32, 50, 33, 42, 48, 49, 46, 33, 47, 0, 37, 42, 0, 51, 43, 42, 32, 33, 46, 40, 29, 42, 32, 8, 0, 30, 53, 0, 40, 33, 51, 37, 47]\n"
     ]
    }
   ],
   "source": [
    "print(train_X[0])"
   ]
  },
  {
   "cell_type": "code",
   "execution_count": 12,
   "metadata": {},
   "outputs": [
    {
     "name": "stdout",
     "output_type": "stream",
     "text": [
      "[46, 43, 38, 33, 31, 48, 0, 35, 49, 48, 33, 42, 30, 33, 46, 35, 47, 0, 29, 40, 37, 31, 33, 47, 0, 29, 32, 50, 33, 42, 48, 49, 46, 33, 47, 0, 37, 42, 0, 51, 43, 42, 32, 33, 46, 40, 29, 42, 32, 8, 0, 30, 53, 0, 40, 33, 51, 37, 47, 0]\n"
     ]
    }
   ],
   "source": [
    "print(train_y[0])"
   ]
  },
  {
   "cell_type": "code",
   "execution_count": 13,
   "metadata": {},
   "outputs": [
    {
     "name": "stdout",
     "output_type": "stream",
     "text": [
      "[0, 31, 29, 46, 46, 43, 40, 40, 0, 48, 36, 37, 47, 0, 33, 30, 43, 43, 39, 0, 37, 47, 0, 34, 43, 46, 0, 48, 36, 33, 0, 49, 47, 33, 0, 43, 34, 0, 29, 42, 53, 43, 42, 33, 0, 29, 42, 53, 51, 36, 33, 46, 33, 0, 29, 48, 0, 42, 43, 0]\n"
     ]
    }
   ],
   "source": [
    "print(train_X[1])"
   ]
  },
  {
   "cell_type": "code",
   "execution_count": 14,
   "metadata": {},
   "outputs": [
    {
     "name": "stdout",
     "output_type": "stream",
     "text": [
      "[31, 29, 46, 46, 43, 40, 40, 0, 48, 36, 37, 47, 0, 33, 30, 43, 43, 39, 0, 37, 47, 0, 34, 43, 46, 0, 48, 36, 33, 0, 49, 47, 33, 0, 43, 34, 0, 29, 42, 53, 43, 42, 33, 0, 29, 42, 53, 51, 36, 33, 46, 33, 0, 29, 48, 0, 42, 43, 0, 31]\n"
     ]
    }
   ],
   "source": [
    "print(train_y[1])"
   ]
  },
  {
   "cell_type": "code",
   "execution_count": 15,
   "metadata": {},
   "outputs": [],
   "source": [
    "train_X = to_categorical(train_X)\n",
    "train_y = to_categorical(train_y)"
   ]
  },
  {
   "cell_type": "code",
   "execution_count": 16,
   "metadata": {},
   "outputs": [
    {
     "name": "stdout",
     "output_type": "stream",
     "text": [
      "train_X의 크기(shape) : (2646, 60, 55)\n",
      "train_y의 크기(shape) : (2646, 60, 55)\n"
     ]
    }
   ],
   "source": [
    "print('train_X의 크기(shape) : {}'.format(train_X.shape)) # 원-핫 인코딩\n",
    "print('train_y의 크기(shape) : {}'.format(train_y.shape)) # 원-핫 인코딩"
   ]
  },
  {
   "attachments": {
    "image.png": {
     "image/png": "[encoded data removed]"
    }
   },
   "cell_type": "markdown",
   "metadata": {},
   "source": [
    "train_X와 train_y의 크기는 2,646 × 60 × 55 입니다.  \n",
    "\n",
    "![image.png](attachment:image.png)\n"
   ]
  },
  {
   "cell_type": "markdown",
   "metadata": {},
   "source": [
    "#### 2) 모델 설계하기"
   ]
  },
  {
   "cell_type": "code",
   "execution_count": 17,
   "metadata": {},
   "outputs": [],
   "source": [
    "from tensorflow.keras.models import Sequential\n",
    "from tensorflow.keras.layers import Dense, LSTM, TimeDistributed"
   ]
  },
  {
   "cell_type": "code",
   "execution_count": 20,
   "metadata": {},
   "outputs": [],
   "source": [
    "model = Sequential()\n",
    "model.add(LSTM(256, input_shape=(None, train_X.shape[2]), return_sequences=True))\n",
    "model.add(LSTM(256, return_sequences=True))\n",
    "model.add(TimeDistributed(Dense(vocab_size, activation='softmax')))"
   ]
  },
  {
   "cell_type": "code",
   "execution_count": 22,
   "metadata": {},
   "outputs": [
    {
     "name": "stdout",
     "output_type": "stream",
     "text": [
      "Train on 2646 samples\n",
      "Epoch 1/80\n",
      "2646/2646 - 64s - loss: 3.0640 - accuracy: 0.1825\n",
      "Epoch 2/80\n",
      "2646/2646 - 57s - loss: 2.7357 - accuracy: 0.2468\n",
      "Epoch 3/80\n",
      "2646/2646 - 59s - loss: 2.3888 - accuracy: 0.3274\n",
      "Epoch 4/80\n",
      "2646/2646 - 45s - loss: 2.2478 - accuracy: 0.3591\n",
      "Epoch 5/80\n",
      "2646/2646 - 44s - loss: 2.1496 - accuracy: 0.3842\n",
      "Epoch 6/80\n",
      "2646/2646 - 44s - loss: 2.0698 - accuracy: 0.4024\n",
      "Epoch 7/80\n",
      "2646/2646 - 44s - loss: 2.0020 - accuracy: 0.4177\n",
      "Epoch 8/80\n",
      "2646/2646 - 44s - loss: 1.9422 - accuracy: 0.4340\n",
      "Epoch 9/80\n",
      "2646/2646 - 47s - loss: 1.8882 - accuracy: 0.4476\n",
      "Epoch 10/80\n",
      "2646/2646 - 46s - loss: 1.8403 - accuracy: 0.4615\n",
      "Epoch 11/80\n",
      "2646/2646 - 45s - loss: 1.7947 - accuracy: 0.4741\n",
      "Epoch 12/80\n",
      "2646/2646 - 44s - loss: 1.7492 - accuracy: 0.4865\n",
      "Epoch 13/80\n",
      "2646/2646 - 44s - loss: 1.7116 - accuracy: 0.4974\n",
      "Epoch 14/80\n",
      "2646/2646 - 44s - loss: 1.6699 - accuracy: 0.5087\n",
      "Epoch 15/80\n",
      "2646/2646 - 44s - loss: 1.6343 - accuracy: 0.5183\n",
      "Epoch 16/80\n",
      "2646/2646 - 45s - loss: 1.6016 - accuracy: 0.5269\n",
      "Epoch 17/80\n",
      "2646/2646 - 44s - loss: 1.5682 - accuracy: 0.5360\n",
      "Epoch 18/80\n",
      "2646/2646 - 44s - loss: 1.5351 - accuracy: 0.5464\n",
      "Epoch 19/80\n",
      "2646/2646 - 46s - loss: 1.5050 - accuracy: 0.5541\n",
      "Epoch 20/80\n",
      "2646/2646 - 44s - loss: 1.4744 - accuracy: 0.5621\n",
      "Epoch 21/80\n",
      "2646/2646 - 45s - loss: 1.4465 - accuracy: 0.5706\n",
      "Epoch 22/80\n",
      "2646/2646 - 45s - loss: 1.4170 - accuracy: 0.5779\n",
      "Epoch 23/80\n",
      "2646/2646 - 45s - loss: 1.3892 - accuracy: 0.5863\n",
      "Epoch 24/80\n",
      "2646/2646 - 44s - loss: 1.3622 - accuracy: 0.5937\n",
      "Epoch 25/80\n",
      "2646/2646 - 44s - loss: 1.3372 - accuracy: 0.6008\n",
      "Epoch 26/80\n",
      "2646/2646 - 44s - loss: 1.3092 - accuracy: 0.6084\n",
      "Epoch 27/80\n",
      "2646/2646 - 44s - loss: 1.2826 - accuracy: 0.6164\n",
      "Epoch 28/80\n",
      "2646/2646 - 45s - loss: 1.2576 - accuracy: 0.6238\n",
      "Epoch 29/80\n",
      "2646/2646 - 45s - loss: 1.2291 - accuracy: 0.6309\n",
      "Epoch 30/80\n",
      "2646/2646 - 47s - loss: 1.2030 - accuracy: 0.6384\n",
      "Epoch 31/80\n",
      "2646/2646 - 44s - loss: 1.1782 - accuracy: 0.6460\n",
      "Epoch 32/80\n",
      "2646/2646 - 46s - loss: 1.1520 - accuracy: 0.6537\n",
      "Epoch 33/80\n",
      "2646/2646 - 45s - loss: 1.1238 - accuracy: 0.6618\n",
      "Epoch 34/80\n",
      "2646/2646 - 51s - loss: 1.0987 - accuracy: 0.6692\n",
      "Epoch 35/80\n",
      "2646/2646 - 53s - loss: 1.0721 - accuracy: 0.6780\n",
      "Epoch 36/80\n",
      "2646/2646 - 53s - loss: 1.0440 - accuracy: 0.6854\n",
      "Epoch 37/80\n",
      "2646/2646 - 52s - loss: 1.0158 - accuracy: 0.6944\n",
      "Epoch 38/80\n",
      "2646/2646 - 54s - loss: 0.9903 - accuracy: 0.7032\n",
      "Epoch 39/80\n",
      "2646/2646 - 65s - loss: 0.9630 - accuracy: 0.7096\n",
      "Epoch 40/80\n",
      "2646/2646 - 60s - loss: 0.9343 - accuracy: 0.7192\n",
      "Epoch 41/80\n",
      "2646/2646 - 63s - loss: 0.9085 - accuracy: 0.7284\n",
      "Epoch 42/80\n",
      "2646/2646 - 60s - loss: 0.8826 - accuracy: 0.7359\n",
      "Epoch 43/80\n",
      "2646/2646 - 58s - loss: 0.8535 - accuracy: 0.7452\n",
      "Epoch 44/80\n",
      "2646/2646 - 57s - loss: 0.8276 - accuracy: 0.7537\n",
      "Epoch 45/80\n",
      "2646/2646 - 59s - loss: 0.8023 - accuracy: 0.7612\n",
      "Epoch 46/80\n",
      "2646/2646 - 59s - loss: 0.7760 - accuracy: 0.7704\n",
      "Epoch 47/80\n",
      "2646/2646 - 60s - loss: 0.7504 - accuracy: 0.7782\n",
      "Epoch 48/80\n",
      "2646/2646 - 46s - loss: 0.7237 - accuracy: 0.7864\n",
      "Epoch 49/80\n",
      "2646/2646 - 45s - loss: 0.6996 - accuracy: 0.7948\n",
      "Epoch 50/80\n",
      "2646/2646 - 44s - loss: 0.6761 - accuracy: 0.8020\n",
      "Epoch 51/80\n",
      "2646/2646 - 44s - loss: 0.6538 - accuracy: 0.8089\n",
      "Epoch 52/80\n",
      "2646/2646 - 44s - loss: 0.6299 - accuracy: 0.8170\n",
      "Epoch 53/80\n",
      "2646/2646 - 44s - loss: 0.6050 - accuracy: 0.8254\n",
      "Epoch 54/80\n",
      "2646/2646 - 44s - loss: 0.5846 - accuracy: 0.8311\n",
      "Epoch 55/80\n",
      "2646/2646 - 46s - loss: 0.5668 - accuracy: 0.8369\n",
      "Epoch 56/80\n",
      "2646/2646 - 47s - loss: 0.5461 - accuracy: 0.8436\n",
      "Epoch 57/80\n",
      "2646/2646 - 45s - loss: 0.5230 - accuracy: 0.8523\n",
      "Epoch 58/80\n",
      "2646/2646 - 45s - loss: 0.5006 - accuracy: 0.8597\n",
      "Epoch 59/80\n",
      "2646/2646 - 45s - loss: 0.4846 - accuracy: 0.8644\n",
      "Epoch 60/80\n",
      "2646/2646 - 50s - loss: 0.4654 - accuracy: 0.8706\n",
      "Epoch 61/80\n",
      "2646/2646 - 46s - loss: 0.4465 - accuracy: 0.8775\n",
      "Epoch 62/80\n",
      "2646/2646 - 54s - loss: 0.4294 - accuracy: 0.8821\n",
      "Epoch 63/80\n",
      "2646/2646 - 56s - loss: 0.4109 - accuracy: 0.8880\n",
      "Epoch 64/80\n",
      "2646/2646 - 54s - loss: 0.3966 - accuracy: 0.8928\n",
      "Epoch 65/80\n",
      "2646/2646 - 62s - loss: 0.3810 - accuracy: 0.8982\n",
      "Epoch 66/80\n",
      "2646/2646 - 58s - loss: 0.3651 - accuracy: 0.9034\n",
      "Epoch 67/80\n",
      "2646/2646 - 54s - loss: 0.3497 - accuracy: 0.9078\n",
      "Epoch 68/80\n",
      "2646/2646 - 53s - loss: 0.3424 - accuracy: 0.9094\n",
      "Epoch 69/80\n",
      "2646/2646 - 59s - loss: 0.3254 - accuracy: 0.9160\n",
      "Epoch 70/80\n",
      "2646/2646 - 54s - loss: 0.3103 - accuracy: 0.9204\n",
      "Epoch 71/80\n",
      "2646/2646 - 54s - loss: 0.2966 - accuracy: 0.9249\n",
      "Epoch 72/80\n",
      "2646/2646 - 60s - loss: 0.2863 - accuracy: 0.9277\n",
      "Epoch 73/80\n",
      "2646/2646 - 57s - loss: 0.2776 - accuracy: 0.9302\n",
      "Epoch 74/80\n",
      "2646/2646 - 59s - loss: 0.2762 - accuracy: 0.9292\n",
      "Epoch 75/80\n",
      "2646/2646 - 54s - loss: 0.2589 - accuracy: 0.9351\n",
      "Epoch 76/80\n",
      "2646/2646 - 56s - loss: 0.2493 - accuracy: 0.9385\n",
      "Epoch 77/80\n",
      "2646/2646 - 54s - loss: 0.2372 - accuracy: 0.9422\n",
      "Epoch 78/80\n",
      "2646/2646 - 57s - loss: 0.2325 - accuracy: 0.9429\n",
      "Epoch 79/80\n",
      "2646/2646 - 55s - loss: 0.2238 - accuracy: 0.9450\n",
      "Epoch 80/80\n",
      "2646/2646 - 49s - loss: 0.2150 - accuracy: 0.9479\n"
     ]
    },
    {
     "data": {
      "text/plain": [
       "<tensorflow.python.keras.callbacks.History at 0x1667ec55cc8>"
      ]
     },
     "execution_count": 22,
     "metadata": {},
     "output_type": "execute_result"
    }
   ],
   "source": [
    "model.compile(loss='categorical_crossentropy', optimizer='adam', metrics=['accuracy'])\n",
    "model.fit(train_X, train_y, epochs=80, verbose=2)"
   ]
  },
  {
   "cell_type": "code",
   "execution_count": 25,
   "metadata": {},
   "outputs": [],
   "source": [
    "def sentence_generation(model, length):\n",
    "    ix = [np.random.randint(vocab_size)] # 글자에 대한 랜덤 인덱스 생성\n",
    "    y_char = [index_to_char[ix[-1]]] # 랜덤 익덱스로부터 글자 생성\n",
    "    print(ix[-1],'번 글자',y_char[-1],'로 예측을 시작!')\n",
    "    X = np.zeros((1, length, vocab_size)) # (1, length, 55) 크기의 X 생성. 즉, LSTM의 입력 시퀀스 생성\n",
    "\n",
    "    for i in range(length):\n",
    "        X[0][i][ix[-1]] = 1 # X[0][i][예측한 글자의 인덱스] = 1, 즉, 예측 글자를 다음 입력 시퀀스에 추가\n",
    "        print(index_to_char[ix[-1]], end=\"\")\n",
    "        ix = np.argmax(model.predict(X[:, :i+1, :])[0], 1)\n",
    "        y_char.append(index_to_char[ix[-1]])\n",
    "    return ('').join(y_char)"
   ]
  },
  {
   "cell_type": "code",
   "execution_count": 30,
   "metadata": {},
   "outputs": [
    {
     "name": "stdout",
     "output_type": "stream",
     "text": [
      "19 번 글자 7 로 예측을 시작!\n",
      "7 a large right distes of heardly in a very prodie-to--obrew, ho one of them attend! said alice very"
     ]
    },
    {
     "data": {
      "text/plain": [
       "'7 a large right distes of heardly in a very prodie-to--obrew, ho one of them attend! said alice very '"
      ]
     },
     "execution_count": 30,
     "metadata": {},
     "output_type": "execute_result"
    }
   ],
   "source": [
    "sentence_generation(model, 100)"
   ]
  },
  {
   "cell_type": "markdown",
   "metadata": {},
   "source": [
    "### 글자 단위 RNN(Char RNN)으로 텍스트 생성하기"
   ]
  },
  {
   "cell_type": "markdown",
   "metadata": {},
   "source": [
    "#### 1) 데이터에 대한 이해와 전처리"
   ]
  },
  {
   "cell_type": "code",
   "execution_count": 36,
   "metadata": {},
   "outputs": [],
   "source": [
    "import numpy as np\n",
    "from tensorflow.keras.utils import to_categorical"
   ]
  },
  {
   "cell_type": "code",
   "execution_count": 37,
   "metadata": {},
   "outputs": [],
   "source": [
    "text='''\n",
    "I get on with life as a programmer,\n",
    "I like to contemplate beer.\n",
    "But when I start to daydream,\n",
    "My mind turns straight to wine.\n",
    "\n",
    "Do I love wine more than beer?\n",
    "\n",
    "I like to use words about beer.\n",
    "But when I stop my talking,\n",
    "My mind turns straight to wine.\n",
    "\n",
    "I hate bugs and errors.\n",
    "But I just think back to wine,\n",
    "And I'm happy once again.\n",
    "\n",
    "I like to hang out with programming and deep learning.\n",
    "But when left alone,\n",
    "My mind turns straight to wine.\n",
    "'''"
   ]
  },
  {
   "cell_type": "code",
   "execution_count": 38,
   "metadata": {},
   "outputs": [
    {
     "data": {
      "text/plain": [
       "\"\\nI get on with life as a programmer,\\nI like to contemplate beer.\\nBut when I start to daydream,\\nMy mind turns straight to wine.\\n\\nDo I love wine more than beer?\\n\\nI like to use words about beer.\\nBut when I stop my talking,\\nMy mind turns straight to wine.\\n\\nI hate bugs and errors.\\nBut I just think back to wine,\\nAnd I'm happy once again.\\n\\nI like to hang out with programming and deep learning.\\nBut when left alone,\\nMy mind turns straight to wine.\\n\""
      ]
     },
     "execution_count": 38,
     "metadata": {},
     "output_type": "execute_result"
    }
   ],
   "source": [
    "text"
   ]
  },
  {
   "cell_type": "code",
   "execution_count": 43,
   "metadata": {},
   "outputs": [
    {
     "data": {
      "text/plain": [
       "\"I get on with life as a programmer, I like to contemplate beer. But when I start to daydream, My mind turns straight to wine. Do I love wine more than beer? I like to use words about beer. But when I stop my talking, My mind turns straight to wine. I hate bugs and errors. But I just think back to wine, And I'm happy once again. I like to hang out with programming and deep learning. But when left alone, My mind turns straight to wine.\""
      ]
     },
     "execution_count": 43,
     "metadata": {},
     "output_type": "execute_result"
    }
   ],
   "source": [
    "tokens = text.split()\n",
    "text = ' '.join(tokens)\n",
    "text"
   ]
  },
  {
   "cell_type": "code",
   "execution_count": 45,
   "metadata": {},
   "outputs": [
    {
     "name": "stdout",
     "output_type": "stream",
     "text": [
      "[' ', \"'\", ',', '.', '?', 'A', 'B', 'D', 'I', 'M', 'a', 'b', 'c', 'd', 'e', 'f', 'g', 'h', 'i', 'j', 'k', 'l', 'm', 'n', 'o', 'p', 'r', 's', 't', 'u', 'v', 'w', 'y']\n"
     ]
    }
   ],
   "source": [
    "char_vocab = sorted(list(set(text))) # 중복을 제거한 글자 집합 생성\n",
    "print(char_vocab)"
   ]
  },
  {
   "cell_type": "code",
   "execution_count": 46,
   "metadata": {},
   "outputs": [
    {
     "name": "stdout",
     "output_type": "stream",
     "text": [
      "글자 집합의 크기 : 33\n"
     ]
    }
   ],
   "source": [
    "vocab_size=len(char_vocab)\n",
    "print ('글자 집합의 크기 : {}'.format(vocab_size))"
   ]
  },
  {
   "cell_type": "code",
   "execution_count": 47,
   "metadata": {},
   "outputs": [
    {
     "name": "stdout",
     "output_type": "stream",
     "text": [
      "{' ': 0, \"'\": 1, ',': 2, '.': 3, '?': 4, 'A': 5, 'B': 6, 'D': 7, 'I': 8, 'M': 9, 'a': 10, 'b': 11, 'c': 12, 'd': 13, 'e': 14, 'f': 15, 'g': 16, 'h': 17, 'i': 18, 'j': 19, 'k': 20, 'l': 21, 'm': 22, 'n': 23, 'o': 24, 'p': 25, 'r': 26, 's': 27, 't': 28, 'u': 29, 'v': 30, 'w': 31, 'y': 32}\n"
     ]
    }
   ],
   "source": [
    "char_to_index = dict((c, i) for i, c in enumerate(char_vocab))\n",
    "print(char_to_index)"
   ]
  },
  {
   "cell_type": "code",
   "execution_count": 48,
   "metadata": {},
   "outputs": [
    {
     "name": "stdout",
     "output_type": "stream",
     "text": [
      "총 훈련 샘플의 수 : 426\n"
     ]
    }
   ],
   "source": [
    "length = 11\n",
    "sequences = []\n",
    "for i in range(length, len(text)):\n",
    "    seq = text[i - length : i]\n",
    "    sequences.append(seq)\n",
    "print('총 훈련 샘플의 수 : %d' %len(sequences))"
   ]
  },
  {
   "cell_type": "code",
   "execution_count": 57,
   "metadata": {},
   "outputs": [
    {
     "data": {
      "text/plain": [
       "['I get on wi', ' get on wit', 'get on with', 'et on with ', 't on with l']"
      ]
     },
     "execution_count": 57,
     "metadata": {},
     "output_type": "execute_result"
    }
   ],
   "source": [
    "sequences[:5] # I get on with life as a programmer"
   ]
  },
  {
   "cell_type": "code",
   "execution_count": 55,
   "metadata": {},
   "outputs": [],
   "source": [
    "X = []\n",
    "for line in sequences:\n",
    "    temp_X = [char_to_index[char] for char in line]\n",
    "    X.append(temp_X)"
   ]
  },
  {
   "cell_type": "code",
   "execution_count": 56,
   "metadata": {},
   "outputs": [
    {
     "name": "stdout",
     "output_type": "stream",
     "text": [
      "[8, 0, 16, 14, 28, 0, 24, 23, 0, 31, 18]\n",
      "[0, 16, 14, 28, 0, 24, 23, 0, 31, 18, 28]\n",
      "[16, 14, 28, 0, 24, 23, 0, 31, 18, 28, 17]\n",
      "[14, 28, 0, 24, 23, 0, 31, 18, 28, 17, 0]\n",
      "[28, 0, 24, 23, 0, 31, 18, 28, 17, 0, 21]\n"
     ]
    }
   ],
   "source": [
    "for line in X[:5]:\n",
    "    print(line)"
   ]
  },
  {
   "cell_type": "code",
   "execution_count": 58,
   "metadata": {},
   "outputs": [],
   "source": [
    "sequences = np.array(X)\n",
    "X = sequences[:, :-1]\n",
    "y = sequences[:, -1]"
   ]
  },
  {
   "cell_type": "code",
   "execution_count": 59,
   "metadata": {},
   "outputs": [
    {
     "name": "stdout",
     "output_type": "stream",
     "text": [
      "[ 8  0 16 14 28  0 24 23  0 31]\n",
      "[ 0 16 14 28  0 24 23  0 31 18]\n",
      "[16 14 28  0 24 23  0 31 18 28]\n",
      "[14 28  0 24 23  0 31 18 28 17]\n",
      "[28  0 24 23  0 31 18 28 17  0]\n"
     ]
    }
   ],
   "source": [
    "for line in X[:5]:\n",
    "    print(line)"
   ]
  },
  {
   "cell_type": "code",
   "execution_count": 60,
   "metadata": {},
   "outputs": [
    {
     "name": "stdout",
     "output_type": "stream",
     "text": [
      "[18 28 17  0 21]\n"
     ]
    }
   ],
   "source": [
    "print(y[:5])"
   ]
  },
  {
   "cell_type": "code",
   "execution_count": 61,
   "metadata": {},
   "outputs": [],
   "source": [
    "sequences = [to_categorical(x, num_classes=vocab_size) for x in X]\n",
    "X = np.array(sequences)\n",
    "y = to_categorical(y, num_classes=vocab_size)"
   ]
  },
  {
   "cell_type": "code",
   "execution_count": 62,
   "metadata": {},
   "outputs": [
    {
     "name": "stdout",
     "output_type": "stream",
     "text": [
      "(426, 10, 33)\n"
     ]
    }
   ],
   "source": [
    "print(X.shape)"
   ]
  },
  {
   "attachments": {
    "image.png": {
     "image/png": "[encoded data removed]"
    }
   },
   "cell_type": "markdown",
   "metadata": {},
   "source": [
    "![image.png](attachment:image.png)"
   ]
  },
  {
   "cell_type": "markdown",
   "metadata": {},
   "source": [
    "샘플의 수(No. of samples)가 426개, 입력 시퀀스의 길이(input_length)가 10, 각 벡터의 차원(input_dim)이 33임을 의미합니다."
   ]
  },
  {
   "cell_type": "markdown",
   "metadata": {},
   "source": [
    "#### 2) 모델 설계하기"
   ]
  },
  {
   "cell_type": "code",
   "execution_count": 63,
   "metadata": {},
   "outputs": [],
   "source": [
    "from tensorflow.keras.models import Sequential\n",
    "from tensorflow.keras.layers import Dense, LSTM\n",
    "from tensorflow.keras.preprocessing.sequence import pad_sequences"
   ]
  },
  {
   "cell_type": "code",
   "execution_count": 65,
   "metadata": {},
   "outputs": [],
   "source": [
    "model = Sequential()\n",
    "model.add(LSTM(80, input_shape=(X.shape[1], X.shape[2])))\n",
    "model.add(Dense(vocab_size, activation='softmax'))"
   ]
  },
  {
   "cell_type": "code",
   "execution_count": 67,
   "metadata": {},
   "outputs": [
    {
     "name": "stdout",
     "output_type": "stream",
     "text": [
      "Train on 426 samples\n",
      "Epoch 1/100\n",
      "426/426 - 3s - loss: 3.4620 - accuracy: 0.1244\n",
      "Epoch 2/100\n",
      "426/426 - 0s - loss: 3.2985 - accuracy: 0.1972\n",
      "Epoch 3/100\n",
      "426/426 - 0s - loss: 3.0556 - accuracy: 0.1972\n",
      "Epoch 4/100\n",
      "426/426 - 0s - loss: 2.9822 - accuracy: 0.1972\n",
      "Epoch 5/100\n",
      "426/426 - 0s - loss: 2.9519 - accuracy: 0.1972\n",
      "Epoch 6/100\n",
      "426/426 - 0s - loss: 2.9369 - accuracy: 0.1972\n",
      "Epoch 7/100\n",
      "426/426 - 0s - loss: 2.9157 - accuracy: 0.1972\n",
      "Epoch 8/100\n",
      "426/426 - 0s - loss: 2.9039 - accuracy: 0.1972\n",
      "Epoch 9/100\n",
      "426/426 - 0s - loss: 2.8828 - accuracy: 0.1972\n",
      "Epoch 10/100\n",
      "426/426 - 0s - loss: 2.8698 - accuracy: 0.1972\n",
      "Epoch 11/100\n",
      "426/426 - 0s - loss: 2.8305 - accuracy: 0.2089\n",
      "Epoch 12/100\n",
      "426/426 - 0s - loss: 2.8036 - accuracy: 0.2042\n",
      "Epoch 13/100\n",
      "426/426 - 0s - loss: 2.7633 - accuracy: 0.2113\n",
      "Epoch 14/100\n",
      "426/426 - 0s - loss: 2.7073 - accuracy: 0.2136\n",
      "Epoch 15/100\n",
      "426/426 - 0s - loss: 2.6624 - accuracy: 0.2770\n",
      "Epoch 16/100\n",
      "426/426 - 0s - loss: 2.6292 - accuracy: 0.2629\n",
      "Epoch 17/100\n",
      "426/426 - 0s - loss: 2.5524 - accuracy: 0.2653\n",
      "Epoch 18/100\n",
      "426/426 - 0s - loss: 2.4900 - accuracy: 0.3075\n",
      "Epoch 19/100\n",
      "426/426 - 0s - loss: 2.4322 - accuracy: 0.3380\n",
      "Epoch 20/100\n",
      "426/426 - 0s - loss: 2.3838 - accuracy: 0.3380\n",
      "Epoch 21/100\n",
      "426/426 - 0s - loss: 2.3402 - accuracy: 0.3451\n",
      "Epoch 22/100\n",
      "426/426 - 0s - loss: 2.2791 - accuracy: 0.3662\n",
      "Epoch 23/100\n",
      "426/426 - 0s - loss: 2.2632 - accuracy: 0.3357\n",
      "Epoch 24/100\n",
      "426/426 - 0s - loss: 2.1973 - accuracy: 0.3662\n",
      "Epoch 25/100\n",
      "426/426 - 0s - loss: 2.1576 - accuracy: 0.3826\n",
      "Epoch 26/100\n",
      "426/426 - 0s - loss: 2.0952 - accuracy: 0.4225\n",
      "Epoch 27/100\n",
      "426/426 - 0s - loss: 2.0612 - accuracy: 0.4390\n",
      "Epoch 28/100\n",
      "426/426 - 0s - loss: 2.0175 - accuracy: 0.4343\n",
      "Epoch 29/100\n",
      "426/426 - 0s - loss: 1.9622 - accuracy: 0.4624\n",
      "Epoch 30/100\n",
      "426/426 - 0s - loss: 1.9416 - accuracy: 0.4437\n",
      "Epoch 31/100\n",
      "426/426 - 0s - loss: 1.8674 - accuracy: 0.4883\n",
      "Epoch 32/100\n",
      "426/426 - 0s - loss: 1.8377 - accuracy: 0.5282\n",
      "Epoch 33/100\n",
      "426/426 - 0s - loss: 1.7826 - accuracy: 0.5000\n",
      "Epoch 34/100\n",
      "426/426 - 0s - loss: 1.7547 - accuracy: 0.5329\n",
      "Epoch 35/100\n",
      "426/426 - 0s - loss: 1.6905 - accuracy: 0.5563\n",
      "Epoch 36/100\n",
      "426/426 - 0s - loss: 1.6696 - accuracy: 0.5563\n",
      "Epoch 37/100\n",
      "426/426 - 0s - loss: 1.6340 - accuracy: 0.5634\n",
      "Epoch 38/100\n",
      "426/426 - 0s - loss: 1.5909 - accuracy: 0.5915\n",
      "Epoch 39/100\n",
      "426/426 - 0s - loss: 1.5286 - accuracy: 0.6150\n",
      "Epoch 40/100\n",
      "426/426 - 0s - loss: 1.5087 - accuracy: 0.5915\n",
      "Epoch 41/100\n",
      "426/426 - 0s - loss: 1.4604 - accuracy: 0.6244\n",
      "Epoch 42/100\n",
      "426/426 - 0s - loss: 1.4271 - accuracy: 0.6197\n",
      "Epoch 43/100\n",
      "426/426 - 0s - loss: 1.3673 - accuracy: 0.6549\n",
      "Epoch 44/100\n",
      "426/426 - 0s - loss: 1.3327 - accuracy: 0.6643\n",
      "Epoch 45/100\n",
      "426/426 - 0s - loss: 1.2997 - accuracy: 0.6643\n",
      "Epoch 46/100\n",
      "426/426 - 0s - loss: 1.2694 - accuracy: 0.6972\n",
      "Epoch 47/100\n",
      "426/426 - 0s - loss: 1.2347 - accuracy: 0.6761\n",
      "Epoch 48/100\n",
      "426/426 - 0s - loss: 1.2381 - accuracy: 0.6995\n",
      "Epoch 49/100\n",
      "426/426 - 0s - loss: 1.1620 - accuracy: 0.7136\n",
      "Epoch 50/100\n",
      "426/426 - 0s - loss: 1.1108 - accuracy: 0.7254\n",
      "Epoch 51/100\n",
      "426/426 - 0s - loss: 1.0630 - accuracy: 0.7465\n",
      "Epoch 52/100\n",
      "426/426 - 0s - loss: 1.0281 - accuracy: 0.7653\n",
      "Epoch 53/100\n",
      "426/426 - 0s - loss: 0.9866 - accuracy: 0.7793\n",
      "Epoch 54/100\n",
      "426/426 - 0s - loss: 0.9566 - accuracy: 0.7911\n",
      "Epoch 55/100\n",
      "426/426 - 0s - loss: 0.9149 - accuracy: 0.7887\n",
      "Epoch 56/100\n",
      "426/426 - 0s - loss: 0.8890 - accuracy: 0.8122\n",
      "Epoch 57/100\n",
      "426/426 - 0s - loss: 0.8468 - accuracy: 0.8239\n",
      "Epoch 58/100\n",
      "426/426 - 0s - loss: 0.8295 - accuracy: 0.8169\n",
      "Epoch 59/100\n",
      "426/426 - 0s - loss: 0.7773 - accuracy: 0.8568\n",
      "Epoch 60/100\n",
      "426/426 - 0s - loss: 0.7567 - accuracy: 0.8286\n",
      "Epoch 61/100\n",
      "426/426 - 0s - loss: 0.7250 - accuracy: 0.8568\n",
      "Epoch 62/100\n",
      "426/426 - 0s - loss: 0.7105 - accuracy: 0.8521\n",
      "Epoch 63/100\n",
      "426/426 - 0s - loss: 0.6848 - accuracy: 0.8662\n",
      "Epoch 64/100\n",
      "426/426 - 0s - loss: 0.6421 - accuracy: 0.8732\n",
      "Epoch 65/100\n",
      "426/426 - 0s - loss: 0.6249 - accuracy: 0.8732\n",
      "Epoch 66/100\n",
      "426/426 - 0s - loss: 0.5940 - accuracy: 0.8967\n",
      "Epoch 67/100\n",
      "426/426 - 0s - loss: 0.5713 - accuracy: 0.8920\n",
      "Epoch 68/100\n",
      "426/426 - 0s - loss: 0.5526 - accuracy: 0.8991\n",
      "Epoch 69/100\n",
      "426/426 - 0s - loss: 0.5397 - accuracy: 0.8991\n",
      "Epoch 70/100\n",
      "426/426 - 0s - loss: 0.5135 - accuracy: 0.9202\n",
      "Epoch 71/100\n",
      "426/426 - 0s - loss: 0.4926 - accuracy: 0.9272\n",
      "Epoch 72/100\n",
      "426/426 - 0s - loss: 0.4707 - accuracy: 0.9319\n",
      "Epoch 73/100\n",
      "426/426 - 0s - loss: 0.4453 - accuracy: 0.9437\n",
      "Epoch 74/100\n",
      "426/426 - 0s - loss: 0.4301 - accuracy: 0.9390\n",
      "Epoch 75/100\n",
      "426/426 - 0s - loss: 0.4093 - accuracy: 0.9437\n",
      "Epoch 76/100\n",
      "426/426 - 0s - loss: 0.4031 - accuracy: 0.9531\n",
      "Epoch 77/100\n",
      "426/426 - 0s - loss: 0.3760 - accuracy: 0.9648\n",
      "Epoch 78/100\n",
      "426/426 - 0s - loss: 0.3772 - accuracy: 0.9577\n",
      "Epoch 79/100\n",
      "426/426 - 0s - loss: 0.3640 - accuracy: 0.9577\n",
      "Epoch 80/100\n",
      "426/426 - 0s - loss: 0.3526 - accuracy: 0.9648\n",
      "Epoch 81/100\n",
      "426/426 - 0s - loss: 0.3369 - accuracy: 0.9648\n",
      "Epoch 82/100\n",
      "426/426 - 0s - loss: 0.3109 - accuracy: 0.9718\n",
      "Epoch 83/100\n",
      "426/426 - 0s - loss: 0.3054 - accuracy: 0.9765\n",
      "Epoch 84/100\n",
      "426/426 - 0s - loss: 0.3022 - accuracy: 0.9671\n",
      "Epoch 85/100\n",
      "426/426 - 0s - loss: 0.2859 - accuracy: 0.9742\n",
      "Epoch 86/100\n",
      "426/426 - 0s - loss: 0.2719 - accuracy: 0.9765\n",
      "Epoch 87/100\n",
      "426/426 - 0s - loss: 0.2578 - accuracy: 0.9812\n",
      "Epoch 88/100\n",
      "426/426 - 0s - loss: 0.2484 - accuracy: 0.9765\n",
      "Epoch 89/100\n",
      "426/426 - 0s - loss: 0.2399 - accuracy: 0.9836\n",
      "Epoch 90/100\n",
      "426/426 - 0s - loss: 0.2335 - accuracy: 0.9836\n",
      "Epoch 91/100\n",
      "426/426 - 0s - loss: 0.2236 - accuracy: 0.9812\n",
      "Epoch 92/100\n",
      "426/426 - 0s - loss: 0.2259 - accuracy: 0.9765\n",
      "Epoch 93/100\n",
      "426/426 - 0s - loss: 0.2279 - accuracy: 0.9812\n",
      "Epoch 94/100\n",
      "426/426 - 0s - loss: 0.2239 - accuracy: 0.9718\n",
      "Epoch 95/100\n",
      "426/426 - 0s - loss: 0.2027 - accuracy: 0.9836\n",
      "Epoch 96/100\n",
      "426/426 - 0s - loss: 0.1959 - accuracy: 0.9765\n",
      "Epoch 97/100\n",
      "426/426 - 0s - loss: 0.1891 - accuracy: 0.9765\n",
      "Epoch 98/100\n",
      "426/426 - 0s - loss: 0.1823 - accuracy: 0.9836\n",
      "Epoch 99/100\n",
      "426/426 - 0s - loss: 0.1736 - accuracy: 0.9859\n",
      "Epoch 100/100\n",
      "426/426 - 0s - loss: 0.1786 - accuracy: 0.9742\n"
     ]
    },
    {
     "data": {
      "text/plain": [
       "<tensorflow.python.keras.callbacks.History at 0x166af038b88>"
      ]
     },
     "execution_count": 67,
     "metadata": {},
     "output_type": "execute_result"
    }
   ],
   "source": [
    "model.compile(loss='categorical_crossentropy', optimizer='adam', metrics=['accuracy'])\n",
    "model.fit(X, y, epochs=100, verbose=2)"
   ]
  },
  {
   "cell_type": "code",
   "execution_count": 70,
   "metadata": {},
   "outputs": [],
   "source": [
    "def sentence_generation(model, char_to_index, seq_length, seed_text, n):\n",
    "    # 모델, 인덱스 정보, 문장 길이, 초기 시퀀스, 반복 횟수\n",
    "    init_text = seed_text\n",
    "    sentence = ''\n",
    "    \n",
    "    for _ in range(n):\n",
    "        encoded = [char_to_index[char] for char in seed_text] # 현재 시퀀스에 대한 정수 인코딩\n",
    "        encoded = pad_sequences([encoded], maxlen=seq_length, padding='pre') # 데이터에 대한 패딩\n",
    "        encoded = to_categorical(encoded, num_classes=len(char_to_index))\n",
    "        result = model.predict_classes(encoded, verbose=0)\n",
    "        # 입력한 X(현재 시퀀스)에 대해서 y를 예측하고 y(예측한 글자)를 result에 저장.\n",
    "        \n",
    "        for char, index in char_to_index.items():\n",
    "            if index == result:\n",
    "                break\n",
    "        seed_text = seed_text + char # 현재 시퀀스 + 예측 글자를 현재 시퀀스로 변경\n",
    "        sentence = sentence + char # 예측 글자를 문장에 저장\n",
    "         \n",
    "    sentence = init_text + sentence\n",
    "    return sentence"
   ]
  },
  {
   "cell_type": "code",
   "execution_count": 71,
   "metadata": {},
   "outputs": [
    {
     "name": "stdout",
     "output_type": "stream",
     "text": [
      "I get on with life as a programmer, I like to csnt aoong time moon eenep. laanee, M Minnd \n"
     ]
    }
   ],
   "source": [
    "print(sentence_generation(model, char_to_index, 10, 'I get on w', 80))"
   ]
  }
 ],
 "metadata": {
  "kernelspec": {
   "display_name": "protf",
   "language": "python",
   "name": "protf"
  },
  "language_info": {
   "codemirror_mode": {
    "name": "ipython",
    "version": 3
   },
   "file_extension": ".py",
   "mimetype": "text/x-python",
   "name": "python",
   "nbconvert_exporter": "python",
   "pygments_lexer": "ipython3",
   "version": "3.7.4"
  }
 },
 "nbformat": 4,
 "nbformat_minor": 2
}
